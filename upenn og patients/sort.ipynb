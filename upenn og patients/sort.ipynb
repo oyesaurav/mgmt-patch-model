{
 "cells": [
  {
   "cell_type": "code",
   "execution_count": 1,
   "metadata": {},
   "outputs": [],
   "source": [
    "import pandas as pd\n",
    "import numpy as np\n",
    "import os"
   ]
  },
  {
   "cell_type": "code",
   "execution_count": 2,
   "metadata": {},
   "outputs": [],
   "source": [
    "data1 = pd.read_csv('data1.csv')\n",
    "data2 = pd.read_csv('data2.csv')"
   ]
  },
  {
   "cell_type": "code",
   "execution_count": 47,
   "metadata": {},
   "outputs": [
    {
     "data": {
      "text/html": [
       "<div>\n",
       "<style scoped>\n",
       "    .dataframe tbody tr th:only-of-type {\n",
       "        vertical-align: middle;\n",
       "    }\n",
       "\n",
       "    .dataframe tbody tr th {\n",
       "        vertical-align: top;\n",
       "    }\n",
       "\n",
       "    .dataframe thead th {\n",
       "        text-align: right;\n",
       "    }\n",
       "</style>\n",
       "<table border=\"1\" class=\"dataframe\">\n",
       "  <thead>\n",
       "    <tr style=\"text-align: right;\">\n",
       "      <th></th>\n",
       "      <th>ID</th>\n",
       "      <th>Gender</th>\n",
       "      <th>Age_at_scan_years</th>\n",
       "      <th>Survival_from_surgery_days</th>\n",
       "      <th>IDH1</th>\n",
       "      <th>MGMT</th>\n",
       "      <th>outsideImaging</th>\n",
       "      <th>prior_biopsy</th>\n",
       "      <th>alive</th>\n",
       "    </tr>\n",
       "  </thead>\n",
       "  <tbody>\n",
       "    <tr>\n",
       "      <th>735</th>\n",
       "      <td>ADBE_2020.01.30</td>\n",
       "      <td>F</td>\n",
       "      <td>64.18</td>\n",
       "      <td>NaN</td>\n",
       "      <td>Wildtype</td>\n",
       "      <td>Positive</td>\n",
       "      <td>NaN</td>\n",
       "      <td>NaN</td>\n",
       "      <td>y</td>\n",
       "    </tr>\n",
       "  </tbody>\n",
       "</table>\n",
       "</div>"
      ],
      "text/plain": [
       "                  ID Gender  Age_at_scan_years  Survival_from_surgery_days  \\\n",
       "735  ADBE_2020.01.30      F              64.18                         NaN   \n",
       "\n",
       "         IDH1      MGMT outsideImaging prior_biopsy alive  \n",
       "735  Wildtype  Positive            NaN          NaN     y  "
      ]
     },
     "execution_count": 47,
     "metadata": {},
     "output_type": "execute_result"
    }
   ],
   "source": [
    "data2.loc[data2.ID == 'ADBE_2020.01.30']"
   ]
  },
  {
   "cell_type": "code",
   "execution_count": 40,
   "metadata": {},
   "outputs": [
    {
     "data": {
      "text/html": [
       "<div>\n",
       "<style scoped>\n",
       "    .dataframe tbody tr th:only-of-type {\n",
       "        vertical-align: middle;\n",
       "    }\n",
       "\n",
       "    .dataframe tbody tr th {\n",
       "        vertical-align: top;\n",
       "    }\n",
       "\n",
       "    .dataframe thead th {\n",
       "        text-align: right;\n",
       "    }\n",
       "</style>\n",
       "<table border=\"1\" class=\"dataframe\">\n",
       "  <thead>\n",
       "    <tr style=\"text-align: right;\">\n",
       "      <th></th>\n",
       "      <th>ID_Train</th>\n",
       "      <th>MGMT</th>\n",
       "      <th>Survival</th>\n",
       "      <th>MGMT.1</th>\n",
       "      <th>Alive</th>\n",
       "    </tr>\n",
       "  </thead>\n",
       "  <tbody>\n",
       "    <tr>\n",
       "      <th>0</th>\n",
       "      <td>AASK_2013.08.26</td>\n",
       "      <td>0</td>\n",
       "      <td>528.0</td>\n",
       "      <td>Not Detected</td>\n",
       "      <td>n</td>\n",
       "    </tr>\n",
       "    <tr>\n",
       "      <th>1</th>\n",
       "      <td>AASM_2014.03.07</td>\n",
       "      <td>0</td>\n",
       "      <td>NaN</td>\n",
       "      <td>Not Detected</td>\n",
       "      <td>y</td>\n",
       "    </tr>\n",
       "    <tr>\n",
       "      <th>2</th>\n",
       "      <td>AASN_2014.04.22</td>\n",
       "      <td>0</td>\n",
       "      <td>411.0</td>\n",
       "      <td>Not Detected</td>\n",
       "      <td>n</td>\n",
       "    </tr>\n",
       "    <tr>\n",
       "      <th>3</th>\n",
       "      <td>AASO_2014.05.11</td>\n",
       "      <td>0</td>\n",
       "      <td>270.0</td>\n",
       "      <td>Not Detected</td>\n",
       "      <td>n</td>\n",
       "    </tr>\n",
       "    <tr>\n",
       "      <th>4</th>\n",
       "      <td>AASQ_2013.08.25</td>\n",
       "      <td>0</td>\n",
       "      <td>351.0</td>\n",
       "      <td>Not Detected</td>\n",
       "      <td>n</td>\n",
       "    </tr>\n",
       "    <tr>\n",
       "      <th>...</th>\n",
       "      <td>...</td>\n",
       "      <td>...</td>\n",
       "      <td>...</td>\n",
       "      <td>...</td>\n",
       "      <td>...</td>\n",
       "    </tr>\n",
       "    <tr>\n",
       "      <th>75</th>\n",
       "      <td>ABKI_2014.04.11</td>\n",
       "      <td>0</td>\n",
       "      <td>765.0</td>\n",
       "      <td>Not Detected</td>\n",
       "      <td>n</td>\n",
       "    </tr>\n",
       "    <tr>\n",
       "      <th>76</th>\n",
       "      <td>ABKU_2016.01.31</td>\n",
       "      <td>0</td>\n",
       "      <td>136.0</td>\n",
       "      <td>Not Detected</td>\n",
       "      <td>n</td>\n",
       "    </tr>\n",
       "    <tr>\n",
       "      <th>77</th>\n",
       "      <td>ABKV_2016.02.03</td>\n",
       "      <td>0</td>\n",
       "      <td>374.0</td>\n",
       "      <td>Not Detected</td>\n",
       "      <td>n</td>\n",
       "    </tr>\n",
       "    <tr>\n",
       "      <th>78</th>\n",
       "      <td>ABKX_2016.02.13</td>\n",
       "      <td>0</td>\n",
       "      <td>166.0</td>\n",
       "      <td>Not Detected</td>\n",
       "      <td>n</td>\n",
       "    </tr>\n",
       "    <tr>\n",
       "      <th>79</th>\n",
       "      <td>ABLA_2016.02.21</td>\n",
       "      <td>0</td>\n",
       "      <td>125.0</td>\n",
       "      <td>Not Detected</td>\n",
       "      <td>n</td>\n",
       "    </tr>\n",
       "  </tbody>\n",
       "</table>\n",
       "<p>80 rows × 5 columns</p>\n",
       "</div>"
      ],
      "text/plain": [
       "           ID_Train  MGMT  Survival        MGMT.1 Alive\n",
       "0   AASK_2013.08.26     0     528.0  Not Detected     n\n",
       "1   AASM_2014.03.07     0       NaN  Not Detected     y\n",
       "2   AASN_2014.04.22     0     411.0  Not Detected     n\n",
       "3   AASO_2014.05.11     0     270.0  Not Detected     n\n",
       "4   AASQ_2013.08.25     0     351.0  Not Detected     n\n",
       "..              ...   ...       ...           ...   ...\n",
       "75  ABKI_2014.04.11     0     765.0  Not Detected     n\n",
       "76  ABKU_2016.01.31     0     136.0  Not Detected     n\n",
       "77  ABKV_2016.02.03     0     374.0  Not Detected     n\n",
       "78  ABKX_2016.02.13     0     166.0  Not Detected     n\n",
       "79  ABLA_2016.02.21     0     125.0  Not Detected     n\n",
       "\n",
       "[80 rows x 5 columns]"
      ]
     },
     "execution_count": 40,
     "metadata": {},
     "output_type": "execute_result"
    }
   ],
   "source": [
    "data1.head(80)"
   ]
  },
  {
   "cell_type": "code",
   "execution_count": 39,
   "metadata": {},
   "outputs": [],
   "source": [
    "for patient in range(len(data1)):\n",
    "    # find details of data1.ID_Train[patient] in data2\n",
    "    # print(data2.loc[data2.ID == data1.ID_Train[patient]])\n",
    "    data1.loc[patient, 'Survival'] = data2.loc[data2.ID == data1.ID_Train[patient]].Survival_from_surgery_days.values[0]\n",
    "    data1.loc[patient, 'Alive'] = data2.loc[data2.ID == data1.ID_Train[patient]].alive.values[0]\n",
    "    data1.loc[patient, 'MGMT.1'] = data2.loc[data2.ID == data1.ID_Train[patient]].MGMT.values[0]\n",
    "\n"
   ]
  },
  {
   "cell_type": "code",
   "execution_count": 48,
   "metadata": {},
   "outputs": [],
   "source": [
    "#replace NaN with NA in data1\n",
    "data1 = data1.fillna('NA')"
   ]
  },
  {
   "cell_type": "code",
   "execution_count": null,
   "metadata": {},
   "outputs": [],
   "source": [
    "data1.head(30)"
   ]
  },
  {
   "cell_type": "code",
   "execution_count": 43,
   "metadata": {},
   "outputs": [],
   "source": [
    "data1.to_csv('data1.csv', index=False)"
   ]
  }
 ],
 "metadata": {
  "kernelspec": {
   "display_name": "base",
   "language": "python",
   "name": "python3"
  },
  "language_info": {
   "codemirror_mode": {
    "name": "ipython",
    "version": 3
   },
   "file_extension": ".py",
   "mimetype": "text/x-python",
   "name": "python",
   "nbconvert_exporter": "python",
   "pygments_lexer": "ipython3",
   "version": "3.8.5"
  }
 },
 "nbformat": 4,
 "nbformat_minor": 2
}
