{
 "cells": [
  {
   "cell_type": "code",
   "execution_count": 33,
   "metadata": {},
   "outputs": [
    {
     "name": "stdout",
     "output_type": "stream",
     "text": [
      "/Users/vitthal/Documents/Research/DataScience/MedicalResearch/mgmt\n"
     ]
    }
   ],
   "source": [
    "# Setting the root directory\n",
    "%cd /Users/vitthal/Documents/Research/DataScience/MedicalResearch/mgmt"
   ]
  },
  {
   "cell_type": "code",
   "execution_count": 34,
   "metadata": {},
   "outputs": [],
   "source": [
    "# Variable definations\n",
    "import pandas as pd\n",
    "path = '/Users/vitthal/Documents/Research/DataScience/MedicalResearch/mgmt/'\n",
    "\n",
    "CATEGORIES = ['MGMT_negative', 'MGMT_positive']\n",
    "\n",
    "block_h, block_w = (224, 224)\n",
    "# Stride was used for patch wise classification of images\n",
    "# stride = 3\n",
    "\n",
    "Case_Num = 5"
   ]
  },
  {
   "cell_type": "code",
   "execution_count": 35,
   "metadata": {},
   "outputs": [],
   "source": [
    "# Labelling the dataframes for classification\n",
    "import pandas as pd\n",
    "import numpy as np\n",
    "\n",
    "def label(df_patient_mgmtpos, df_patient_mgmtneg):\n",
    "    df_patient_mgmt_final = pd.concat([df_patient_mgmtpos, df_patient_mgmtneg], axis= 0)\n",
    "    arr_patient_mgmt = df_patient_mgmt_final.to_numpy()\n",
    "    # print(type(arr_patient_mgmt))\n",
    "    label = np.zeros(df_patient_mgmtpos.shape[0]+ df_patient_mgmtneg.shape[0] )\n",
    "    for i in range(df_patient_mgmtpos.shape[0]):\n",
    "        label[i] = 1\n",
    "    # print(type(label), label.shape)\n",
    "    # print(label)\n",
    "    return arr_patient_mgmt, label"
   ]
  },
  {
   "cell_type": "code",
   "execution_count": 36,
   "metadata": {},
   "outputs": [
    {
     "name": "stdout",
     "output_type": "stream",
     "text": [
      "Computing Case_5 : \n"
     ]
    },
    {
     "name": "stderr",
     "output_type": "stream",
     "text": [
      "/Users/vitthal/miniforge3/lib/python3.10/site-packages/scipy/__init__.py:146: UserWarning: A NumPy version >=1.16.5 and <1.23.0 is required for this version of SciPy (detected version 1.23.2\n",
      "  warnings.warn(f\"A NumPy version >={np_minversion} and <{np_maxversion}\"\n",
      "/Users/vitthal/miniforge3/lib/python3.10/site-packages/scipy/__init__.py:146: UserWarning: A NumPy version >=1.16.5 and <1.23.0 is required for this version of SciPy (detected version 1.23.2\n",
      "  warnings.warn(f\"A NumPy version >={np_minversion} and <{np_maxversion}\"\n",
      "/Users/vitthal/miniforge3/lib/python3.10/site-packages/scipy/__init__.py:146: UserWarning: A NumPy version >=1.16.5 and <1.23.0 is required for this version of SciPy (detected version 1.23.2\n",
      "  warnings.warn(f\"A NumPy version >={np_minversion} and <{np_maxversion}\"\n",
      "/Users/vitthal/miniforge3/lib/python3.10/site-packages/scipy/__init__.py:146: UserWarning: A NumPy version >=1.16.5 and <1.23.0 is required for this version of SciPy (detected version 1.23.2\n",
      "  warnings.warn(f\"A NumPy version >={np_minversion} and <{np_maxversion}\"\n",
      "/Users/vitthal/miniforge3/lib/python3.10/site-packages/scipy/__init__.py:146: UserWarning: A NumPy version >=1.16.5 and <1.23.0 is required for this version of SciPy (detected version 1.23.2\n",
      "  warnings.warn(f\"A NumPy version >={np_minversion} and <{np_maxversion}\"\n",
      "/Users/vitthal/miniforge3/lib/python3.10/site-packages/scipy/__init__.py:146: UserWarning: A NumPy version >=1.16.5 and <1.23.0 is required for this version of SciPy (detected version 1.23.2\n",
      "  warnings.warn(f\"A NumPy version >={np_minversion} and <{np_maxversion}\"\n",
      "/Users/vitthal/miniforge3/lib/python3.10/site-packages/scipy/__init__.py:146: UserWarning: A NumPy version >=1.16.5 and <1.23.0 is required for this version of SciPy (detected version 1.23.2\n",
      "  warnings.warn(f\"A NumPy version >={np_minversion} and <{np_maxversion}\"\n",
      "/Users/vitthal/miniforge3/lib/python3.10/site-packages/scipy/__init__.py:146: UserWarning: A NumPy version >=1.16.5 and <1.23.0 is required for this version of SciPy (detected version 1.23.2\n",
      "  warnings.warn(f\"A NumPy version >={np_minversion} and <{np_maxversion}\"\n"
     ]
    },
    {
     "name": "stdout",
     "output_type": "stream",
     "text": [
      "Accuracy: 0.506 (0.075)\n",
      "Computing Case_2 : \n",
      "Accuracy: 0.529 (0.074)\n",
      "Computing Case_3 : \n",
      "Accuracy: 0.484 (0.069)\n",
      "Computing Case_4 : \n",
      "Accuracy: 0.548 (0.100)\n",
      "Computing Case_1 : \n",
      "Accuracy: 0.529 (0.080)\n"
     ]
    },
    {
     "data": {
      "text/plain": [
       "0"
      ]
     },
     "execution_count": 36,
     "metadata": {},
     "output_type": "execute_result"
    }
   ],
   "source": [
    "# All functions calls\n",
    "import os\n",
    "import cv2\n",
    "import numpy as np\n",
    "import pandas as pd\n",
    "from sklearn.svm import SVC\n",
    "from sklearn.feature_selection import RFE\n",
    "from sklearn.tree import DecisionTreeClassifier\n",
    "from sklearn.pipeline import Pipeline\n",
    "from sklearn.model_selection import cross_val_score\n",
    "from sklearn.model_selection import RepeatedStratifiedKFold\n",
    "from numpy import mean\n",
    "from numpy import std\n",
    "\n",
    "PATH = path + 'Data/BRATS/mod_data1/'\n",
    "Work_Dir = PATH + 'Working_Data/'\n",
    "\n",
    "workdir = os.listdir(Work_Dir)\n",
    "if '.DS_Store' in workdir:\n",
    "    workdir.remove('.DS_Store')\n",
    "\n",
    "for case in workdir:\n",
    "    print('Computing {} : '.format(case))\n",
    "    Case_Path = os.path.join(Work_Dir, case)\n",
    "    Split_Path = Case_Path + '/train/'\n",
    "    # Load Data from case\n",
    "    os.chdir(Split_Path)\n",
    "    df_patient_mgmtpos= pd.read_csv('./MGMT-POS-MAD-{}.csv'.format(case))\n",
    "    df_patient_mgmtneg= pd.read_csv('./MGMT-NEG-MAD-{}.csv'.format(case))\n",
    "    # print(df_patient_mgmtpos.shape[1],df_patient_mgmtneg.shape[1])\n",
    "    X , y = label(df_patient_mgmtpos, df_patient_mgmtneg)\n",
    "    rfe = RFE(estimator=DecisionTreeClassifier())\n",
    "    model = DecisionTreeClassifier()\n",
    "    pipeline = Pipeline(steps=[('s', rfe), ('m', model)])\n",
    "    # evaluate model\n",
    "    cv = RepeatedStratifiedKFold(n_splits=10, n_repeats=3, random_state=1)\n",
    "    n_scores = cross_val_score(\n",
    "        pipeline, X, y, scoring='accuracy', cv=cv, n_jobs=-1, error_score='raise')\n",
    "    # report performance\n",
    "    print('Accuracy: %.3f (%.3f)' % (mean(n_scores), std(n_scores)))\n",
    "\n",
    "os.system('say \"Complete\"')"
   ]
  }
 ],
 "metadata": {
  "kernelspec": {
   "display_name": "Python 3.10.6 ('base')",
   "language": "python",
   "name": "python3"
  },
  "language_info": {
   "codemirror_mode": {
    "name": "ipython",
    "version": 3
   },
   "file_extension": ".py",
   "mimetype": "text/x-python",
   "name": "python",
   "nbconvert_exporter": "python",
   "pygments_lexer": "ipython3",
   "version": "3.10.6"
  },
  "orig_nbformat": 4,
  "vscode": {
   "interpreter": {
    "hash": "1b9603ab75704494434c4abe56997ef3bb46c839483ec68f7dba80f8b5009106"
   }
  }
 },
 "nbformat": 4,
 "nbformat_minor": 2
}
