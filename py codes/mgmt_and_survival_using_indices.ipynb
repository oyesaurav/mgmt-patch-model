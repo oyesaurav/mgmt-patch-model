{
 "cells": [
  {
   "attachments": {},
   "cell_type": "markdown",
   "metadata": {},
   "source": [
    "### **Import Libraries**"
   ]
  },
  {
   "cell_type": "code",
   "execution_count": 131,
   "metadata": {},
   "outputs": [],
   "source": [
    "import os \n",
    "import pandas as pd\n",
    "import numpy as np\n",
    "from sklearn.model_selection import train_test_split\n",
    "from sklearn.metrics import precision_score, recall_score, confusion_matrix, classification_report, accuracy_score, f1_score\n",
    "import pickle as pkl\n",
    "from sklearn.svm import SVC"
   ]
  },
  {
   "attachments": {},
   "cell_type": "markdown",
   "metadata": {},
   "source": [
    "### **Loading Data**"
   ]
  },
  {
   "cell_type": "code",
   "execution_count": 45,
   "metadata": {},
   "outputs": [
    {
     "name": "stdout",
     "output_type": "stream",
     "text": [
      "Shape of dataset: (209, 1731)\n"
     ]
    }
   ],
   "source": [
    "# Loading t1_t2_flair_t1gd data\n",
    "df_t1_t2 = pd.read_csv(\"../Extracted feat combined/t1_t2_flair_t1gd.csv\")\n",
    "df_t1_t2.drop(['Unnamed: 0'], axis=1,inplace=True)\n",
    "\n",
    "# Loading Clinical Info\n",
    "df_mgmt_clinical = pd.read_csv(\"../UPENN-GBM_clinical_info_v1.0.csv\")\n",
    "df_mgmt_clinical.rename(columns={'ID':'SubjectID'}, inplace=True)  # Renaming ID to SubjectID\n",
    "\n",
    "# Merging the above two CSV's\n",
    "df_t1_t2_mgmt = df_t1_t2.merge(df_mgmt_clinical[['Survival_from_surgery_days','SubjectID','MGMT']], on='SubjectID', how='right')\n",
    "df_t1_t2_mgmt.rename(columns={'Survival_from_surgery_days':'Survival_days'}, inplace=True)\n",
    "df_t1_t2_mgmt = df_t1_t2_mgmt.dropna(axis=0)\n",
    "df_t1_t2_mgmt=df_t1_t2_mgmt.loc[df_t1_t2_mgmt['MGMT'].isin(['Methylated','Unmethylated'])]\n",
    "df_t1_t2_mgmt=df_t1_t2_mgmt.loc[df_t1_t2_mgmt['Survival_days']!='Not Available']\n",
    "print('Shape of dataset: '+str(df_t1_t2_mgmt.shape))"
   ]
  },
  {
   "cell_type": "code",
   "execution_count": 46,
   "metadata": {},
   "outputs": [
    {
     "name": "stdout",
     "output_type": "stream",
     "text": [
      "0    136\n",
      "1     73\n",
      "Name: MGMT, dtype: int64\n"
     ]
    },
    {
     "data": {
      "text/plain": [
       "1    109\n",
       "0    100\n",
       "Name: Survival_days, dtype: int64"
      ]
     },
     "execution_count": 46,
     "metadata": {},
     "output_type": "execute_result"
    }
   ],
   "source": [
    "# Classifing the Survival Days into Short period and Long period\n",
    "# More than 365 days are long period\n",
    "# Less than or equals 365 are short period\n",
    "df_t1_t2_mgmt['Survival_days']=df_t1_t2_mgmt['Survival_days'].apply(lambda x: 'long' if int(x)>365 else 'short')\n",
    "\n",
    "# Converting long and short labels to 1 and 0 simultaneosly\n",
    "df_t1_t2_mgmt['Survival_days']=df_t1_t2_mgmt['Survival_days'].apply(lambda x: 1 if x=='long' else 0)\n",
    "\n",
    "# Methylated coded to 1 and Unmethylated coded to 0\n",
    "df_t1_t2_mgmt['MGMT']=df_t1_t2_mgmt['MGMT'].apply(lambda a :1 if a=='Methylated' else 0)\n",
    "\n",
    "# Value couts of MGMT\n",
    "print(df_t1_t2_mgmt['MGMT'].value_counts())\n",
    "\n",
    "# Value couts of Survival \n",
    "df_t1_t2_mgmt['Survival_days'].value_counts()"
   ]
  },
  {
   "cell_type": "code",
   "execution_count": 47,
   "metadata": {},
   "outputs": [],
   "source": [
    "def generate_model_report(y_actual, y_predicted):\n",
    "    print(\"Accuracy = \" , accuracy_score(y_actual, y_predicted))\n",
    "    print(\"Precision = \" ,precision_score(y_actual, y_predicted))\n",
    "    print(\"Recall = \" ,recall_score(y_actual, y_predicted))\n",
    "    print(\"F1 Score = \" ,f1_score(y_actual, y_predicted))\n",
    "    pass"
   ]
  },
  {
   "attachments": {},
   "cell_type": "markdown",
   "metadata": {},
   "source": [
    "## **Survival Prediction** "
   ]
  },
  {
   "cell_type": "code",
   "execution_count": 65,
   "metadata": {},
   "outputs": [
    {
     "name": "stdout",
     "output_type": "stream",
     "text": [
      "Survival train size - (158, 1728)\n",
      "Survival test size - (51, 1728)\n"
     ]
    }
   ],
   "source": [
    "survival_train_x, survival_test_x, survival_train_y, survival_test_y = train_test_split(df_t1_t2_mgmt.drop(['MGMT',\n",
    "                                                                                                            'Survival_days',\n",
    "                                                                                                            'SubjectID'],\n",
    "                                                                                                           axis=1),\n",
    "                                                                                        df_t1_t2_mgmt['Survival_days'], test_size=0.24,\n",
    "                                                                                        random_state=100,\n",
    "                                                                                        stratify=df_t1_t2_mgmt['Survival_days'])\n",
    "print(\"Survival train size - \" + str(survival_train_x.shape))\n",
    "print(\"Survival test size - \" + str(survival_test_x.shape))"
   ]
  },
  {
   "cell_type": "code",
   "execution_count": 49,
   "metadata": {},
   "outputs": [
    {
     "data": {
      "text/plain": [
       "1    82\n",
       "0    76\n",
       "Name: Survival_days, dtype: int64"
      ]
     },
     "execution_count": 49,
     "metadata": {},
     "output_type": "execute_result"
    }
   ],
   "source": [
    "survival_train_y.value_counts()"
   ]
  },
  {
   "attachments": {},
   "cell_type": "markdown",
   "metadata": {},
   "source": [
    "#### **Variance Threshold**"
   ]
  },
  {
   "cell_type": "code",
   "execution_count": 50,
   "metadata": {},
   "outputs": [
    {
     "name": "stdout",
     "output_type": "stream",
     "text": [
      "Features after variance threshold: 1020\n"
     ]
    }
   ],
   "source": [
    "### Reducing features using Variance Threshold\n",
    "threshold=0.4\n",
    "low_var_col= [x for x in survival_train_x.columns if survival_train_x[x].var()<threshold]\n",
    "survival_train_x.drop(low_var_col,axis=1,inplace=True)\n",
    "survival_test_x.drop(low_var_col,axis=1,inplace=True)\n",
    "print('Features after variance threshold: '+str(survival_train_x.shape[1]))"
   ]
  },
  {
   "attachments": {},
   "cell_type": "markdown",
   "metadata": {},
   "source": [
    "#### **Correlation Coeficient**"
   ]
  },
  {
   "cell_type": "code",
   "execution_count": 51,
   "metadata": {},
   "outputs": [
    {
     "name": "stdout",
     "output_type": "stream",
     "text": [
      "Shape of dataset after correlation :  (158, 302)\n"
     ]
    }
   ],
   "source": [
    "def correlation(dataset, threshold):\n",
    "    col_corr = set()  # Set of all the names of correlated columns\n",
    "    corr_matrix = dataset.corr()\n",
    "    for i in range(len(corr_matrix.columns)):\n",
    "        for j in range(i):\n",
    "            if abs(corr_matrix.iloc[i, j]) > threshold: # we are interested in absolute coeff value\n",
    "                colname = corr_matrix.columns[i]  # getting the name of column\n",
    "                col_corr.add(colname)\n",
    "    return col_corr\n",
    "\n",
    "correlated_idx=correlation(survival_train_x,0.85)\n",
    "survival_train_x.drop(correlated_idx,axis=1,inplace=True)\n",
    "survival_test_x.drop(correlated_idx,axis=1,inplace=True)\n",
    "print(\"Shape of dataset after correlation : \",str(survival_train_x.shape))"
   ]
  },
  {
   "attachments": {},
   "cell_type": "markdown",
   "metadata": {},
   "source": [
    "#### **RFECV**"
   ]
  },
  {
   "cell_type": "code",
   "execution_count": 52,
   "metadata": {},
   "outputs": [],
   "source": [
    "# Function for rfecv\n",
    "from sklearn.feature_selection import RFE,RFECV\n",
    "def rfe_feature_selection(algo,X,y,cv):\n",
    "  rfe=RFECV(estimator=algo,cv=cv,min_features_to_select=20)\n",
    "  rfe.fit(X,y)\n",
    "  rfe_sel_index=rfe.get_support(indices=True)\n",
    "  return rfe_sel_index"
   ]
  },
  {
   "attachments": {},
   "cell_type": "markdown",
   "metadata": {},
   "source": [
    "#### **Feature Scaling**"
   ]
  },
  {
   "cell_type": "code",
   "execution_count": 53,
   "metadata": {},
   "outputs": [],
   "source": [
    "from sklearn.preprocessing import StandardScaler,MinMaxScaler\n",
    "survival_x_scaled = StandardScaler().fit(survival_train_x)\n",
    "survival_train_x_scaled = survival_x_scaled.transform(survival_train_x)\n",
    "survival_test_x_scaled=survival_x_scaled.transform(survival_test_x)"
   ]
  },
  {
   "cell_type": "code",
   "execution_count": 54,
   "metadata": {},
   "outputs": [],
   "source": [
    "import xgboost as xgb\n",
    "import lightgbm as lgb\n",
    "from boruta import BorutaPy\n",
    "xgb_model=xgb.XGBClassifier()\n",
    "survival_feat_sel_boruta=BorutaPy(xgb_model,n_estimators='auto',verbose=0,random_state=1)\n",
    "survival_feat_sel_boruta.fit(survival_train_x_scaled,survival_train_y)\n",
    "survival_boruta_rank=survival_feat_sel_boruta.ranking_"
   ]
  },
  {
   "cell_type": "code",
   "execution_count": 55,
   "metadata": {},
   "outputs": [
    {
     "data": {
      "text/plain": [
       "(302,)"
      ]
     },
     "execution_count": 55,
     "metadata": {},
     "output_type": "execute_result"
    }
   ],
   "source": [
    "survival_boruta_rank.shape"
   ]
  },
  {
   "cell_type": "code",
   "execution_count": 56,
   "metadata": {},
   "outputs": [],
   "source": [
    "survival_col_dict_rank=dict(zip(survival_train_x.columns,survival_boruta_rank))\n",
    "survival_boruta_sel_col=[col for col in survival_col_dict_rank.keys() if survival_col_dict_rank[col]<=50]\n",
    "survival_boruta_train_x=survival_train_x[survival_boruta_sel_col]\n",
    "survival_boruta_test_x=survival_test_x[survival_boruta_sel_col]\n",
    "\n",
    "survival_boruta_x_scaled = StandardScaler().fit(survival_boruta_train_x)\n",
    "survival_boruta_train_x_scaled = survival_boruta_x_scaled.transform(survival_boruta_train_x)\n",
    "survival_boruta_test_x_scaled=survival_boruta_x_scaled.transform(survival_boruta_test_x)"
   ]
  },
  {
   "cell_type": "code",
   "execution_count": 78,
   "metadata": {},
   "outputs": [],
   "source": [
    "pkl.dump(survival_boruta_train_x_scaled,open('./sel_scal_feat/survival_boruta_train_x_scaled.pkl','wb'))\n",
    "pkl.dump(survival_boruta_test_x_scaled,open('./sel_scal_feat/survival_boruta_test_x_scaled.pkl','wb'))"
   ]
  },
  {
   "cell_type": "code",
   "execution_count": 105,
   "metadata": {},
   "outputs": [],
   "source": [
    "pkl.dump(survival_train_y,open('./sel_scal_feat/survival_train_y.pkl','wb'))\n",
    "pkl.dump(survival_test_y,open('./sel_scal_feat/survival_test_y.pkl','wb'))"
   ]
  },
  {
   "cell_type": "code",
   "execution_count": 57,
   "metadata": {},
   "outputs": [
    {
     "name": "stdout",
     "output_type": "stream",
     "text": [
      "Score of train:  0.5189873417721519\n",
      "Score of test:  0.5294117647058824\n"
     ]
    }
   ],
   "source": [
    "from sklearn.svm import SVC\n",
    "svc_survival=SVC(kernel='rbf',C=0.1)\n",
    "svc_survival.fit(survival_boruta_train_x_scaled,survival_train_y)\n",
    "print('Score of train: ',str(svc_survival.score(survival_boruta_train_x_scaled,survival_train_y)))\n",
    "print('Score of test: ',str(svc_survival.score(survival_boruta_test_x_scaled,survival_test_y)))"
   ]
  },
  {
   "cell_type": "code",
   "execution_count": 58,
   "metadata": {},
   "outputs": [
    {
     "name": "stdout",
     "output_type": "stream",
     "text": [
      "Accuracy =  0.5294117647058824\n",
      "Precision =  0.5294117647058824\n",
      "Recall =  1.0\n",
      "F1 Score =  0.6923076923076924\n"
     ]
    }
   ],
   "source": [
    "y_pred_survival = svc_survival.predict(survival_boruta_test_x_scaled)\n",
    "generate_model_report(survival_test_y, y_pred_survival)"
   ]
  },
  {
   "cell_type": "code",
   "execution_count": 59,
   "metadata": {},
   "outputs": [
    {
     "data": {
      "text/plain": [
       "158"
      ]
     },
     "execution_count": 59,
     "metadata": {},
     "output_type": "execute_result"
    }
   ],
   "source": [
    "# svc.fit(survival_boruta_train_x_scaled)\n",
    "index_survival = svc_survival.decision_function(survival_boruta_train_x_scaled)\n",
    "len(index_survival)"
   ]
  },
  {
   "cell_type": "code",
   "execution_count": 109,
   "metadata": {},
   "outputs": [
    {
     "data": {
      "text/plain": [
       "51"
      ]
     },
     "execution_count": 109,
     "metadata": {},
     "output_type": "execute_result"
    }
   ],
   "source": [
    "index_survival_test = svc_survival.decision_function(survival_boruta_test_x_scaled)\n",
    "len(index_survival_test)"
   ]
  },
  {
   "cell_type": "code",
   "execution_count": 110,
   "metadata": {},
   "outputs": [],
   "source": [
    "pkl.dump(index_survival, open('./svm_indices/index_survival.pkl', 'wb'))\n",
    "pkl.dump(index_survival_test, open('./svm_indices/index_survival_test.pkl', 'wb'))"
   ]
  },
  {
   "attachments": {},
   "cell_type": "markdown",
   "metadata": {},
   "source": [
    "## **MGMT**"
   ]
  },
  {
   "cell_type": "code",
   "execution_count": 66,
   "metadata": {},
   "outputs": [
    {
     "name": "stdout",
     "output_type": "stream",
     "text": [
      "train size - (158, 1728)\n",
      "test size - (51, 1728)\n"
     ]
    }
   ],
   "source": [
    "mgmt_train_x, mgmt_test_x, mgmt_train_y, mgmt_test_y = train_test_split(df_t1_t2_mgmt.drop(['Survival_days','SubjectID','MGMT'],axis=1), \n",
    "                                                    df_t1_t2_mgmt['MGMT'], test_size=0.24, \n",
    "                                                    random_state=100, \n",
    "                                                    stratify=df_t1_t2_mgmt['MGMT'])\n",
    "print(\"train size - \" + str(mgmt_train_x.shape))\n",
    "print(\"test size - \" + str(mgmt_test_x.shape))"
   ]
  },
  {
   "cell_type": "code",
   "execution_count": 67,
   "metadata": {},
   "outputs": [
    {
     "data": {
      "text/plain": [
       "0    103\n",
       "1     55\n",
       "Name: MGMT, dtype: int64"
      ]
     },
     "execution_count": 67,
     "metadata": {},
     "output_type": "execute_result"
    }
   ],
   "source": [
    "mgmt_train_y.value_counts()"
   ]
  },
  {
   "attachments": {},
   "cell_type": "markdown",
   "metadata": {},
   "source": [
    "#### **Variance Threshold**"
   ]
  },
  {
   "cell_type": "code",
   "execution_count": 68,
   "metadata": {},
   "outputs": [],
   "source": [
    "### Reducing features using Variance Threshold\n",
    "threshold=0.4\n",
    "low_var_col= [x for x in mgmt_train_x.columns if mgmt_train_x[x].var()<threshold]\n",
    "mgmt_train_x.drop(low_var_col,axis=1,inplace=True)\n",
    "mgmt_test_x.drop(low_var_col,axis=1,inplace=True)"
   ]
  },
  {
   "cell_type": "code",
   "execution_count": 69,
   "metadata": {},
   "outputs": [
    {
     "name": "stdout",
     "output_type": "stream",
     "text": [
      "Shape of dataset:  (158, 298)\n"
     ]
    }
   ],
   "source": [
    "mgmt_correlated_idx=correlation(mgmt_train_x,0.85)\n",
    "mgmt_train_x.drop(mgmt_correlated_idx,axis=1,inplace=True)\n",
    "mgmt_test_x.drop(mgmt_correlated_idx,axis=1,inplace=True)\n",
    "print(\"Shape of dataset: \",str(mgmt_train_x.shape))"
   ]
  },
  {
   "cell_type": "code",
   "execution_count": 70,
   "metadata": {},
   "outputs": [],
   "source": [
    "mgmt_x_scaled = StandardScaler().fit(mgmt_train_x)\n",
    "mgmt_train_x_scaled = mgmt_x_scaled.transform(mgmt_train_x)\n",
    "mgmt_test_x_scaled=mgmt_x_scaled.transform(mgmt_test_x)"
   ]
  },
  {
   "cell_type": "code",
   "execution_count": 71,
   "metadata": {},
   "outputs": [
    {
     "data": {
      "text/plain": [
       "(298,)"
      ]
     },
     "execution_count": 71,
     "metadata": {},
     "output_type": "execute_result"
    }
   ],
   "source": [
    "import xgboost as xgb\n",
    "import lightgbm as lgb\n",
    "from boruta import BorutaPy\n",
    "xgb_model=xgb.XGBClassifier()\n",
    "mgmt_feat_sel_boruta=BorutaPy(xgb_model,n_estimators='auto',verbose=0,random_state=1)\n",
    "mgmt_feat_sel_boruta.fit(mgmt_train_x_scaled,survival_train_y)\n",
    "mgmt_boruta_rank=mgmt_feat_sel_boruta.ranking_\n",
    "mgmt_boruta_rank.shape"
   ]
  },
  {
   "cell_type": "code",
   "execution_count": 73,
   "metadata": {},
   "outputs": [],
   "source": [
    "mgmt_col_dict_rank=dict(zip(mgmt_train_x.columns,mgmt_boruta_rank))\n",
    "mgmt_boruta_sel_col=[col for col in mgmt_col_dict_rank.keys() if mgmt_col_dict_rank[col]<=50]\n",
    "mgmt_boruta_train_x=mgmt_train_x[mgmt_boruta_sel_col]\n",
    "mgmt_boruta_test_x=mgmt_test_x[mgmt_boruta_sel_col]\n",
    "\n",
    "mgmt_boruta_x_scaled = StandardScaler().fit(mgmt_boruta_train_x)\n",
    "mgmt_boruta_train_x_scaled = mgmt_boruta_x_scaled.transform(mgmt_boruta_train_x)\n",
    "mgmt_boruta_test_x_scaled=mgmt_boruta_x_scaled.transform(mgmt_boruta_test_x)"
   ]
  },
  {
   "cell_type": "code",
   "execution_count": 79,
   "metadata": {},
   "outputs": [],
   "source": [
    "pkl.dump(mgmt_boruta_train_x_scaled,open('./sel_scal_feat/mgmt_boruta_train_x_scaled.pkl','wb'))\n",
    "pkl.dump(mgmt_boruta_test_x_scaled,open('./sel_scal_feat/mgmt_boruta_test_x_scaled.pkl','wb'))"
   ]
  },
  {
   "cell_type": "code",
   "execution_count": 111,
   "metadata": {},
   "outputs": [],
   "source": [
    "pkl.dump(mgmt_train_y,open('./sel_scal_feat/mgmt_train_y.pkl','wb'))\n",
    "pkl.dump(mgmt_test_y,open('./sel_scal_feat/mgmt_test_y.pkl','wb'))"
   ]
  },
  {
   "cell_type": "code",
   "execution_count": 74,
   "metadata": {},
   "outputs": [
    {
     "name": "stdout",
     "output_type": "stream",
     "text": [
      "Score of train:  0.6772151898734177\n",
      "Score of test:  0.37254901960784315\n",
      "[1 1 0 0 1 1 1 0 0 0 1 1 0 0 0 0 0 1 0 1 0 0 1 1 0 1 1 0 1 0 0 0 1 1 1 1 0\n",
      " 0 0 1 1 0 1 1 0 1 1 1 1 1 1]\n",
      "0.3888888888888889\n"
     ]
    }
   ],
   "source": [
    "from sklearn.svm import SVC\n",
    "from sklearn.metrics import recall_score\n",
    "svc_mgmt=SVC(kernel='linear',class_weight='balanced',C=0.3)\n",
    "svc_mgmt.fit(mgmt_boruta_train_x_scaled,mgmt_train_y)\n",
    "print('Score of train: ',str(svc_mgmt.score(mgmt_boruta_train_x_scaled,mgmt_train_y)))\n",
    "print('Score of test: ',str(svc_mgmt.score(mgmt_boruta_test_x_scaled,mgmt_test_y)))\n",
    "y_pred=svc_mgmt.predict(mgmt_boruta_test_x_scaled)\n",
    "print(y_pred)\n",
    "print(recall_score(mgmt_test_y,y_pred))"
   ]
  },
  {
   "cell_type": "code",
   "execution_count": 75,
   "metadata": {},
   "outputs": [
    {
     "name": "stdout",
     "output_type": "stream",
     "text": [
      "Accuracy =  0.37254901960784315\n",
      "Precision =  0.25\n",
      "Recall =  0.3888888888888889\n",
      "F1 Score =  0.30434782608695654\n"
     ]
    }
   ],
   "source": [
    "generate_model_report(mgmt_test_y,y_pred)"
   ]
  },
  {
   "cell_type": "code",
   "execution_count": 76,
   "metadata": {},
   "outputs": [
    {
     "data": {
      "text/plain": [
       "158"
      ]
     },
     "execution_count": 76,
     "metadata": {},
     "output_type": "execute_result"
    }
   ],
   "source": [
    "# svc.fit(survival_boruta_train_x_scaled)\n",
    "index_mgmt = svc_mgmt.decision_function(mgmt_boruta_train_x_scaled)\n",
    "len(index_mgmt)"
   ]
  },
  {
   "cell_type": "code",
   "execution_count": 112,
   "metadata": {},
   "outputs": [
    {
     "data": {
      "text/plain": [
       "51"
      ]
     },
     "execution_count": 112,
     "metadata": {},
     "output_type": "execute_result"
    }
   ],
   "source": [
    "index_mgmt_test = svc_mgmt.decision_function(mgmt_boruta_test_x_scaled)\n",
    "len(index_mgmt_test)"
   ]
  },
  {
   "cell_type": "code",
   "execution_count": 113,
   "metadata": {},
   "outputs": [],
   "source": [
    "pkl.dump(index_mgmt, open('./svm_indices/index_mgmt.pkl', 'wb'))\n",
    "pkl.dump(index_mgmt_test, open('./svm_indices/index_mgmt_test.pkl', 'wb'))"
   ]
  },
  {
   "attachments": {},
   "cell_type": "markdown",
   "metadata": {},
   "source": [
    "#### GridsearchCV for weights"
   ]
  },
  {
   "cell_type": "code",
   "execution_count": 29,
   "metadata": {},
   "outputs": [
    {
     "name": "stdout",
     "output_type": "stream",
     "text": [
      "{'class_weight': {0: 0.09736842105263158, 1: 0.9026315789473685}}\n"
     ]
    }
   ],
   "source": [
    "from sklearn.model_selection import GridSearchCV\n",
    "weights = np.linspace(0.05, 0.95, 20)\n",
    "param_grid = dict(class_weight=[{0:x, 1:1.0-x} for x in weights])\n",
    "gsc = GridSearchCV(\n",
    "    estimator=SVC(kernel='linear', C=0.3),\n",
    "    param_grid=param_grid,\n",
    "    scoring='f1',\n",
    "    cv=5\n",
    ")\n",
    "grid_result = gsc.fit(mgmt_boruta_train_x_scaled, mgmt_train_y)\n",
    "best_params = grid_result.best_params_\n",
    "print(best_params)"
   ]
  },
  {
   "cell_type": "code",
   "execution_count": 30,
   "metadata": {},
   "outputs": [],
   "source": [
    "mgmt_svc = SVC(kernel='linear',C=0.3, class_weight=best_params['class_weight'])\n",
    "mgmt_model = svc.fit(mgmt_boruta_train_x_scaled, mgmt_train_y)"
   ]
  },
  {
   "cell_type": "code",
   "execution_count": 31,
   "metadata": {},
   "outputs": [
    {
     "name": "stdout",
     "output_type": "stream",
     "text": [
      "Accuracy =  0.37254901960784315\n",
      "Precision =  0.25\n",
      "Recall =  0.3888888888888889\n",
      "F1 Score =  0.30434782608695654\n"
     ]
    }
   ],
   "source": [
    "y_pred_mgmt = mgmt_model.predict(mgmt_boruta_test_x_scaled)\n",
    "generate_model_report(mgmt_test_y, y_pred_mgmt)"
   ]
  },
  {
   "cell_type": "code",
   "execution_count": null,
   "metadata": {},
   "outputs": [],
   "source": [
    "from imblearn.over_sampling import SMOTE\n",
    "from imblearn.pipeline import make_pipeline\n",
    "\n",
    "pipe = make_pipeline(\n",
    "    SMOTE(), \n",
    "    SVC(kernel='linear',C=0.3, class_weight=best_params['class_weight'])\n",
    ")\n",
    "weights = np.linspace(0.005, 0.75, 100)\n",
    "\n",
    "\n",
    "gsc_smote = GridSearchCV(\n",
    "    estimator=pipe,\n",
    "    param_grid={\n",
    "        'smote__sampling_strategy': weights\n",
    "    },\n",
    "    scoring='f1',\n",
    "    cv=5\n",
    ")\n",
    "grid_result = gsc_smote.fit(mgmt_boruta_train_x_scaled, mgmt_train_y)\n",
    "best_params = grid_result.best_params_\n",
    "print(best_params)\n"
   ]
  },
  {
   "cell_type": "markdown",
   "metadata": {},
   "source": []
  },
  {
   "attachments": {},
   "cell_type": "markdown",
   "metadata": {},
   "source": [
    "## crossing the indices"
   ]
  },
  {
   "attachments": {},
   "cell_type": "markdown",
   "metadata": {},
   "source": [
    "### mgmt index in survival prediction"
   ]
  },
  {
   "cell_type": "code",
   "execution_count": 148,
   "metadata": {},
   "outputs": [],
   "source": [
    "survival_boruta_train_x_scaled = pkl.load(open('./sel_scal_feat/survival_boruta_train_x_scaled.pkl', 'rb'))\n",
    "survival_boruta_test_x_scaled = pkl.load(open('./sel_scal_feat/survival_boruta_test_x_scaled.pkl', 'rb'))\n",
    "\n",
    "index_mgmt_train = pkl.load(open('./svm_indices/index_mgmt.pkl', 'rb'))\n",
    "index_mgmt_test = pkl.load(open('./svm_indices/index_mgmt_test.pkl', 'rb'))"
   ]
  },
  {
   "cell_type": "code",
   "execution_count": 149,
   "metadata": {},
   "outputs": [],
   "source": [
    "survival_train_y = pkl.load(open('./sel_scal_feat/survival_train_y.pkl', 'rb'))\n",
    "survival_test_y = pkl.load(open('./sel_scal_feat/survival_test_y.pkl', 'rb'))"
   ]
  },
  {
   "cell_type": "code",
   "execution_count": 150,
   "metadata": {},
   "outputs": [
    {
     "name": "stdout",
     "output_type": "stream",
     "text": [
      "(158, 50)\n",
      "(51, 50)\n"
     ]
    }
   ],
   "source": [
    "survival_train_crossed = np.column_stack((survival_boruta_train_x_scaled, index_mgmt))\n",
    "survival_test_crossed = np.column_stack((survival_boruta_test_x_scaled, index_mgmt_test))\n",
    "print(survival_train_crossed.shape)\n",
    "print(survival_test_crossed.shape)"
   ]
  },
  {
   "cell_type": "code",
   "execution_count": 154,
   "metadata": {},
   "outputs": [
    {
     "name": "stdout",
     "output_type": "stream",
     "text": [
      "Score of train:  0.8227848101265823\n",
      "Test results\n",
      "Accuracy =  0.5294117647058824\n",
      "Precision =  0.5789473684210527\n",
      "Recall =  0.4074074074074074\n",
      "F1 Score =  0.47826086956521735\n"
     ]
    }
   ],
   "source": [
    "svc_survival_crossed = SVC(kernel='linear', C=0.3)\n",
    "svc_survival_crossed.fit(survival_train_crossed, survival_train_y)\n",
    "print('Score of train: ',str(svc_survival_crossed.score(survival_train_crossed, survival_train_y)))\n",
    "print(\"Test results\")\n",
    "y_pred_survival_crossed=svc_survival_crossed.predict(survival_test_crossed)\n",
    "generate_model_report(survival_test_y,y_pred_survival_crossed)"
   ]
  },
  {
   "attachments": {},
   "cell_type": "markdown",
   "metadata": {},
   "source": [
    "### survival index cross with mgmt prediction"
   ]
  },
  {
   "cell_type": "code",
   "execution_count": 137,
   "metadata": {},
   "outputs": [],
   "source": [
    "mgmt_boruta_train_x_scaled = pkl.load(open('./sel_scal_feat/mgmt_boruta_train_x_scaled.pkl', 'rb'))\n",
    "mgmt_boruta_test_x_scaled = pkl.load(open('./sel_scal_feat/mgmt_boruta_test_x_scaled.pkl', 'rb'))\n",
    "\n",
    "index_survival_train = pkl.load(open('./svm_indices/index_survival.pkl', 'rb'))\n",
    "index_survival_test = pkl.load(open('./svm_indices/index_survival_test.pkl', 'rb'))\n",
    "\n",
    "mgmt_train_y = pkl.load(open('./sel_scal_feat/mgmt_train_y.pkl', 'rb'))\n",
    "mgmt_test_y = pkl.load(open('./sel_scal_feat/mgmt_test_y.pkl', 'rb'))"
   ]
  },
  {
   "cell_type": "code",
   "execution_count": 138,
   "metadata": {},
   "outputs": [
    {
     "name": "stdout",
     "output_type": "stream",
     "text": [
      "(158, 48)\n",
      "(51, 48)\n"
     ]
    }
   ],
   "source": [
    "mgmt_train_crossed = np.column_stack((mgmt_boruta_train_x_scaled, index_survival_train))\n",
    "mgmt_test_crossed = np.column_stack((mgmt_boruta_test_x_scaled, index_survival_test))\n",
    "print(mgmt_train_crossed.shape)\n",
    "print(mgmt_test_crossed.shape)"
   ]
  },
  {
   "cell_type": "code",
   "execution_count": 146,
   "metadata": {},
   "outputs": [
    {
     "name": "stdout",
     "output_type": "stream",
     "text": [
      "Score of train:  0.7531645569620253\n",
      "Test results\n",
      "Accuracy =  0.6078431372549019\n",
      "Precision =  0.375\n",
      "Recall =  0.16666666666666666\n",
      "F1 Score =  0.23076923076923078\n"
     ]
    }
   ],
   "source": [
    "svc_mgmt_crossed = SVC(kernel='linear', C=0.3)\n",
    "svc_mgmt_crossed.fit(mgmt_train_crossed, mgmt_train_y)\n",
    "print('Score of train: ',str(svc_mgmt_crossed.score(mgmt_train_crossed, mgmt_train_y)))\n",
    "print(\"Test results\")\n",
    "y_pred_mgmt_crossed=svc_mgmt_crossed.predict(mgmt_test_crossed)\n",
    "generate_model_report(mgmt_test_y,y_pred_mgmt_crossed)\n"
   ]
  }
 ],
 "metadata": {
  "kernelspec": {
   "display_name": "mgmt",
   "language": "python",
   "name": "python3"
  },
  "language_info": {
   "codemirror_mode": {
    "name": "ipython",
    "version": 3
   },
   "file_extension": ".py",
   "mimetype": "text/x-python",
   "name": "python",
   "nbconvert_exporter": "python",
   "pygments_lexer": "ipython3",
   "version": "3.8.5"
  },
  "orig_nbformat": 4,
  "vscode": {
   "interpreter": {
    "hash": "5b2455c0773d8c26655dfdc47cb2724dbbc1b091978a8bf3cd237ee649eef30f"
   }
  }
 },
 "nbformat": 4,
 "nbformat_minor": 2
}
