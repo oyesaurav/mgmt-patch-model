{
 "cells": [
  {
   "attachments": {},
   "cell_type": "markdown",
   "metadata": {},
   "source": [
    "### **Import Libraries**"
   ]
  },
  {
   "cell_type": "code",
   "execution_count": 1,
   "metadata": {},
   "outputs": [],
   "source": [
    "import os \n",
    "import pandas as pd\n",
    "import numpy as np\n",
    "from sklearn.model_selection import train_test_split"
   ]
  },
  {
   "attachments": {},
   "cell_type": "markdown",
   "metadata": {},
   "source": [
    "### **Loading Data**"
   ]
  },
  {
   "cell_type": "code",
   "execution_count": 2,
   "metadata": {},
   "outputs": [
    {
     "name": "stdout",
     "output_type": "stream",
     "text": [
      "Shape of dataset: (209, 1731)\n"
     ]
    }
   ],
   "source": [
    "# Loading t1_t2_flair_t1gd data\n",
    "df_t1_t2 = pd.read_csv(\"../Extracted feat combined/t1_t2_flair_t1gd.csv\")\n",
    "df_t1_t2.drop(['Unnamed: 0'], axis=1,inplace=True)\n",
    "\n",
    "# Loading Clinical Info\n",
    "df_mgmt_clinical = pd.read_csv(\"../UPENN-GBM_clinical_info_v1.0.csv\")\n",
    "df_mgmt_clinical.rename(columns={'ID':'SubjectID'}, inplace=True)  # Renaming ID to SubjectID\n",
    "\n",
    "# Merging the above two CSV's\n",
    "df_t1_t2_mgmt = df_t1_t2.merge(df_mgmt_clinical[['Survival_from_surgery_days','SubjectID','MGMT']], on='SubjectID', how='right')\n",
    "df_t1_t2_mgmt.rename(columns={'Survival_from_surgery_days':'Survival_days'}, inplace=True)\n",
    "df_t1_t2_mgmt = df_t1_t2_mgmt.dropna(axis=0)\n",
    "df_t1_t2_mgmt=df_t1_t2_mgmt.loc[df_t1_t2_mgmt['MGMT'].isin(['Methylated','Unmethylated'])]\n",
    "df_t1_t2_mgmt=df_t1_t2_mgmt.loc[df_t1_t2_mgmt['Survival_days']!='Not Available']\n",
    "print('Shape of dataset: '+str(df_t1_t2_mgmt.shape))"
   ]
  },
  {
   "cell_type": "code",
   "execution_count": 3,
   "metadata": {},
   "outputs": [
    {
     "name": "stdout",
     "output_type": "stream",
     "text": [
      "0    136\n",
      "1     73\n",
      "Name: MGMT, dtype: int64\n"
     ]
    },
    {
     "data": {
      "text/plain": [
       "1    109\n",
       "0    100\n",
       "Name: Survival_days, dtype: int64"
      ]
     },
     "execution_count": 3,
     "metadata": {},
     "output_type": "execute_result"
    }
   ],
   "source": [
    "# Classifing the Survival Days into Short period and Long period\n",
    "# More than 365 days are long period\n",
    "# Less than or equals 365 are short period\n",
    "df_t1_t2_mgmt['Survival_days']=df_t1_t2_mgmt['Survival_days'].apply(lambda x: 'long' if int(x)>365 else 'short')\n",
    "\n",
    "# Converting long and short labels to 1 and 0 simultaneosly\n",
    "df_t1_t2_mgmt['Survival_days']=df_t1_t2_mgmt['Survival_days'].apply(lambda x: 1 if x=='long' else 0)\n",
    "\n",
    "# Methylated coded to 1 and Unmethylated coded to 0\n",
    "df_t1_t2_mgmt['MGMT']=df_t1_t2_mgmt['MGMT'].apply(lambda a :1 if a=='Methylated' else 0)\n",
    "\n",
    "# Value couts of MGMT\n",
    "print(df_t1_t2_mgmt['MGMT'].value_counts())\n",
    "\n",
    "# Value couts of Survival \n",
    "df_t1_t2_mgmt['Survival_days'].value_counts()"
   ]
  },
  {
   "attachments": {},
   "cell_type": "markdown",
   "metadata": {},
   "source": [
    "## **Survival Prediction** "
   ]
  },
  {
   "cell_type": "code",
   "execution_count": 4,
   "metadata": {},
   "outputs": [
    {
     "name": "stdout",
     "output_type": "stream",
     "text": [
      "Survival train size - (158, 1728)\n",
      "Survival test size - (51, 1728)\n"
     ]
    }
   ],
   "source": [
    "survival_train_x, survival_test_x, survival_train_y, survival_test_y = train_test_split(df_t1_t2_mgmt.drop(['MGMT',\n",
    "                                                                                                            'Survival_days',\n",
    "                                                                                                            'SubjectID'],\n",
    "                                                                                                           axis=1), \n",
    "                                                    df_t1_t2_mgmt['Survival_days'], test_size=0.24, \n",
    "                                                    random_state=100, \n",
    "                                                    stratify=df_t1_t2_mgmt['Survival_days'])\n",
    "print(\"Survival train size - \" + str(survival_train_x.shape))\n",
    "print(\"Survival test size - \" + str(survival_test_x.shape))"
   ]
  },
  {
   "attachments": {},
   "cell_type": "markdown",
   "metadata": {},
   "source": [
    "#### **Variance Threshold**"
   ]
  },
  {
   "cell_type": "code",
   "execution_count": 5,
   "metadata": {},
   "outputs": [
    {
     "name": "stdout",
     "output_type": "stream",
     "text": [
      "Features after variance threshold: 1020\n"
     ]
    }
   ],
   "source": [
    "### Reducing features using Variance Threshold\n",
    "threshold=0.4\n",
    "low_var_col= [x for x in survival_train_x.columns if survival_train_x[x].var()<threshold]\n",
    "survival_train_x.drop(low_var_col,axis=1,inplace=True)\n",
    "survival_test_x.drop(low_var_col,axis=1,inplace=True)\n",
    "print('Features after variance threshold: '+str(survival_train_x.shape[1]))"
   ]
  },
  {
   "attachments": {},
   "cell_type": "markdown",
   "metadata": {},
   "source": [
    "#### **Correlation Coeficient**"
   ]
  },
  {
   "cell_type": "code",
   "execution_count": 6,
   "metadata": {},
   "outputs": [
    {
     "name": "stdout",
     "output_type": "stream",
     "text": [
      "Shape of dataset after correlation :  (158, 302)\n"
     ]
    }
   ],
   "source": [
    "def correlation(dataset, threshold):\n",
    "    col_corr = set()  # Set of all the names of correlated columns\n",
    "    corr_matrix = dataset.corr()\n",
    "    for i in range(len(corr_matrix.columns)):\n",
    "        for j in range(i):\n",
    "            if abs(corr_matrix.iloc[i, j]) > threshold: # we are interested in absolute coeff value\n",
    "                colname = corr_matrix.columns[i]  # getting the name of column\n",
    "                col_corr.add(colname)\n",
    "    return col_corr\n",
    "\n",
    "correlated_idx=correlation(survival_train_x,0.85)\n",
    "survival_train_x.drop(correlated_idx,axis=1,inplace=True)\n",
    "survival_test_x.drop(correlated_idx,axis=1,inplace=True)\n",
    "print(\"Shape of dataset after correlation : \",str(survival_train_x.shape))"
   ]
  },
  {
   "attachments": {},
   "cell_type": "markdown",
   "metadata": {},
   "source": [
    "#### **RFECV**"
   ]
  },
  {
   "cell_type": "code",
   "execution_count": 7,
   "metadata": {},
   "outputs": [],
   "source": [
    "# Function for rfecv\n",
    "from sklearn.feature_selection import RFE,RFECV\n",
    "def rfe_feature_selection(algo,X,y,cv):\n",
    "  rfe=RFECV(estimator=algo,cv=cv,min_features_to_select=20)\n",
    "  rfe.fit(X,y)\n",
    "  rfe_sel_index=rfe.get_support(indices=True)\n",
    "  return rfe_sel_index"
   ]
  },
  {
   "attachments": {},
   "cell_type": "markdown",
   "metadata": {},
   "source": [
    "#### **Feature Scaling**"
   ]
  },
  {
   "cell_type": "code",
   "execution_count": 8,
   "metadata": {},
   "outputs": [],
   "source": [
    "from sklearn.preprocessing import StandardScaler,MinMaxScaler\n",
    "survival_x_scaled = StandardScaler().fit(survival_train_x)\n",
    "survival_train_x_scaled = survival_x_scaled.transform(survival_train_x)\n",
    "survival_test_x_scaled=survival_x_scaled.transform(survival_test_x)"
   ]
  },
  {
   "cell_type": "code",
   "execution_count": 24,
   "metadata": {},
   "outputs": [
    {
     "data": {
      "text/plain": [
       "array([ 18, 247,   9,  94,  76,  37, 247, 156,  23,  94, 156,  76,  94,\n",
       "        94, 247, 247,  41, 247, 247, 156,  60,  15, 247, 156, 247,  94,\n",
       "       247, 116, 247,  22,   5,  43, 156, 247, 156, 247, 247, 247, 247,\n",
       "         6, 156,  17, 156, 156, 247,  94, 156, 247, 247,  94, 156, 247,\n",
       "       156,  12,  21, 247, 116, 247,  46,  38,  76, 156, 247, 156, 156,\n",
       "       247,  94, 156, 247, 156,  94, 247, 247, 156,  94, 156, 247,  31,\n",
       "        94, 247,  94,  94, 247,  94, 247,  20,   7, 156, 247,  39,  60,\n",
       "       247, 247, 247,  48, 247,  50, 247,  72, 156, 116, 247,  60, 156,\n",
       "       247, 156, 247,  94, 156,  49,  33, 156, 156, 247,  60, 116,  19,\n",
       "       247, 247, 116,  60, 156, 247, 156,  94, 247,  94,  60,  94, 247,\n",
       "        72, 156, 156, 247, 247, 156,  35, 156, 247, 247, 247, 247, 247,\n",
       "       156, 247, 247, 156, 247,  27, 116,  60, 156, 156,  94, 247,  94,\n",
       "        41, 247,  10, 156,  60,  94,  51,   3,  11, 247,  94,  30, 156,\n",
       "       247, 156,  60, 156, 247, 247, 247,  26,  34,  94, 247, 247, 247,\n",
       "        15,  60, 247,  94,  24,  25, 156, 247, 247, 156, 156, 247,  60,\n",
       "       156, 247,  13, 156, 247, 116,  29, 247, 156, 247,  94,  40,  94,\n",
       "        94,  60, 116, 247, 156, 156, 247, 247, 247, 156, 247, 247, 156,\n",
       "       247, 156,  60,  72, 116, 156, 156,  60, 247, 156, 156, 247, 156,\n",
       "        94,  94,  60, 156, 156,  94, 156, 247, 247, 247, 247, 247, 247,\n",
       "       247, 247,  94, 156, 247, 156,  60, 247,  72, 247, 247, 247, 247,\n",
       "       247,  31,  36, 156, 247,  94, 247, 247,   4, 247,  94, 247, 116,\n",
       "        28, 247, 156,  47, 247, 247,  45,  44,  15, 156,   8, 247, 156,\n",
       "       247,  60, 156, 156,   2, 247,  60, 247,  94, 247,  72, 156, 247,\n",
       "       247, 247, 156], dtype=int64)"
      ]
     },
     "execution_count": 24,
     "metadata": {},
     "output_type": "execute_result"
    }
   ],
   "source": [
    "import xgboost as xgb\n",
    "import lightgbm as lgb\n",
    "from boruta import BorutaPy\n",
    "xgb_model=xgb.XGBClassifier()\n",
    "survival_feat_sel_boruta=BorutaPy(xgb_model,n_estimators='auto',verbose=0,random_state=1)\n",
    "survival_feat_sel_boruta.fit(survival_train_x_scaled,survival_train_y)\n",
    "survival_boruta_rank=survival_feat_sel_boruta.ranking_\n",
    "survival_boruta_rank"
   ]
  },
  {
   "cell_type": "code",
   "execution_count": 25,
   "metadata": {},
   "outputs": [
    {
     "data": {
      "text/plain": [
       "(302,)"
      ]
     },
     "execution_count": 25,
     "metadata": {},
     "output_type": "execute_result"
    }
   ],
   "source": [
    "survival_boruta_rank.shape"
   ]
  },
  {
   "cell_type": "code",
   "execution_count": 26,
   "metadata": {},
   "outputs": [],
   "source": [
    "survival_col_dict_rank=dict(zip(survival_train_x.columns,survival_boruta_rank))\n",
    "survival_boruta_sel_col=[col for col in survival_col_dict_rank.keys() if survival_col_dict_rank[col]<=50]\n",
    "survival_boruta_train_x=survival_train_x[survival_boruta_sel_col]\n",
    "survival_boruta_test_x=survival_test_x[survival_boruta_sel_col]\n",
    "\n",
    "survival_boruta_x_scaled = StandardScaler().fit(survival_boruta_train_x)\n",
    "survival_boruta_train_x_scaled = survival_boruta_x_scaled.transform(survival_boruta_train_x)\n",
    "survival_boruta_test_x_scaled=survival_boruta_x_scaled.transform(survival_boruta_test_x)"
   ]
  },
  {
   "cell_type": "code",
   "execution_count": 29,
   "metadata": {},
   "outputs": [
    {
     "name": "stdout",
     "output_type": "stream",
     "text": [
      "Score of train:  0.5189873417721519\n",
      "Score of test:  0.5294117647058824\n"
     ]
    }
   ],
   "source": [
    "from sklearn.svm import SVC\n",
    "svc=SVC(kernel='rbf',C=0.1)\n",
    "svc.fit(survival_boruta_train_x_scaled,survival_train_y)\n",
    "print('Score of train: ',str(svc.score(survival_boruta_train_x_scaled,survival_train_y)))\n",
    "print('Score of test: ',str(svc.score(survival_boruta_test_x_scaled,survival_test_y)))"
   ]
  },
  {
   "cell_type": "code",
   "execution_count": 99,
   "metadata": {},
   "outputs": [
    {
     "data": {
      "text/plain": [
       "array([0.48660161, 1.00041046, 0.87729053, 0.50059571, 0.55507973,\n",
       "       0.68928742, 0.65594426, 0.64121932, 0.52768166, 0.6195324 ,\n",
       "       0.63538503, 0.65790826, 0.32287326, 0.63578647, 0.41962756,\n",
       "       1.05322517, 0.91046825, 0.49959235, 0.80008848, 0.64303589,\n",
       "       0.4363451 , 0.99986746, 0.26148086, 0.62383259, 0.8072652 ,\n",
       "       0.88184493, 0.7481859 , 0.51157145, 0.7170945 , 0.6685894 ,\n",
       "       0.86959193, 0.69508045, 0.95693146, 0.87814485, 0.74142002,\n",
       "       0.79471341, 0.54237857, 0.88530419, 0.90403506, 0.67095748,\n",
       "       0.54725125, 0.81436357, 0.56246855, 0.84634583, 0.9997631 ,\n",
       "       0.60510791, 0.67632566, 0.79051667, 0.14821989, 0.53572615,\n",
       "       0.67268777, 0.49735288, 0.70993069, 0.63416589, 0.84381503,\n",
       "       0.86732989, 0.80008232, 0.79527842, 0.95747018, 0.84138835,\n",
       "       0.82708607, 0.78758899, 0.91959965, 0.23645749, 0.57068546,\n",
       "       0.61307061, 0.71897761, 0.33525737, 0.62155529, 1.19931372,\n",
       "       0.6998623 , 0.97735669, 0.34391859, 0.77898736, 0.51689925,\n",
       "       0.48583188, 1.13918295, 0.53642751, 0.27886603, 0.90769832,\n",
       "       0.64766783, 1.00007499, 0.53565602, 0.8164951 , 0.88497317,\n",
       "       0.76615585, 0.60651637, 0.39905364, 0.99994201, 0.81454453,\n",
       "       0.8905967 , 0.76489334, 0.73836199, 0.95283269, 0.6795499 ,\n",
       "       0.6223134 , 0.999942  , 0.64061284, 0.64125595, 0.73844444,\n",
       "       0.47514358, 0.27057477, 0.70741792, 0.67850107, 1.04031795,\n",
       "       0.20251805, 0.59397856, 0.70253034, 0.73768688, 0.69625933,\n",
       "       0.90476511, 0.61809828, 0.41733994, 0.84462132, 0.51446659,\n",
       "       0.99074034, 0.57342869, 0.45242039, 0.81184698, 0.89343621,\n",
       "       0.37197293, 0.46790419, 0.78713769, 0.88614135, 0.6889592 ,\n",
       "       0.57754485, 0.72162558, 1.08009035, 0.6044393 , 0.98092636,\n",
       "       0.46509157, 0.68651173, 0.64052775, 0.28341152, 0.77047287,\n",
       "       1.08773204, 0.742402  , 0.9960043 , 0.56876176, 0.72907306,\n",
       "       0.45476718, 0.42700392, 0.72748541, 0.68026004, 0.68160021,\n",
       "       0.8651773 , 0.93109645, 0.91750738, 0.816572  , 0.67835641,\n",
       "       0.97365935, 0.68338409, 0.29428806, 0.62483212, 0.72982351,\n",
       "       0.65396656, 0.76256362, 0.90700812])"
      ]
     },
     "execution_count": 99,
     "metadata": {},
     "output_type": "execute_result"
    }
   ],
   "source": [
    "# svc.fit(survival_boruta_train_x_scaled)\n",
    "svc.decision_function(survival_boruta_train_x_scaled)"
   ]
  },
  {
   "attachments": {},
   "cell_type": "markdown",
   "metadata": {},
   "source": [
    "## **MGMT**"
   ]
  },
  {
   "cell_type": "code",
   "execution_count": 30,
   "metadata": {},
   "outputs": [
    {
     "name": "stdout",
     "output_type": "stream",
     "text": [
      "train size - (158, 1728)\n",
      "test size - (51, 1728)\n"
     ]
    }
   ],
   "source": [
    "mgmt_train_x, mgmt_test_x, mgmt_train_y, mgmt_test_y = train_test_split(df_t1_t2_mgmt.drop(['Survival_days','SubjectID','MGMT'],axis=1), \n",
    "                                                    df_t1_t2_mgmt['MGMT'], test_size=0.24, \n",
    "                                                    random_state=100, \n",
    "                                                    stratify=df_t1_t2_mgmt['Survival_days'])\n",
    "print(\"train size - \" + str(mgmt_train_x.shape))\n",
    "print(\"test size - \" + str(mgmt_test_x.shape))"
   ]
  },
  {
   "cell_type": "code",
   "execution_count": 31,
   "metadata": {},
   "outputs": [
    {
     "data": {
      "text/plain": [
       "0    101\n",
       "1     57\n",
       "Name: MGMT, dtype: int64"
      ]
     },
     "execution_count": 31,
     "metadata": {},
     "output_type": "execute_result"
    }
   ],
   "source": [
    "mgmt_train_y.value_counts()"
   ]
  },
  {
   "attachments": {},
   "cell_type": "markdown",
   "metadata": {},
   "source": [
    "### **Variance Threshold**"
   ]
  },
  {
   "cell_type": "code",
   "execution_count": 32,
   "metadata": {},
   "outputs": [],
   "source": [
    "### Reducing features using Variance Threshold\n",
    "threshold=0.4\n",
    "low_var_col= [x for x in mgmt_train_x.columns if mgmt_train_x[x].var()<threshold]\n",
    "mgmt_train_x.drop(low_var_col,axis=1,inplace=True)\n",
    "mgmt_test_x.drop(low_var_col,axis=1,inplace=True)"
   ]
  },
  {
   "cell_type": "code",
   "execution_count": 33,
   "metadata": {},
   "outputs": [
    {
     "name": "stdout",
     "output_type": "stream",
     "text": [
      "Shape of dataset:  (158, 302)\n"
     ]
    }
   ],
   "source": [
    "mgmt_correlated_idx=correlation(mgmt_train_x,0.85)\n",
    "mgmt_train_x.drop(mgmt_correlated_idx,axis=1,inplace=True)\n",
    "mgmt_test_x.drop(mgmt_correlated_idx,axis=1,inplace=True)\n",
    "print(\"Shape of dataset: \",str(mgmt_train_x.shape))"
   ]
  },
  {
   "cell_type": "code",
   "execution_count": 34,
   "metadata": {},
   "outputs": [],
   "source": [
    "mgmt_x_scaled = StandardScaler().fit(mgmt_train_x)\n",
    "mgmt_train_x_scaled = mgmt_x_scaled.transform(mgmt_train_x)\n",
    "mgmt_test_x_scaled=mgmt_x_scaled.transform(mgmt_test_x)"
   ]
  },
  {
   "cell_type": "code",
   "execution_count": 35,
   "metadata": {},
   "outputs": [
    {
     "data": {
      "text/plain": [
       "array([ 18, 247,   9,  94,  76,  37, 247, 156,  23,  94, 156,  76,  94,\n",
       "        94, 247, 247,  41, 247, 247, 156,  60,  15, 247, 156, 247,  94,\n",
       "       247, 116, 247,  22,   5,  43, 156, 247, 156, 247, 247, 247, 247,\n",
       "         6, 156,  17, 156, 156, 247,  94, 156, 247, 247,  94, 156, 247,\n",
       "       156,  12,  21, 247, 116, 247,  46,  38,  76, 156, 247, 156, 156,\n",
       "       247,  94, 156, 247, 156,  94, 247, 247, 156,  94, 156, 247,  31,\n",
       "        94, 247,  94,  94, 247,  94, 247,  20,   7, 156, 247,  39,  60,\n",
       "       247, 247, 247,  48, 247,  50, 247,  72, 156, 116, 247,  60, 156,\n",
       "       247, 156, 247,  94, 156,  49,  33, 156, 156, 247,  60, 116,  19,\n",
       "       247, 247, 116,  60, 156, 247, 156,  94, 247,  94,  60,  94, 247,\n",
       "        72, 156, 156, 247, 247, 156,  35, 156, 247, 247, 247, 247, 247,\n",
       "       156, 247, 247, 156, 247,  27, 116,  60, 156, 156,  94, 247,  94,\n",
       "        41, 247,  10, 156,  60,  94,  51,   3,  11, 247,  94,  30, 156,\n",
       "       247, 156,  60, 156, 247, 247, 247,  26,  34,  94, 247, 247, 247,\n",
       "        15,  60, 247,  94,  24,  25, 156, 247, 247, 156, 156, 247,  60,\n",
       "       156, 247,  13, 156, 247, 116,  29, 247, 156, 247,  94,  40,  94,\n",
       "        94,  60, 116, 247, 156, 156, 247, 247, 247, 156, 247, 247, 156,\n",
       "       247, 156,  60,  72, 116, 156, 156,  60, 247, 156, 156, 247, 156,\n",
       "        94,  94,  60, 156, 156,  94, 156, 247, 247, 247, 247, 247, 247,\n",
       "       247, 247,  94, 156, 247, 156,  60, 247,  72, 247, 247, 247, 247,\n",
       "       247,  31,  36, 156, 247,  94, 247, 247,   4, 247,  94, 247, 116,\n",
       "        28, 247, 156,  47, 247, 247,  45,  44,  15, 156,   8, 247, 156,\n",
       "       247,  60, 156, 156,   2, 247,  60, 247,  94, 247,  72, 156, 247,\n",
       "       247, 247, 156], dtype=int64)"
      ]
     },
     "execution_count": 35,
     "metadata": {},
     "output_type": "execute_result"
    }
   ],
   "source": [
    "import xgboost as xgb\n",
    "import lightgbm as lgb\n",
    "from boruta import BorutaPy\n",
    "xgb_model=xgb.XGBClassifier()\n",
    "mgmt_feat_sel_boruta=BorutaPy(xgb_model,n_estimators='auto',verbose=0,random_state=1)\n",
    "mgmt_feat_sel_boruta.fit(mgmt_train_x_scaled,survival_train_y)\n",
    "mgmt_boruta_rank=mgmt_feat_sel_boruta.ranking_\n",
    "mgmt_boruta_rank"
   ]
  },
  {
   "cell_type": "code",
   "execution_count": 36,
   "metadata": {},
   "outputs": [],
   "source": [
    "mgmt_col_dict_rank=dict(zip(mgmt_train_x.columns,mgmt_boruta_rank))\n",
    "mgmt_boruta_sel_col=[col for col in mgmt_col_dict_rank.keys() if mgmt_col_dict_rank[col]<=50]\n",
    "mgmt_boruta_train_x=mgmt_train_x[mgmt_boruta_sel_col]\n",
    "mgmt_boruta_test_x=mgmt_test_x[mgmt_boruta_sel_col]\n",
    "\n",
    "mgmt_boruta_x_scaled = StandardScaler().fit(mgmt_boruta_train_x)\n",
    "mgmt_boruta_train_x_scaled = mgmt_boruta_x_scaled.transform(mgmt_boruta_train_x)\n",
    "mgmt_boruta_test_x_scaled=mgmt_boruta_x_scaled.transform(mgmt_boruta_test_x)"
   ]
  },
  {
   "cell_type": "code",
   "execution_count": 37,
   "metadata": {},
   "outputs": [
    {
     "name": "stdout",
     "output_type": "stream",
     "text": [
      "Score of train:  0.6772151898734177\n",
      "Score of test:  0.47058823529411764\n",
      "[0 1 1 0 1 0 1 0 1 1 1 0 0 0 0 1 0 0 0 1 0 0 1 0 0 0 0 0 0 1 0 1 0 1 0 0 0\n",
      " 1 1 1 0 0 0 1 0 0 0 1 0 0 1]\n",
      "0.25\n"
     ]
    }
   ],
   "source": [
    "from sklearn.svm import SVC\n",
    "from sklearn.metrics import recall_score\n",
    "svc=SVC(kernel='linear',class_weight='balanced',C=0.3)\n",
    "svc.fit(mgmt_boruta_train_x_scaled,mgmt_train_y)\n",
    "print('Score of train: ',str(svc.score(mgmt_boruta_train_x_scaled,mgmt_train_y)))\n",
    "print('Score of test: ',str(svc.score(mgmt_boruta_test_x_scaled,mgmt_test_y)))\n",
    "y_pred=svc.predict(mgmt_boruta_test_x_scaled)\n",
    "print(y_pred)\n",
    "print(recall_score(mgmt_test_y,y_pred))"
   ]
  },
  {
   "cell_type": "code",
   "execution_count": 38,
   "metadata": {},
   "outputs": [
    {
     "data": {
      "text/plain": [
       "array([-0.9998053 , -1.00025191, -0.99968989, -0.99997554,  0.33898593,\n",
       "       -0.72394832,  0.43473534,  0.70159263, -0.99991371, -0.58734659,\n",
       "       -3.82261193, -0.79675515,  1.00012836, -1.00018069,  0.23617847,\n",
       "        1.31569388,  0.9352092 ,  0.46349869, -1.00024409,  1.00041924,\n",
       "        0.05436979, -0.66849577,  0.64294918, -0.2436051 ,  0.29531761,\n",
       "        0.15776365,  0.36863394, -0.57692801,  1.15839213, -0.28442649,\n",
       "       -1.00027123, -0.99996029,  0.36652751, -0.64561707,  0.87479268,\n",
       "       -1.25332263, -0.99999696,  0.75655735,  1.62153437, -0.28606411,\n",
       "        1.66426793,  0.94345255,  1.03589615,  0.05308089,  1.21595107,\n",
       "       -1.00029355,  0.99978689,  0.99957813, -1.00441922,  1.56583973,\n",
       "        0.48398713,  0.20509903, -1.68086098,  0.25443039,  1.29794993,\n",
       "       -0.99970212,  1.0990672 ,  0.44768133,  0.73494327,  0.23487928,\n",
       "        0.99993838,  3.69762331, -0.99956355, -1.93661245, -0.92122687,\n",
       "        0.18779863, -0.43641884, -0.03682458, -1.24716959, -0.99985409,\n",
       "       -1.7372041 , -0.16094782,  0.99980881, -0.44841992, -0.13851645,\n",
       "       -0.23452051, -0.41681132, -0.5188292 ,  0.99998817,  0.9998085 ,\n",
       "       -1.00015295,  1.00020069,  1.70689795,  0.14037064,  3.04435704,\n",
       "        1.00011244, -0.22454423, -0.73755242,  2.26319934, -0.44295648,\n",
       "       -0.64391052, -1.00025985, -0.60242053,  2.99205819,  1.12634125,\n",
       "        0.69429755,  1.00035769,  0.30065296,  1.00010172,  1.00034483,\n",
       "        0.46902916,  0.99961209, -2.43460499,  0.738474  , -0.99993299,\n",
       "       -0.59316213, -0.3155473 , -0.35191333,  0.9998397 , -1.00025236,\n",
       "       -0.48058788, -0.26319092,  1.00013952, -2.78477046, -0.89066671,\n",
       "        0.06418593, -0.64692628, -1.00028629, -0.18742519,  0.99970404,\n",
       "       -0.99959884, -1.39451656, -1.1128965 ,  1.19062229,  0.3541469 ,\n",
       "       -1.53720267,  0.30069912, -0.26964839,  0.78748336, -0.92820528,\n",
       "        0.99976073, -0.3902784 ,  0.66254244, -1.00003578,  1.0733832 ,\n",
       "        0.32384974,  0.75907974, -0.79865832,  0.83736497,  0.24275939,\n",
       "        1.00013176, -1.03906535, -0.99965304, -0.99972622,  0.35045491,\n",
       "       -1.00047944,  0.95507536, -3.1756042 , -0.31580056, -1.58685711,\n",
       "        1.00042262,  0.2609045 , -3.84104359, -1.31171517, -1.00010775,\n",
       "        0.54919467,  2.30477398,  1.32998998])"
      ]
     },
     "execution_count": 38,
     "metadata": {},
     "output_type": "execute_result"
    }
   ],
   "source": [
    "# svc.fit(survival_boruta_train_x_scaled)\n",
    "svc.decision_function(survival_boruta_train_x_scaled)"
   ]
  }
 ],
 "metadata": {
  "kernelspec": {
   "display_name": "mgmt",
   "language": "python",
   "name": "python3"
  },
  "language_info": {
   "codemirror_mode": {
    "name": "ipython",
    "version": 3
   },
   "file_extension": ".py",
   "mimetype": "text/x-python",
   "name": "python",
   "nbconvert_exporter": "python",
   "pygments_lexer": "ipython3",
   "version": "3.9.16"
  },
  "orig_nbformat": 4,
  "vscode": {
   "interpreter": {
    "hash": "5b2455c0773d8c26655dfdc47cb2724dbbc1b091978a8bf3cd237ee649eef30f"
   }
  }
 },
 "nbformat": 4,
 "nbformat_minor": 2
}
