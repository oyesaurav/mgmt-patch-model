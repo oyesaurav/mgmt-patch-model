{
 "cells": [
  {
   "cell_type": "code",
   "execution_count": 1,
   "metadata": {},
   "outputs": [],
   "source": [
    "import os \n",
    "import pandas as pd\n",
    "import numpy as np"
   ]
  },
  {
   "cell_type": "code",
   "execution_count": 2,
   "metadata": {},
   "outputs": [],
   "source": [
    "main_dir = \"E:\\MGMT patch detection\\mgmt-patch-model\"\n",
    "os.chdir(main_dir)"
   ]
  },
  {
   "attachments": {},
   "cell_type": "markdown",
   "metadata": {},
   "source": [
    "Selecting patients with MGMT status available with struc features"
   ]
  },
  {
   "cell_type": "code",
   "execution_count": 3,
   "metadata": {},
   "outputs": [
    {
     "name": "stdout",
     "output_type": "stream",
     "text": [
      "df_t1_t2.shape after combining mgmt status(598, 1730)\n",
      "df_t1_t2.shape after selecting only available mgmt(256, 1730)\n"
     ]
    }
   ],
   "source": [
    "df_t1_t2 = pd.read_csv(\"./Extracted feat combined/t1_t2_flair_t1gd.csv\")\n",
    "df_t1_t2.drop(['Unnamed: 0'], axis=1,inplace=True)\n",
    "df_mgmt = pd.read_csv(\"UPENN-GBM_clinical_info_v1.0.csv\")\n",
    "df_mgmt.rename(columns={'ID':'SubjectID'}, inplace=True)\n",
    "\n",
    "df_t1_t2 = df_t1_t2.merge(df_mgmt[['MGMT','SubjectID']], on='SubjectID', how='right')\n",
    "df_t1_t2 = df_t1_t2.dropna(axis=0)\n",
    "print(\"df_t1_t2.shape after combining mgmt status\" + str(df_t1_t2.shape))\n",
    "\n",
    "df_1 = df_t1_t2[df_t1_t2['MGMT'] == 'Unmethylated']\n",
    "df_2 = df_t1_t2[df_t1_t2['MGMT'] == 'Methylated']\n",
    "df_t1_t2 = pd.concat([df_2,df_1])\n",
    "print(\"df_t1_t2.shape after selecting only available mgmt\" + str(df_t1_t2.shape))"
   ]
  },
  {
   "cell_type": "code",
   "execution_count": 4,
   "metadata": {},
   "outputs": [
    {
     "data": {
      "text/plain": [
       "Unmethylated    147\n",
       "Methylated      109\n",
       "Name: MGMT, dtype: int64"
      ]
     },
     "execution_count": 4,
     "metadata": {},
     "output_type": "execute_result"
    }
   ],
   "source": [
    "# Getting number of methylated and unmethylated\n",
    "df_t1_t2.MGMT.value_counts()"
   ]
  },
  {
   "attachments": {},
   "cell_type": "markdown",
   "metadata": {},
   "source": [
    "Converting : Methylated as 1 and Unmethylated as 0 "
   ]
  },
  {
   "cell_type": "code",
   "execution_count": 5,
   "metadata": {},
   "outputs": [],
   "source": [
    "df_t1_t2['MGMT']=df_t1_t2['MGMT'].apply(lambda a :1 if a=='Methylated' else 0)"
   ]
  },
  {
   "attachments": {},
   "cell_type": "markdown",
   "metadata": {},
   "source": [
    "### **Data Preprocessing**"
   ]
  },
  {
   "cell_type": "code",
   "execution_count": 6,
   "metadata": {},
   "outputs": [
    {
     "data": {
      "text/plain": [
       "(256, 1644)"
      ]
     },
     "execution_count": 6,
     "metadata": {},
     "output_type": "execute_result"
    }
   ],
   "source": [
    "### Reducing features using Variance Threshold\n",
    "from sklearn.feature_selection import VarianceThreshold\n",
    "vt=VarianceThreshold()\n",
    "vt.fit(df_t1_t2.drop(['MGMT','SubjectID'],axis=1))\n",
    "df_t1_t2_vt=vt.transform(df_t1_t2.drop(['MGMT','SubjectID'],axis=1))\n",
    "df_t1_t2_vt.shape"
   ]
  },
  {
   "attachments": {},
   "cell_type": "markdown",
   "metadata": {},
   "source": [
    "### Training the features"
   ]
  },
  {
   "attachments": {},
   "cell_type": "markdown",
   "metadata": {},
   "source": [
    "#### Train Test Split"
   ]
  },
  {
   "cell_type": "code",
   "execution_count": 7,
   "metadata": {},
   "outputs": [
    {
     "name": "stdout",
     "output_type": "stream",
     "text": [
      "train size - (204, 1644)\n",
      "test size - (52, 1644)\n"
     ]
    }
   ],
   "source": [
    "from sklearn.model_selection import train_test_split\n",
    "train_x, test_x, train_y, test_y = train_test_split(df_t1_t2_vt, \n",
    "                                                    df_t1_t2.MGMT, test_size=0.20, \n",
    "                                                    random_state=42, \n",
    "                                                    stratify=df_t1_t2['MGMT'])\n",
    "print(\"train size - \" + str(train_x.shape))\n",
    "print(\"test size - \" + str(test_x.shape))"
   ]
  },
  {
   "attachments": {},
   "cell_type": "markdown",
   "metadata": {},
   "source": [
    "#### Feature selection using SVM"
   ]
  },
  {
   "cell_type": "code",
   "execution_count": 8,
   "metadata": {},
   "outputs": [],
   "source": [
    "# function for rfe \n",
    "from sklearn.feature_selection import RFE\n",
    "def rfe_feature_selection(algo,X,y,n_feature_selection,step):\n",
    "  rfe=RFE(algo,n_features_to_select=n_feature_selection,step=step)\n",
    "  return rfe.fit(X,y)"
   ]
  },
  {
   "attachments": {},
   "cell_type": "markdown",
   "metadata": {},
   "source": [
    "Scaling features"
   ]
  },
  {
   "cell_type": "code",
   "execution_count": 9,
   "metadata": {},
   "outputs": [],
   "source": [
    "from sklearn.preprocessing import StandardScaler\n",
    "x_scaled = StandardScaler().fit(train_x)\n",
    "train_x_scaled = x_scaled.transform(train_x)"
   ]
  },
  {
   "attachments": {},
   "cell_type": "markdown",
   "metadata": {},
   "source": [
    "get selected feature idx"
   ]
  },
  {
   "cell_type": "code",
   "execution_count": 10,
   "metadata": {},
   "outputs": [],
   "source": [
    "from sklearn.svm import SVC\n",
    "svc_model = rfe_feature_selection(SVC(kernel='linear'), train_x_scaled, train_y, 1000, 10)\n",
    "sel_feat_idx=svc_model.get_support(indices=True)"
   ]
  },
  {
   "attachments": {},
   "cell_type": "markdown",
   "metadata": {},
   "source": [
    "try with no split, predict test"
   ]
  },
  {
   "cell_type": "code",
   "execution_count": 11,
   "metadata": {},
   "outputs": [
    {
     "data": {
      "text/plain": [
       "0.6153846153846154"
      ]
     },
     "execution_count": 11,
     "metadata": {},
     "output_type": "execute_result"
    }
   ],
   "source": [
    "svc=SVC(kernel='linear')\n",
    "svc.fit(np.take(train_x_scaled,sel_feat_idx,axis=1),train_y)\n",
    "\n",
    "test_x_scaled = x_scaled.transform(test_x)\n",
    "test_x_scaled_sel=np.take(test_x_scaled,sel_feat_idx,axis=1)\n",
    "\n",
    "from sklearn.metrics import accuracy_score\n",
    "y_pred=svc.predict(test_x_scaled_sel)\n",
    "y_pred=np.where(y_pred>0.5,1,0)\n",
    "accuracy_score(test_y,y_pred)\n"
   ]
  },
  {
   "attachments": {},
   "cell_type": "markdown",
   "metadata": {},
   "source": [
    "### Cross Validation"
   ]
  },
  {
   "cell_type": "code",
   "execution_count": 12,
   "metadata": {},
   "outputs": [],
   "source": [
    "import numpy as np\n",
    "train_x_scaled_sel = np.take(train_x_scaled,sel_feat_idx, axis=1)"
   ]
  },
  {
   "cell_type": "code",
   "execution_count": 13,
   "metadata": {},
   "outputs": [
    {
     "name": "stdout",
     "output_type": "stream",
     "text": [
      "Cross Validation on 10Folds\n",
      "validation acc - 0.6190476190476191\n",
      "Test acc - 0.5769230769230769\n",
      "validation acc - 0.5238095238095238\n",
      "Test acc - 0.5384615384615384\n",
      "validation acc - 0.5714285714285714\n",
      "Test acc - 0.6153846153846154\n",
      "validation acc - 0.47619047619047616\n",
      "Test acc - 0.5576923076923077\n",
      "validation acc - 0.7\n",
      "Test acc - 0.5961538461538461\n",
      "validation acc - 0.5\n",
      "Test acc - 0.5576923076923077\n",
      "validation acc - 0.5\n",
      "Test acc - 0.5769230769230769\n",
      "validation acc - 0.5\n",
      "Test acc - 0.5384615384615384\n",
      "validation acc - 0.6\n",
      "Test acc - 0.6730769230769231\n",
      "validation acc - 0.7\n",
      "Test acc - 0.5961538461538461\n"
     ]
    }
   ],
   "source": [
    "from sklearn.metrics import accuracy_score\n",
    "from sklearn.model_selection import StratifiedKFold,cross_val_score\n",
    "k=10\n",
    "kfd=StratifiedKFold(n_splits=k)\n",
    "print(\"Cross Validation on \"+str(k)+\"Folds\")\n",
    "for train_idx,val_idx in kfd.split(train_x_scaled_sel,train_y):\n",
    "    x_train = np.take(train_x_scaled_sel,train_idx,axis=0)\n",
    "    x_val = np.take(train_x_scaled_sel,val_idx,axis=0)\n",
    "    y_train = np.take(train_y,train_idx,axis=0)\n",
    "    y_val = np.take(train_y,val_idx,axis=0)\n",
    "\n",
    "    history = SVC(kernel='linear').fit(x_train,y_train)\n",
    "    y_pred = history.predict(x_val)\n",
    "    acc = accuracy_score(y_val,y_pred)\n",
    "    print(\"validation acc - \" + str(acc))\n",
    "\n",
    "    y_pred_test=history.predict(test_x_scaled_sel)\n",
    "    # y_pred_test=np.where(y_pred_test>0.5,1,0)\n",
    "    test_acc = accuracy_score(test_y,y_pred_test)\n",
    "    print(\"Test acc - \" + str(test_acc))"
   ]
  }
 ],
 "metadata": {
  "kernelspec": {
   "display_name": "mgmt",
   "language": "python",
   "name": "python3"
  },
  "language_info": {
   "codemirror_mode": {
    "name": "ipython",
    "version": 3
   },
   "file_extension": ".py",
   "mimetype": "text/x-python",
   "name": "python",
   "nbconvert_exporter": "python",
   "pygments_lexer": "ipython3",
   "version": "3.9.16"
  },
  "orig_nbformat": 4,
  "vscode": {
   "interpreter": {
    "hash": "5b2455c0773d8c26655dfdc47cb2724dbbc1b091978a8bf3cd237ee649eef30f"
   }
  }
 },
 "nbformat": 4,
 "nbformat_minor": 2
}
