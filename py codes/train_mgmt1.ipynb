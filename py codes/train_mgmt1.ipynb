{
 "cells": [
  {
   "cell_type": "code",
   "execution_count": 240,
   "metadata": {},
   "outputs": [],
   "source": [
    "import os \n",
    "import pandas as pd\n",
    "import numpy as np"
   ]
  },
  {
   "cell_type": "code",
   "execution_count": 241,
   "metadata": {},
   "outputs": [],
   "source": [
    "main_dir = \"E:\\MGMT patch detection\\mgmt-patch-model\"\n",
    "os.chdir(main_dir)"
   ]
  },
  {
   "attachments": {},
   "cell_type": "markdown",
   "metadata": {},
   "source": [
    "Selecting patients with MGMT status available with struc features"
   ]
  },
  {
   "cell_type": "code",
   "execution_count": 242,
   "metadata": {},
   "outputs": [
    {
     "name": "stdout",
     "output_type": "stream",
     "text": [
      "df_t1_t2.shape after combining mgmt status(598, 1730)\n",
      "df_t1_t2.shape after selecting only available mgmt(256, 1730)\n"
     ]
    }
   ],
   "source": [
    "df_t1_t2 = pd.read_csv(\"./Extracted feat combined/t1_t2_flair_t1gd.csv\")\n",
    "df_t1_t2.drop(['Unnamed: 0'], axis=1,inplace=True)\n",
    "df_mgmt = pd.read_csv(\"UPENN-GBM_clinical_info_v1.0.csv\")\n",
    "df_mgmt.rename(columns={'ID':'SubjectID'}, inplace=True)\n",
    "\n",
    "df_t1_t2 = df_t1_t2.merge(df_mgmt[['MGMT','SubjectID']], on='SubjectID', how='right')\n",
    "df_t1_t2 = df_t1_t2.dropna(axis=0)\n",
    "print(\"df_t1_t2.shape after combining mgmt status\" + str(df_t1_t2.shape))\n",
    "\n",
    "df_1 = df_t1_t2[df_t1_t2['MGMT'] == 'Unmethylated']\n",
    "df_2 = df_t1_t2[df_t1_t2['MGMT'] == 'Methylated']\n",
    "df_t1_t2 = pd.concat([df_2,df_1])\n",
    "print(\"df_t1_t2.shape after selecting only available mgmt\" + str(df_t1_t2.shape))"
   ]
  },
  {
   "cell_type": "code",
   "execution_count": 243,
   "metadata": {},
   "outputs": [
    {
     "data": {
      "text/plain": [
       "Unmethylated    147\n",
       "Methylated      109\n",
       "Name: MGMT, dtype: int64"
      ]
     },
     "execution_count": 243,
     "metadata": {},
     "output_type": "execute_result"
    }
   ],
   "source": [
    "# Getting number of methylated and unmethylated\n",
    "df_t1_t2.MGMT.value_counts()"
   ]
  },
  {
   "attachments": {},
   "cell_type": "markdown",
   "metadata": {},
   "source": [
    "Converting : Methylated as 1 and Unmethylated as 0 "
   ]
  },
  {
   "cell_type": "code",
   "execution_count": 244,
   "metadata": {},
   "outputs": [],
   "source": [
    "df_t1_t2['MGMT']=df_t1_t2['MGMT'].apply(lambda a :1 if a=='Methylated' else 0)"
   ]
  },
  {
   "attachments": {},
   "cell_type": "markdown",
   "metadata": {},
   "source": [
    "### **Data Preprocessing**"
   ]
  },
  {
   "cell_type": "code",
   "execution_count": 245,
   "metadata": {},
   "outputs": [
    {
     "data": {
      "text/plain": [
       "(256, 1103)"
      ]
     },
     "execution_count": 245,
     "metadata": {},
     "output_type": "execute_result"
    }
   ],
   "source": [
    "### Reducing features using Variance Threshold\n",
    "from sklearn.feature_selection import VarianceThreshold\n",
    "vt=VarianceThreshold(threshold=0.1)\n",
    "vt.fit(df_t1_t2.drop(['MGMT','SubjectID'],axis=1))\n",
    "df_t1_t2_vt=vt.transform(df_t1_t2.drop(['MGMT','SubjectID'],axis=1))\n",
    "df_t1_t2_vt.shape"
   ]
  },
  {
   "attachments": {},
   "cell_type": "markdown",
   "metadata": {},
   "source": [
    "### Training the features"
   ]
  },
  {
   "attachments": {},
   "cell_type": "markdown",
   "metadata": {},
   "source": [
    "#### Train Test Split"
   ]
  },
  {
   "cell_type": "code",
   "execution_count": 246,
   "metadata": {},
   "outputs": [
    {
     "name": "stdout",
     "output_type": "stream",
     "text": [
      "train size - (204, 1103)\n",
      "test size - (52, 1103)\n"
     ]
    }
   ],
   "source": [
    "from sklearn.model_selection import train_test_split\n",
    "train_x, test_x, train_y, test_y = train_test_split(df_t1_t2_vt, \n",
    "                                                    df_t1_t2.MGMT, test_size=0.20, \n",
    "                                                    random_state=42, \n",
    "                                                    stratify=df_t1_t2['MGMT'])\n",
    "print(\"train size - \" + str(train_x.shape))\n",
    "print(\"test size - \" + str(test_x.shape))"
   ]
  },
  {
   "attachments": {},
   "cell_type": "markdown",
   "metadata": {},
   "source": [
    "#### Feature selection TEchniques"
   ]
  },
  {
   "cell_type": "code",
   "execution_count": 247,
   "metadata": {},
   "outputs": [],
   "source": [
    "# function for rfe \n",
    "from sklearn.feature_selection import RFE,RFECV\n",
    "def rfe_feature_selection(algo,X,y):\n",
    "  rfe=RFECV(estimator=algo,cv=10,min_features_to_select=1000)\n",
    "  rfe.fit(X,y)\n",
    "  rfe_sel_index=rfe.get_support(indices=True)\n",
    "  return rfe_sel_index"
   ]
  },
  {
   "cell_type": "code",
   "execution_count": 248,
   "metadata": {},
   "outputs": [],
   "source": [
    "from sklearn.feature_selection import SelectFromModel\n",
    "from sklearn.ensemble import RandomForestClassifier\n",
    "# Function for Random Forest Classifier\n",
    "def rf(x,y):\n",
    "   select_feat = SelectFromModel(estimator= RandomForestClassifier()).fit(x,y)\n",
    "   feat_idx = select_feat.get_support(indices=True)\n",
    "   return feat_idx"
   ]
  },
  {
   "attachments": {},
   "cell_type": "markdown",
   "metadata": {},
   "source": [
    "#### Features Scaling"
   ]
  },
  {
   "cell_type": "code",
   "execution_count": 249,
   "metadata": {},
   "outputs": [],
   "source": [
    "from sklearn.preprocessing import StandardScaler,MinMaxScaler\n",
    "x_scaled = StandardScaler().fit(train_x)\n",
    "train_x_scaled = x_scaled.transform(train_x)\n",
    "test_x_scaled=x_scaled.transform(test_x)"
   ]
  },
  {
   "attachments": {},
   "cell_type": "markdown",
   "metadata": {},
   "source": [
    "### **Cross Validation**"
   ]
  },
  {
   "attachments": {},
   "cell_type": "markdown",
   "metadata": {},
   "source": [
    "Calling RFECV"
   ]
  },
  {
   "cell_type": "code",
   "execution_count": 250,
   "metadata": {},
   "outputs": [
    {
     "data": {
      "text/plain": [
       "(1000,)"
      ]
     },
     "execution_count": 250,
     "metadata": {},
     "output_type": "execute_result"
    }
   ],
   "source": [
    "from sklearn.svm import SVC\n",
    "from sklearn.linear_model import LogisticRegression\n",
    "from sklearn.neighbors import KNeighborsClassifier\n",
    "lr=LogisticRegression()\n",
    "knn=KNeighborsClassifier(n_neighbors=7)\n",
    "svc=SVC(kernel='linear',C=0.7)\n",
    "rfecv_feat_idx=rfe_feature_selection(svc,train_x_scaled,train_y) # Getting features using RFECV \n",
    "rfecv_feat_idx.shape"
   ]
  },
  {
   "cell_type": "code",
   "execution_count": 251,
   "metadata": {},
   "outputs": [],
   "source": [
    "# from sklearn.model_selection import StratifiedKFold\n",
    "# from sklearn.svm import SVC\n",
    "# k_folds=10\n",
    "# cv_sel_idx_list=[]\n",
    "# skfold=StratifiedKFold(n_splits=k_folds,random_state=42,shuffle=True)\n",
    "# for train_idx,val_idx in skfold.split(train_x_scaled,train_y):\n",
    "#     x_train = np.take(train_x_scaled,train_idx,axis=0) # This train is the train set in validation\n",
    "#     x_val = np.take(train_x_scaled,val_idx,axis=0)\n",
    "#     y_train = np.take(train_y,train_idx,axis=0)\n",
    "#     y_val = np.take(train_y,val_idx,axis=0)\n",
    "#     # cv_sel_idx=rfe_feature_selection(SVC(kernel='linear'),x_train,y_train)\n",
    "#     cv_sel_idx=rf(x_train,y_train)\n",
    "#     cv_sel_idx_list.append(cv_sel_idx)\n",
    "    \n",
    "    "
   ]
  },
  {
   "cell_type": "code",
   "execution_count": 252,
   "metadata": {},
   "outputs": [],
   "source": [
    "# ### Concatinating the selected indexes from cv_sel_idx_list\n",
    "# concat_sel_idx=cv_sel_idx_list[0]\n",
    "# for i in list(range(1,10)):\n",
    "#     concat_sel_idx=np.concatenate((concat_sel_idx,cv_sel_idx_list[i]))\n",
    "    \n",
    "# concat_sel_idx=np.unique(concat_sel_idx)\n",
    "# concat_sel_idx.shape"
   ]
  },
  {
   "cell_type": "code",
   "execution_count": 253,
   "metadata": {},
   "outputs": [],
   "source": [
    "from sklearn.metrics import accuracy_score\n",
    "from sklearn.model_selection import StratifiedKFold\n",
    "k_folds=10\n",
    "skfold=StratifiedKFold(n_splits=k_folds,random_state=42,shuffle=True)\n",
    "sel_train_x=np.take(train_x_scaled,rfecv_feat_idx,axis=1)\n",
    "sel_test_x=np.take(test_x_scaled,rfecv_feat_idx,axis=1)\n",
    "metrics=[]\n",
    "for train_idx,val_idx in skfold.split(sel_train_x,train_y):\n",
    "    x_train = np.take(sel_train_x,train_idx,axis=0) # This train is the train set in validation\n",
    "    x_val = np.take(sel_train_x,val_idx,axis=0)\n",
    "    y_train = np.take(train_y,train_idx,axis=0)\n",
    "    y_val = np.take(train_y,val_idx,axis=0)\n",
    "    model_svc=SVC(kernel='poly',C=0.7)\n",
    "    model_svc.fit(x_train,y_train)\n",
    "    pred_val_y=model_svc.predict(x_val)\n",
    "    pred_test_y=model_svc.predict(sel_test_x)\n",
    "    metrics.append([accuracy_score(y_val,pred_val_y),\n",
    "                    accuracy_score(test_y,pred_test_y)])\n",
    "    \n",
    "    "
   ]
  },
  {
   "cell_type": "code",
   "execution_count": 254,
   "metadata": {},
   "outputs": [
    {
     "data": {
      "text/plain": [
       "[[0.5714285714285714, 0.5769230769230769],\n",
       " [0.6190476190476191, 0.5576923076923077],\n",
       " [0.5714285714285714, 0.5769230769230769],\n",
       " [0.5714285714285714, 0.5769230769230769],\n",
       " [0.6, 0.5769230769230769],\n",
       " [0.55, 0.5769230769230769],\n",
       " [0.6, 0.5769230769230769],\n",
       " [0.55, 0.5769230769230769],\n",
       " [0.6, 0.5769230769230769],\n",
       " [0.55, 0.5769230769230769]]"
      ]
     },
     "execution_count": 254,
     "metadata": {},
     "output_type": "execute_result"
    }
   ],
   "source": [
    "metrics"
   ]
  },
  {
   "attachments": {},
   "cell_type": "markdown",
   "metadata": {},
   "source": [
    "get selected feature idx"
   ]
  },
  {
   "cell_type": "code",
   "execution_count": 255,
   "metadata": {},
   "outputs": [
    {
     "name": "stdout",
     "output_type": "stream",
     "text": [
      "Accuracy : 0.5749999999999998 +/- 0.0057692307692307505\n"
     ]
    }
   ],
   "source": [
    "metrics=np.array(metrics)\n",
    "avg_accuracy=np.mean(metrics,axis=0)\n",
    "std_accuracy=np.std(metrics,axis=0)\n",
    "print(\"Accuracy : \"+str(avg_accuracy[1])+\" +/- \"+str(std_accuracy[1]))"
   ]
  },
  {
   "cell_type": "code",
   "execution_count": 256,
   "metadata": {},
   "outputs": [],
   "source": [
    "\n",
    "# svc_feat_index = rfe_feature_selection(SVC(kernel='linear'), train_x_scaled, train_y)\n",
    "# svc_feat_index.shape"
   ]
  }
 ],
 "metadata": {
  "kernelspec": {
   "display_name": "mgmt",
   "language": "python",
   "name": "python3"
  },
  "language_info": {
   "codemirror_mode": {
    "name": "ipython",
    "version": 3
   },
   "file_extension": ".py",
   "mimetype": "text/x-python",
   "name": "python",
   "nbconvert_exporter": "python",
   "pygments_lexer": "ipython3",
   "version": "3.9.16"
  },
  "orig_nbformat": 4,
  "vscode": {
   "interpreter": {
    "hash": "5b2455c0773d8c26655dfdc47cb2724dbbc1b091978a8bf3cd237ee649eef30f"
   }
  }
 },
 "nbformat": 4,
 "nbformat_minor": 2
}
