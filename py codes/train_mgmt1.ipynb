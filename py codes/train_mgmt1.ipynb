{
 "cells": [
  {
   "cell_type": "code",
   "execution_count": 166,
   "metadata": {},
   "outputs": [],
   "source": [
    "import os \n",
    "import pandas as pd\n",
    "import numpy as np\n",
    "\n",
    "from warnings import filterwarnings\n",
    "filterwarnings(action='ignore', category=DeprecationWarning, message='`np.int` is a deprecated alias')"
   ]
  },
  {
   "cell_type": "code",
   "execution_count": 167,
   "metadata": {},
   "outputs": [],
   "source": [
    "main_dir = \"E:\\MGMT patch detection\\mgmt-patch-model\"\n",
    "os.chdir(main_dir)"
   ]
  },
  {
   "attachments": {},
   "cell_type": "markdown",
   "metadata": {},
   "source": [
    "Selecting patients with MGMT status available with struc features"
   ]
  },
  {
   "cell_type": "code",
   "execution_count": 168,
   "metadata": {},
   "outputs": [
    {
     "name": "stdout",
     "output_type": "stream",
     "text": [
      "df_t1_t2.shape after combining mgmt status(598, 1730)\n",
      "df_t1_t2.shape after selecting only available mgmt(256, 1730)\n"
     ]
    }
   ],
   "source": [
    "df_t1_t2 = pd.read_csv(\"./Extracted feat combined/t1_t2_flair_t1gd.csv\")\n",
    "df_t1_t2.drop(['Unnamed: 0'], axis=1,inplace=True)\n",
    "df_mgmt = pd.read_csv(\"UPENN-GBM_clinical_info_v1.0.csv\")\n",
    "df_mgmt.rename(columns={'ID':'SubjectID'}, inplace=True)\n",
    "\n",
    "df_t1_t2 = df_t1_t2.merge(df_mgmt[['MGMT','SubjectID']], on='SubjectID', how='right')\n",
    "df_t1_t2 = df_t1_t2.dropna(axis=0)\n",
    "print(\"df_t1_t2.shape after combining mgmt status\" + str(df_t1_t2.shape))\n",
    "\n",
    "df_1 = df_t1_t2[df_t1_t2['MGMT'] == 'Unmethylated']\n",
    "df_2 = df_t1_t2[df_t1_t2['MGMT'] == 'Methylated']\n",
    "df_t1_t2 = pd.concat([df_2,df_1])\n",
    "print(\"df_t1_t2.shape after selecting only available mgmt\" + str(df_t1_t2.shape))"
   ]
  },
  {
   "cell_type": "code",
   "execution_count": 169,
   "metadata": {},
   "outputs": [
    {
     "data": {
      "text/plain": [
       "Unmethylated    147\n",
       "Methylated      109\n",
       "Name: MGMT, dtype: int64"
      ]
     },
     "execution_count": 169,
     "metadata": {},
     "output_type": "execute_result"
    }
   ],
   "source": [
    "# Getting number of methylated and unmethylated\n",
    "df_t1_t2.MGMT.value_counts()"
   ]
  },
  {
   "cell_type": "code",
   "execution_count": 170,
   "metadata": {},
   "outputs": [
    {
     "data": {
      "text/plain": [
       "(256, 1730)"
      ]
     },
     "execution_count": 170,
     "metadata": {},
     "output_type": "execute_result"
    }
   ],
   "source": [
    "df_t1_t2.shape"
   ]
  },
  {
   "attachments": {},
   "cell_type": "markdown",
   "metadata": {},
   "source": [
    "Converting : Methylated as 1 and Unmethylated as 0 "
   ]
  },
  {
   "cell_type": "code",
   "execution_count": 171,
   "metadata": {},
   "outputs": [],
   "source": [
    "df_t1_t2['MGMT']=df_t1_t2['MGMT'].apply(lambda a :1 if a=='Methylated' else 0)"
   ]
  },
  {
   "attachments": {},
   "cell_type": "markdown",
   "metadata": {},
   "source": [
    "### **Data Preprocessing**"
   ]
  },
  {
   "attachments": {},
   "cell_type": "markdown",
   "metadata": {},
   "source": [
    "### Training the features"
   ]
  },
  {
   "attachments": {},
   "cell_type": "markdown",
   "metadata": {},
   "source": [
    "#### Train Test Split"
   ]
  },
  {
   "cell_type": "code",
   "execution_count": 172,
   "metadata": {},
   "outputs": [
    {
     "name": "stdout",
     "output_type": "stream",
     "text": [
      "train size - (204, 1728)\n",
      "test size - (52, 1728)\n"
     ]
    }
   ],
   "source": [
    "from sklearn.model_selection import train_test_split\n",
    "train_x, test_x, train_y, test_y = train_test_split(df_t1_t2.drop(['MGMT','SubjectID'],axis=1), \n",
    "                                                    df_t1_t2.MGMT, test_size=0.20, \n",
    "                                                    random_state=100, \n",
    "                                                    stratify=df_t1_t2['MGMT'])\n",
    "print(\"train size - \" + str(train_x.shape))\n",
    "print(\"test size - \" + str(test_x.shape))"
   ]
  },
  {
   "attachments": {},
   "cell_type": "markdown",
   "metadata": {},
   "source": [
    "#### **Variance Threshold**"
   ]
  },
  {
   "cell_type": "code",
   "execution_count": 173,
   "metadata": {},
   "outputs": [],
   "source": [
    "### Reducing features using Variance Threshold\n",
    "threshold=0.3\n",
    "low_var_col= [x for x in train_x.columns if train_x[x].var()<threshold]\n",
    "train_x.drop(low_var_col,axis=1,inplace=True)\n",
    "test_x.drop(low_var_col,axis=1,inplace=True)\n"
   ]
  },
  {
   "attachments": {},
   "cell_type": "markdown",
   "metadata": {},
   "source": [
    "#### **Correlation Technique**"
   ]
  },
  {
   "cell_type": "code",
   "execution_count": 174,
   "metadata": {},
   "outputs": [
    {
     "data": {
      "text/plain": [
       "(204, 315)"
      ]
     },
     "execution_count": 174,
     "metadata": {},
     "output_type": "execute_result"
    }
   ],
   "source": [
    "def correlation(dataset, threshold):\n",
    "    col_corr = set()  # Set of all the names of correlated columns\n",
    "    corr_matrix = dataset.corr()\n",
    "    for i in range(len(corr_matrix.columns)):\n",
    "        for j in range(i):\n",
    "            if abs(corr_matrix.iloc[i, j]) > threshold: # we are interested in absolute coeff value\n",
    "                colname = corr_matrix.columns[i]  # getting the name of column\n",
    "                col_corr.add(colname)\n",
    "    return col_corr\n",
    "\n",
    "correlated_idx=correlation(train_x,0.85)\n",
    "train_x.drop(correlated_idx,axis=1,inplace=True)\n",
    "test_x.drop(correlated_idx,axis=1,inplace=True)\n",
    "train_x.shape\n"
   ]
  },
  {
   "attachments": {},
   "cell_type": "markdown",
   "metadata": {},
   "source": [
    "#### **Feature selection Techniques**"
   ]
  },
  {
   "cell_type": "code",
   "execution_count": 175,
   "metadata": {},
   "outputs": [],
   "source": [
    "# Function for rfe \n",
    "from sklearn.feature_selection import RFE,RFECV\n",
    "def rfe_feature_selection(algo,X,y,cv):\n",
    "  rfe=RFECV(estimator=algo,cv=cv)\n",
    "  rfe.fit(X,y)\n",
    "  rfe_sel_index=rfe.get_support(indices=True)\n",
    "  return rfe_sel_index"
   ]
  },
  {
   "cell_type": "code",
   "execution_count": 176,
   "metadata": {},
   "outputs": [],
   "source": [
    "# Function for Random Forest Classifier\n",
    "from sklearn.feature_selection import SelectFromModel\n",
    "from sklearn.ensemble import RandomForestClassifier\n",
    "def rf(x,y):\n",
    "   rf = RandomForestClassifier(n_estimators=100).fit(x,y)\n",
    "   return rf"
   ]
  },
  {
   "cell_type": "code",
   "execution_count": 177,
   "metadata": {},
   "outputs": [],
   "source": [
    "# Principle Component Analysis\n",
    "\n",
    "from sklearn.decomposition import PCA\n",
    "def pca(n,x):\n",
    "    pca=PCA(n_components=n)\n",
    "    return pca.fit(x)\n",
    "    "
   ]
  },
  {
   "attachments": {},
   "cell_type": "markdown",
   "metadata": {},
   "source": [
    "#### Features Scaling"
   ]
  },
  {
   "cell_type": "code",
   "execution_count": 178,
   "metadata": {},
   "outputs": [],
   "source": [
    "from sklearn.preprocessing import StandardScaler,MinMaxScaler\n",
    "x_scaled = StandardScaler().fit(train_x)\n",
    "train_x_scaled = x_scaled.transform(train_x)\n",
    "test_x_scaled=x_scaled.transform(test_x)"
   ]
  },
  {
   "attachments": {},
   "cell_type": "markdown",
   "metadata": {},
   "source": [
    "#### **Feature Importance using Buruto**"
   ]
  },
  {
   "attachments": {},
   "cell_type": "markdown",
   "metadata": {},
   "source": [
    "Selected features usinfg Boruta = 50"
   ]
  },
  {
   "cell_type": "code",
   "execution_count": 179,
   "metadata": {},
   "outputs": [],
   "source": [
    "import xgboost as xgb\n",
    "from boruta import BorutaPy\n",
    "xgb_model=xgb.XGBClassifier()\n",
    "feat_sel_boruta=BorutaPy(xgb_model,n_estimators='auto',verbose=0,random_state=1)\n",
    "feat_sel_boruta.fit(train_x_scaled,train_y)\n",
    "boruta_rank=feat_sel_boruta.ranking_"
   ]
  },
  {
   "cell_type": "code",
   "execution_count": 180,
   "metadata": {},
   "outputs": [],
   "source": [
    "col_dict_rank=dict(zip(train_x.columns,boruta_rank))\n",
    "boruta_sel_col=[col for col in col_dict_rank.keys() if col_dict_rank[col]<=50]\n",
    "boruta_train_x=train_x[boruta_sel_col]\n",
    "boruta_test_x=test_x[boruta_sel_col]\n",
    "\n",
    "boruta_x_scaled = StandardScaler().fit(boruta_train_x)\n",
    "boruta_train_x_scaled = boruta_x_scaled.transform(boruta_train_x)\n",
    "boruta_test_x_scaled=boruta_x_scaled.transform(boruta_test_x)\n"
   ]
  },
  {
   "cell_type": "code",
   "execution_count": 181,
   "metadata": {},
   "outputs": [
    {
     "data": {
      "text/plain": [
       "0.6346153846153846"
      ]
     },
     "execution_count": 181,
     "metadata": {},
     "output_type": "execute_result"
    }
   ],
   "source": [
    "from sklearn.svm import SVC\n",
    "svc=SVC(kernel='poly',C=0.5)\n",
    "svc.fit(boruta_train_x_scaled,train_y)\n",
    "svc.score(boruta_test_x_scaled,test_y)"
   ]
  },
  {
   "cell_type": "code",
   "execution_count": 182,
   "metadata": {},
   "outputs": [
    {
     "name": "stdout",
     "output_type": "stream",
     "text": [
      "0.6153846153846154\n"
     ]
    },
    {
     "data": {
      "image/png": "[encoded data removed]",
      "text/plain": [
       "<Figure size 432x288 with 1 Axes>"
      ]
     },
     "metadata": {
      "needs_background": "light"
     },
     "output_type": "display_data"
    }
   ],
   "source": [
    "from sklearn.neighbors import KNeighborsClassifier\n",
    "import matplotlib.pyplot as plt\n",
    "knn_score=[]\n",
    "for k in range(3,150,2):\n",
    "    knn=KNeighborsClassifier(n_neighbors=k)\n",
    "    knn.fit(boruta_train_x_scaled,train_y)\n",
    "    knn_score.append(knn.score(boruta_test_x_scaled,test_y))\n",
    "\n",
    "# print(knn_score)\n",
    "print(max(knn_score)) \n",
    "plt.plot(range(3,150,2),knn_score)\n",
    "plt.xlabel('K')\n",
    "plt.ylabel('Accuracy')\n",
    "plt.show()"
   ]
  },
  {
   "attachments": {},
   "cell_type": "markdown",
   "metadata": {},
   "source": [
    "For k=13 the accuracy is high i.e. 61%"
   ]
  },
  {
   "cell_type": "code",
   "execution_count": 183,
   "metadata": {},
   "outputs": [
    {
     "data": {
      "text/plain": [
       "0.6153846153846154"
      ]
     },
     "execution_count": 183,
     "metadata": {},
     "output_type": "execute_result"
    }
   ],
   "source": [
    "from sklearn.linear_model import LogisticRegression\n",
    "lr=LogisticRegression()\n",
    "lr.fit(boruta_train_x_scaled,train_y)\n",
    "lr.score(boruta_test_x_scaled,test_y)"
   ]
  },
  {
   "attachments": {},
   "cell_type": "markdown",
   "metadata": {},
   "source": [
    "### **Cross Validation**"
   ]
  },
  {
   "attachments": {},
   "cell_type": "markdown",
   "metadata": {},
   "source": [
    "Calling RFECV"
   ]
  },
  {
   "attachments": {},
   "cell_type": "markdown",
   "metadata": {},
   "source": [
    "Selected features form RFECV = 25 by using cv=15"
   ]
  },
  {
   "cell_type": "code",
   "execution_count": 184,
   "metadata": {},
   "outputs": [
    {
     "data": {
      "text/plain": [
       "(25,)"
      ]
     },
     "execution_count": 184,
     "metadata": {},
     "output_type": "execute_result"
    }
   ],
   "source": [
    "\n",
    "from sklearn.linear_model import LogisticRegression\n",
    "from sklearn.neighbors import KNeighborsClassifier\n",
    "lr=LogisticRegression()\n",
    "knn=KNeighborsClassifier(n_neighbors=7)\n",
    "svc=SVC(kernel='linear',C=0.7)\n",
    "rfecv_feat_idx=rfe_feature_selection(svc,boruta_train_x_scaled,train_y,15) # Getting features using RFECV \n",
    "rfecv_feat_idx.shape"
   ]
  },
  {
   "attachments": {},
   "cell_type": "markdown",
   "metadata": {},
   "source": [
    "selected features = 25"
   ]
  },
  {
   "attachments": {},
   "cell_type": "markdown",
   "metadata": {},
   "source": [
    "Used cv = 10"
   ]
  },
  {
   "cell_type": "code",
   "execution_count": 185,
   "metadata": {},
   "outputs": [],
   "source": [
    "from sklearn.metrics import accuracy_score\n",
    "from sklearn.model_selection import StratifiedKFold\n",
    "k_folds=10\n",
    "skfold=StratifiedKFold(n_splits=k_folds,random_state=100,shuffle=True)\n",
    "sel_train_x=np.take(boruta_train_x_scaled,rfecv_feat_idx,axis=1)\n",
    "sel_test_x=np.take(boruta_test_x_scaled,rfecv_feat_idx,axis=1)\n",
    "metrics=[]\n",
    "for train_idx,val_idx in skfold.split(sel_train_x,train_y):\n",
    "    x_train = np.take(sel_train_x,train_idx,axis=0) # This train is the train set in validation\n",
    "    x_val = np.take(sel_train_x,val_idx,axis=0)\n",
    "    y_train = np.take(train_y,train_idx,axis=0)\n",
    "    y_val = np.take(train_y,val_idx,axis=0)\n",
    "    # model_svc=SVC(kernel='poly',C=1)\n",
    "    model_svc=SVC(kernel='poly',C=0.7)\n",
    "    model_svc.fit(x_train,y_train)\n",
    "    pred_val_y=model_svc.predict(x_val)\n",
    "    pred_test_y=model_svc.predict(sel_test_x)\n",
    "    metrics.append([accuracy_score(y_val,pred_val_y),\n",
    "                    accuracy_score(test_y,pred_test_y)])\n",
    "    \n",
    "    "
   ]
  },
  {
   "cell_type": "code",
   "execution_count": 186,
   "metadata": {},
   "outputs": [
    {
     "data": {
      "text/plain": [
       "[[0.5238095238095238, 0.6153846153846154],\n",
       " [0.5238095238095238, 0.6346153846153846],\n",
       " [0.6666666666666666, 0.6153846153846154],\n",
       " [0.5238095238095238, 0.6538461538461539],\n",
       " [0.6, 0.6346153846153846],\n",
       " [0.65, 0.5961538461538461],\n",
       " [0.6, 0.6538461538461539],\n",
       " [0.55, 0.6346153846153846],\n",
       " [0.6, 0.6538461538461539],\n",
       " [0.55, 0.6538461538461539]]"
      ]
     },
     "execution_count": 186,
     "metadata": {},
     "output_type": "execute_result"
    }
   ],
   "source": [
    "metrics"
   ]
  },
  {
   "attachments": {},
   "cell_type": "markdown",
   "metadata": {},
   "source": [
    "get selected feature idx"
   ]
  },
  {
   "cell_type": "code",
   "execution_count": 187,
   "metadata": {},
   "outputs": [
    {
     "name": "stdout",
     "output_type": "stream",
     "text": [
      "Accuracy : 0.6346153846153847 +/- 0.019230769230769232\n"
     ]
    }
   ],
   "source": [
    "metrics=np.array(metrics)\n",
    "avg_accuracy=np.mean(metrics,axis=0)\n",
    "std_accuracy=np.std(metrics,axis=0)\n",
    "print(\"Accuracy : \"+str(avg_accuracy[1])+\" +/- \"+str(std_accuracy[1]))"
   ]
  }
 ],
 "metadata": {
  "kernelspec": {
   "display_name": "mgmt",
   "language": "python",
   "name": "python3"
  },
  "language_info": {
   "codemirror_mode": {
    "name": "ipython",
    "version": 3
   },
   "file_extension": ".py",
   "mimetype": "text/x-python",
   "name": "python",
   "nbconvert_exporter": "python",
   "pygments_lexer": "ipython3",
   "version": "3.9.16"
  },
  "orig_nbformat": 4,
  "vscode": {
   "interpreter": {
    "hash": "5b2455c0773d8c26655dfdc47cb2724dbbc1b091978a8bf3cd237ee649eef30f"
   }
  }
 },
 "nbformat": 4,
 "nbformat_minor": 2
}
