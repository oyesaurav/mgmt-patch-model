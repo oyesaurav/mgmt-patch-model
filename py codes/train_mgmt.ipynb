{
 "cells": [
  {
   "cell_type": "code",
   "execution_count": 63,
   "metadata": {},
   "outputs": [],
   "source": [
    "import os \n",
    "import pandas as pd"
   ]
  },
  {
   "cell_type": "code",
   "execution_count": 64,
   "metadata": {},
   "outputs": [],
   "source": [
    "main_dir = \"E:\\ML projects\\MGMT\"\n",
    "os.chdir(main_dir)"
   ]
  },
  {
   "attachments": {},
   "cell_type": "markdown",
   "metadata": {},
   "source": [
    "Selecting patients with MGMT status available with struc features"
   ]
  },
  {
   "cell_type": "code",
   "execution_count": 76,
   "metadata": {},
   "outputs": [
    {
     "name": "stdout",
     "output_type": "stream",
     "text": [
      "df_t1_t2.shape after combining mgmt status(598, 1730)\n",
      "df_t1_t2.shape after selecting only available mgmt(256, 1730)\n"
     ]
    }
   ],
   "source": [
    "df_t1_t2 = pd.read_csv(\"./Extracted feat combined/t1_t2_flair_t1gd.csv\")\n",
    "df_t1_t2.drop(['Unnamed: 0'], axis=1,inplace=True)\n",
    "df_mgmt = pd.read_csv(\"UPENN-GBM_clinical_info_v1.0.csv\")\n",
    "df_mgmt.rename(columns={'ID':'SubjectID'}, inplace=True)\n",
    "\n",
    "df_t1_t2 = df_t1_t2.merge(df_mgmt[['MGMT','SubjectID']], on='SubjectID', how='right')\n",
    "df_t1_t2 = df_t1_t2.dropna(axis=0)\n",
    "print(\"df_t1_t2.shape after combining mgmt status\" + str(df_t1_t2.shape))\n",
    "\n",
    "df_1 = df_t1_t2[df_t1_t2['MGMT'] == 'Unmethylated']\n",
    "df_2 = df_t1_t2[df_t1_t2['MGMT'] == 'Methylated']\n",
    "df_t1_t2 = pd.concat([df_2,df_1])\n",
    "print(\"df_t1_t2.shape after selecting only available mgmt\" + str(df_t1_t2.shape))"
   ]
  },
  {
   "cell_type": "code",
   "execution_count": 77,
   "metadata": {},
   "outputs": [
    {
     "data": {
      "text/plain": [
       "Unmethylated    147\n",
       "Methylated      109\n",
       "Name: MGMT, dtype: int64"
      ]
     },
     "execution_count": 77,
     "metadata": {},
     "output_type": "execute_result"
    }
   ],
   "source": [
    "df_t1_t2.MGMT.value_counts()"
   ]
  },
  {
   "cell_type": "code",
   "execution_count": 78,
   "metadata": {},
   "outputs": [
    {
     "data": {
      "text/plain": [
       "0    147\n",
       "1    109\n",
       "Name: MGMT, dtype: int64"
      ]
     },
     "execution_count": 78,
     "metadata": {},
     "output_type": "execute_result"
    }
   ],
   "source": [
    "df_t1_t2['MGMT']=df_t1_t2['MGMT'].apply(lambda a :1 if a=='Methylated' else 0)\n",
    "df_t1_t2['MGMT'].value_counts()"
   ]
  },
  {
   "attachments": {},
   "cell_type": "markdown",
   "metadata": {},
   "source": [
    "#### test train split"
   ]
  },
  {
   "cell_type": "code",
   "execution_count": 168,
   "metadata": {},
   "outputs": [],
   "source": [
    "from sklearn.model_selection import train_test_split\n",
    "train_x, test_x, train_y, test_y = train_test_split(df_t1_t2.drop(['MGMT'], axis=1), df_t1_t2.MGMT, test_size=0.10, random_state=42, stratify=df_t1_t2['MGMT'])"
   ]
  },
  {
   "cell_type": "code",
   "execution_count": 169,
   "metadata": {},
   "outputs": [
    {
     "name": "stdout",
     "output_type": "stream",
     "text": [
      "train size - (230, 1729)\n",
      "test size - (26, 1729)\n"
     ]
    }
   ],
   "source": [
    "print(\"train size - \" + str(train_x.shape))\n",
    "print(\"test size - \" + str(test_x.shape))"
   ]
  },
  {
   "attachments": {},
   "cell_type": "markdown",
   "metadata": {},
   "source": [
    "#### Feature selection using SVM"
   ]
  },
  {
   "cell_type": "code",
   "execution_count": 171,
   "metadata": {},
   "outputs": [],
   "source": [
    "# function for rfe \n",
    "from sklearn.feature_selection import RFE\n",
    "def rfe_feature_selection(algo,X,y,n_feature_selection,step):\n",
    "  rfe=RFE(algo,n_features_to_select=n_feature_selection,step=step)\n",
    "  return rfe.fit(X,y)"
   ]
  },
  {
   "attachments": {},
   "cell_type": "markdown",
   "metadata": {},
   "source": [
    "Scaling features"
   ]
  },
  {
   "cell_type": "code",
   "execution_count": 172,
   "metadata": {},
   "outputs": [],
   "source": [
    "from sklearn.preprocessing import StandardScaler\n",
    "x_scaled = StandardScaler().fit(train_x.drop(['SubjectID'], axis=1))\n",
    "train_x_scaled = x_scaled.transform(train_x.drop(['SubjectID'], axis=1))"
   ]
  },
  {
   "attachments": {},
   "cell_type": "markdown",
   "metadata": {},
   "source": [
    "get selected feature idx"
   ]
  },
  {
   "cell_type": "code",
   "execution_count": 173,
   "metadata": {},
   "outputs": [],
   "source": [
    "from sklearn.svm import SVC\n",
    "svc_model = rfe_feature_selection(SVC(kernel='linear'), train_x_scaled, train_y, 1000, 10)\n",
    "sel_feat_idx=svc_model.get_support(indices=True)"
   ]
  },
  {
   "attachments": {},
   "cell_type": "markdown",
   "metadata": {},
   "source": [
    "try with no split, predict test"
   ]
  },
  {
   "cell_type": "code",
   "execution_count": 175,
   "metadata": {},
   "outputs": [],
   "source": [
    "svc=SVC(kernel='linear')\n",
    "svc.fit(np.take(train_x_scaled,sel_feat_idx,axis=1),train_y)\n",
    "\n",
    "test_x_scaled = x_scaled.transform(test_x.drop(['SubjectID'], axis=1))\n",
    "test_x_scaled_sel=np.take(test_x_scaled,sel_feat_idx,axis=1)\n",
    "\n",
    "# from sklearn.metrics import accuracy_score\n",
    "# y_pred=svc.predict(test_x_scaled_sel)\n",
    "# y_pred=np.where(y_pred>0.5,1,0)\n",
    "# accuracy_score(test_y,y_pred)"
   ]
  },
  {
   "attachments": {},
   "cell_type": "markdown",
   "metadata": {},
   "source": [
    "### Cross Validation"
   ]
  },
  {
   "cell_type": "code",
   "execution_count": 176,
   "metadata": {},
   "outputs": [],
   "source": [
    "import numpy as np\n",
    "train_x_scaled_sel = np.take(train_x_scaled,sel_feat_idx, axis=1)"
   ]
  },
  {
   "cell_type": "code",
   "execution_count": 177,
   "metadata": {},
   "outputs": [
    {
     "data": {
      "text/plain": [
       "array([0.73913043, 0.43478261, 0.7826087 , 0.65217391, 0.56521739,\n",
       "       0.69565217, 0.56521739, 0.56521739, 0.60869565, 0.73913043])"
      ]
     },
     "execution_count": 177,
     "metadata": {},
     "output_type": "execute_result"
    }
   ],
   "source": [
    "from sklearn.model_selection import StratifiedKFold,cross_val_score\n",
    "\n",
    "cross_val_score(SVC(kernel='linear'),\n",
    "                train_x_scaled_sel ,\n",
    "                train_y,cv=10,)\n",
    "    "
   ]
  },
  {
   "cell_type": "code",
   "execution_count": 178,
   "metadata": {},
   "outputs": [
    {
     "name": "stdout",
     "output_type": "stream",
     "text": [
      "validation acc - 0.7391304347826086\n",
      "Test acc - 0.5\n",
      "validation acc - 0.43478260869565216\n",
      "Test acc - 0.5\n",
      "validation acc - 0.782608695652174\n",
      "Test acc - 0.46153846153846156\n",
      "validation acc - 0.6521739130434783\n",
      "Test acc - 0.5\n",
      "validation acc - 0.5652173913043478\n",
      "Test acc - 0.5384615384615384\n",
      "validation acc - 0.6956521739130435\n",
      "Test acc - 0.5\n",
      "validation acc - 0.5652173913043478\n",
      "Test acc - 0.5384615384615384\n",
      "validation acc - 0.5652173913043478\n",
      "Test acc - 0.5\n",
      "validation acc - 0.6086956521739131\n",
      "Test acc - 0.46153846153846156\n",
      "validation acc - 0.7391304347826086\n",
      "Test acc - 0.5384615384615384\n"
     ]
    }
   ],
   "source": [
    "from sklearn.metrics import accuracy_score\n",
    "\n",
    "kfd=StratifiedKFold(n_splits=10)\n",
    "for train_idx,val_idx in kfd.split(train_x_scaled_sel,train_y):\n",
    "    x_train = np.take(train_x_scaled_sel,train_idx,axis=0)\n",
    "    x_val = np.take(train_x_scaled_sel,val_idx,axis=0)\n",
    "    y_train = np.take(train_y,train_idx,axis=0)\n",
    "    y_val = np.take(train_y,val_idx,axis=0)\n",
    "\n",
    "    history = SVC(kernel='linear').fit(x_train,y_train)\n",
    "    y_pred = history.predict(x_val)\n",
    "    acc = accuracy_score(y_val,y_pred)\n",
    "    print(\"validation acc - \" + str(acc))\n",
    "\n",
    "    y_pred_test=history.predict(test_x_scaled_sel)\n",
    "    # y_pred_test=np.where(y_pred_test>0.5,1,0)\n",
    "    test_acc = accuracy_score(test_y,y_pred_test)\n",
    "    print(\"Test acc - \" + str(test_acc))"
   ]
  }
 ],
 "metadata": {
  "kernelspec": {
   "display_name": "base",
   "language": "python",
   "name": "python3"
  },
  "language_info": {
   "codemirror_mode": {
    "name": "ipython",
    "version": 3
   },
   "file_extension": ".py",
   "mimetype": "text/x-python",
   "name": "python",
   "nbconvert_exporter": "python",
   "pygments_lexer": "ipython3",
   "version": "3.8.5"
  },
  "orig_nbformat": 4,
  "vscode": {
   "interpreter": {
    "hash": "6f5583cf1d9466b5c27e75c89cc6b383bed5736d6b16c51c8074d8690011a952"
   }
  }
 },
 "nbformat": 4,
 "nbformat_minor": 2
}
