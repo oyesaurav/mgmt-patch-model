{
 "cells": [
  {
   "attachments": {},
   "cell_type": "markdown",
   "metadata": {},
   "source": [
    "## Concating fetaures of Segm,DSC,DTI featurews of each patient"
   ]
  },
  {
   "cell_type": "code",
   "execution_count": 1,
   "metadata": {},
   "outputs": [],
   "source": [
    "import os\n",
    "import pandas as pd"
   ]
  },
  {
   "cell_type": "code",
   "execution_count": 4,
   "metadata": {},
   "outputs": [
    {
     "data": {
      "text/plain": [
       "['DSC_ap_rCBV_segm.csv',\n",
       " 'DSC_PH_segm.csv',\n",
       " 'DSC_PSR_segm.csv',\n",
       " 'DTI_AD_segm.csv',\n",
       " 'DTI_FA_segm.csv',\n",
       " 'DTI_RD_segm.csv',\n",
       " 'DTI_TR_segm.csv',\n",
       " 'T1_T2_FLAIR_T1GD_segm.csv']"
      ]
     },
     "execution_count": 4,
     "metadata": {},
     "output_type": "execute_result"
    }
   ],
   "source": [
    "main_dir = \"E:\\ML projects\\MGMT\" \n",
    "os.chdir(main_dir)\n",
    "csv_path=os.listdir('./Extracted features/')\n",
    "csv_path"
   ]
  },
  {
   "cell_type": "code",
   "execution_count": 6,
   "metadata": {},
   "outputs": [],
   "source": [
    "df_dsc_ap_rcbv = pd.read_csv(\"./Extracted features/DSC_ap_rCBV_segm.csv\")\n",
    "df_dsc_ph = pd.read_csv(\"./Extracted features/DSC_PH_segm.csv\")\n",
    "df_dsc_psr = pd.read_csv(\"./Extracted features/DSC_PSR_segm.csv\")\n",
    "df_dti_ad = pd.read_csv(\"./Extracted features/DTI_AD_segm.csv\")\n",
    "df_dti_fa = pd.read_csv(\"./Extracted features/DTI_FA_segm.csv\")\n",
    "df_dti_rd = pd.read_csv(\"./Extracted features/DTI_RD_segm.csv\")\n",
    "df_dti_tr = pd.read_csv(\"./Extracted features/DTI_TR_segm.csv\")\n",
    "df_t1_t2_flair_gd = pd.read_csv(\"./Extracted features/T1_T2_FLAIR_T1GD_segm.csv\")"
   ]
  },
  {
   "cell_type": "code",
   "execution_count": 14,
   "metadata": {},
   "outputs": [
    {
     "data": {
      "text/plain": [
       "(228, 1730)"
      ]
     },
     "execution_count": 14,
     "metadata": {},
     "output_type": "execute_result"
    }
   ],
   "source": [
    "df_t1_t2_flair_gd.shape"
   ]
  }
 ],
 "metadata": {
  "kernelspec": {
   "display_name": "base",
   "language": "python",
   "name": "python3"
  },
  "language_info": {
   "codemirror_mode": {
    "name": "ipython",
    "version": 3
   },
   "file_extension": ".py",
   "mimetype": "text/x-python",
   "name": "python",
   "nbconvert_exporter": "python",
   "pygments_lexer": "ipython3",
   "version": "3.8.5"
  },
  "orig_nbformat": 4,
  "vscode": {
   "interpreter": {
    "hash": "6f5583cf1d9466b5c27e75c89cc6b383bed5736d6b16c51c8074d8690011a952"
   }
  }
 },
 "nbformat": 4,
 "nbformat_minor": 2
}
