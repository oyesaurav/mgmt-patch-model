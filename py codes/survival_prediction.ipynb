{
 "cells": [
  {
   "attachments": {},
   "cell_type": "markdown",
   "metadata": {},
   "source": [
    "### **Importing Libraries and required data**"
   ]
  },
  {
   "cell_type": "code",
   "execution_count": 1,
   "metadata": {},
   "outputs": [],
   "source": [
    "import os \n",
    "import pandas as pd\n",
    "import numpy as np"
   ]
  },
  {
   "attachments": {},
   "cell_type": "markdown",
   "metadata": {},
   "source": [
    "Selecting patients with MGMT status available in t1_t2_flair_t1gd "
   ]
  },
  {
   "cell_type": "code",
   "execution_count": 2,
   "metadata": {},
   "outputs": [
    {
     "name": "stdout",
     "output_type": "stream",
     "text": [
      "Shape of the dataframe(598, 1730)\n",
      "Column names:Index(['SubjectID', 'T1_ED_Intensity_CoefficientOfVariation',\n",
      "       'T1_ED_Intensity_Energy', 'T1_ED_Intensity_InterQuartileRange',\n",
      "       'T1_ED_Intensity_Kurtosis', 'T1_ED_Intensity_Maximum',\n",
      "       'T1_ED_Intensity_Mean', 'T1_ED_Intensity_MeanAbsoluteDeviation',\n",
      "       'T1_ED_Intensity_Median', 'T1_ED_Intensity_MedianAbsoluteDeviation',\n",
      "       ...\n",
      "       'T1GD_NC_GLSZM_Bins-16_Radius-1_ZoneSizeNonUniformity',\n",
      "       'T1GD_NC_GLSZM_Bins-16_Radius-1_ZoneSizeNoneUniformityNormalized',\n",
      "       'T1GD_NC_GLSZM_Bins-16_Radius-1_ZoneSizeVariance',\n",
      "       'T1GD_NC_NGTDM_Busyness', 'T1GD_NC_NGTDM_Coarsness',\n",
      "       'T1GD_NC_NGTDM_Complexity', 'T1GD_NC_NGTDM_Contrast',\n",
      "       'T1GD_NC_NGTDM_Strength', 'T1GD_NC_LBP_Radius-1_Bins-16_LBP',\n",
      "       'Survival_days'],\n",
      "      dtype='object', length=1730)\n"
     ]
    }
   ],
   "source": [
    "# Loading t1_t2_flair_t1gd data\n",
    "df_t1_t2 = pd.read_csv(\"../Extracted feat combined/t1_t2_flair_t1gd.csv\")\n",
    "df_t1_t2.drop(['Unnamed: 0'], axis=1,inplace=True)\n",
    "\n",
    "# Loading Clinical Info\n",
    "df_mgmt_survival = pd.read_csv(\"../UPENN-GBM_clinical_info_v1.0.csv\")\n",
    "df_mgmt_survival.rename(columns={'ID':'SubjectID'}, inplace=True)  # Renaming ID to SubjectID\n",
    "\n",
    "# Merging the above two CSV's\n",
    "df_t1_t2_survival = df_t1_t2.merge(df_mgmt_survival[['Survival_from_surgery_days','SubjectID']], on='SubjectID', how='right')\n",
    "df_t1_t2_survival.rename(columns={'Survival_from_surgery_days':'Survival_days'}, inplace=True)\n",
    "df_t1_t2_survival = df_t1_t2_survival.dropna(axis=0)\n",
    "\n",
    "print(\"Shape of the dataframe\" + str(df_t1_t2_survival.shape))\n",
    "print(\"Column names:{}\".format(df_t1_t2_survival.columns))\n",
    "# df_1 = df_t1_t2[df_t1_t2['MGMT'] == 'Unmethylated']\n",
    "# df_2 = df_t1_t2[df_t1_t2['MGMT'] == 'Methylated']\n",
    "# df_t1_t2 = pd.concat([df_2,df_1])\n",
    "# print(\"df_t1_t2.shape after selecting only available mgmt\" + str(df_t1_t2.shape))"
   ]
  },
  {
   "cell_type": "code",
   "execution_count": 3,
   "metadata": {},
   "outputs": [],
   "source": [
    "# Removing the data containing label Not available\n",
    "df_t1_t2_survival=df_t1_t2_survival[df_t1_t2_survival['Survival_days'].isin(['Not Available'])==False]\n",
    "\n",
    "# Classifing the Survival Days into Short period and Long period\n",
    "# More than 365 days are long period\n",
    "# Less than or equals 365 are short period\n",
    "df_t1_t2_survival['Survival_days']=df_t1_t2_survival['Survival_days'].apply(lambda x: 'long' if int(x)>365 else 'short')\n",
    "\n",
    "# Converting long and short labels to 1 and 0 simultaneosly\n",
    "df_t1_t2_survival['Survival_days']=df_t1_t2_survival['Survival_days'].apply(lambda x: 1 if x=='long' else 0)\n"
   ]
  },
  {
   "attachments": {},
   "cell_type": "markdown",
   "metadata": {},
   "source": [
    "Long is classified as 1\n",
    "\n",
    "Short is classified as 0"
   ]
  },
  {
   "cell_type": "code",
   "execution_count": 4,
   "metadata": {},
   "outputs": [
    {
     "data": {
      "text/plain": [
       "0    223\n",
       "1    221\n",
       "Name: Survival_days, dtype: int64"
      ]
     },
     "execution_count": 4,
     "metadata": {},
     "output_type": "execute_result"
    }
   ],
   "source": [
    "# Value couts of labels\n",
    "df_t1_t2_survival['Survival_days'].value_counts()"
   ]
  },
  {
   "attachments": {},
   "cell_type": "markdown",
   "metadata": {},
   "source": [
    "The data we got is perfectly balanced"
   ]
  },
  {
   "attachments": {},
   "cell_type": "markdown",
   "metadata": {},
   "source": [
    "### **Train Test Split**"
   ]
  },
  {
   "cell_type": "code",
   "execution_count": 5,
   "metadata": {},
   "outputs": [
    {
     "name": "stdout",
     "output_type": "stream",
     "text": [
      "train size - (355, 1728)\n",
      "test size - (89, 1728)\n"
     ]
    }
   ],
   "source": [
    "from sklearn.model_selection import train_test_split\n",
    "train_x, test_x, train_y, test_y = train_test_split(df_t1_t2_survival.drop(['Survival_days','SubjectID'],axis=1), \n",
    "                                                    df_t1_t2_survival['Survival_days'], test_size=0.20, \n",
    "                                                    random_state=100, \n",
    "                                                    stratify=df_t1_t2_survival['Survival_days'])\n",
    "print(\"train size - \" + str(train_x.shape))\n",
    "print(\"test size - \" + str(test_x.shape))"
   ]
  },
  {
   "attachments": {},
   "cell_type": "markdown",
   "metadata": {},
   "source": [
    "### **Feature Selection**"
   ]
  },
  {
   "attachments": {},
   "cell_type": "markdown",
   "metadata": {},
   "source": [
    "#### **Variance Threshold**"
   ]
  },
  {
   "cell_type": "code",
   "execution_count": 6,
   "metadata": {},
   "outputs": [],
   "source": [
    "### Reducing features using Variance Threshold\n",
    "threshold=0.4\n",
    "low_var_col= [x for x in train_x.columns if train_x[x].var()<threshold]\n",
    "train_x.drop(low_var_col,axis=1,inplace=True)\n",
    "test_x.drop(low_var_col,axis=1,inplace=True)"
   ]
  },
  {
   "attachments": {},
   "cell_type": "markdown",
   "metadata": {},
   "source": [
    "#### **Variance Threshold**"
   ]
  },
  {
   "cell_type": "code",
   "execution_count": 7,
   "metadata": {},
   "outputs": [
    {
     "data": {
      "text/plain": [
       "(355, 307)"
      ]
     },
     "execution_count": 7,
     "metadata": {},
     "output_type": "execute_result"
    }
   ],
   "source": [
    "def correlation(dataset, threshold):\n",
    "    col_corr = set()  # Set of all the names of correlated columns\n",
    "    corr_matrix = dataset.corr()\n",
    "    for i in range(len(corr_matrix.columns)):\n",
    "        for j in range(i):\n",
    "            if abs(corr_matrix.iloc[i, j]) > threshold: # we are interested in absolute coeff value\n",
    "                colname = corr_matrix.columns[i]  # getting the name of column\n",
    "                col_corr.add(colname)\n",
    "    return col_corr\n",
    "\n",
    "correlated_idx=correlation(train_x,0.85)\n",
    "train_x.drop(correlated_idx,axis=1,inplace=True)\n",
    "test_x.drop(correlated_idx,axis=1,inplace=True)\n",
    "train_x.shape"
   ]
  },
  {
   "attachments": {},
   "cell_type": "markdown",
   "metadata": {},
   "source": [
    "#### **RFECV using SVM**"
   ]
  },
  {
   "cell_type": "code",
   "execution_count": 8,
   "metadata": {},
   "outputs": [],
   "source": [
    "# Function for rfecv\n",
    "from sklearn.feature_selection import RFE,RFECV\n",
    "def rfe_feature_selection(algo,X,y,cv):\n",
    "  rfe=RFECV(estimator=algo,cv=cv,min_features_to_select=20)\n",
    "  rfe.fit(X,y)\n",
    "  rfe_sel_index=rfe.get_support(indices=True)\n",
    "  return rfe_sel_index"
   ]
  },
  {
   "attachments": {},
   "cell_type": "markdown",
   "metadata": {},
   "source": [
    "#### **Feature Scaling**"
   ]
  },
  {
   "cell_type": "code",
   "execution_count": 9,
   "metadata": {},
   "outputs": [],
   "source": [
    "from sklearn.preprocessing import StandardScaler,MinMaxScaler\n",
    "x_scaled = StandardScaler().fit(train_x)\n",
    "train_x_scaled = x_scaled.transform(train_x)\n",
    "test_x_scaled=x_scaled.transform(test_x)"
   ]
  },
  {
   "attachments": {},
   "cell_type": "markdown",
   "metadata": {},
   "source": [
    "#### **Feature Importance using Buruto**"
   ]
  },
  {
   "cell_type": "code",
   "execution_count": 10,
   "metadata": {},
   "outputs": [
    {
     "data": {
      "text/plain": [
       "array([ 58, 287,  33, 115, 158, 177, 200, 177, 131, 112,  40,   7,  64,\n",
       "       200, 264,  12,  29, 287,  92, 245,  74, 158,  67, 245, 158, 200,\n",
       "       200, 158, 245, 287, 158,  36,  19, 108, 200, 200, 245,  15, 287,\n",
       "        60,  76,  10, 129, 133, 287,  88, 101, 200,  84, 177,   2, 245,\n",
       "       200,  50, 200,  53, 245,  83, 229, 224, 106,  27,  55, 158, 200,\n",
       "        43, 287, 108,  45, 245, 224,  62, 132, 177,  41,  61,  23, 200,\n",
       "       264, 126, 139, 110, 200, 245, 158, 134, 123, 264,  59,  21,  20,\n",
       "       287, 111,  67,  57,  11,  31,  51,  30,  16, 287,  23,   1,   8,\n",
       "       139, 245, 200,  79, 287, 224, 287, 224, 200, 264, 125, 200, 143,\n",
       "       105, 200,  17,  38, 158,  53,   5,  67, 177, 287,  25, 245, 224,\n",
       "       113, 200, 100, 245, 200,  56,  13, 136, 128, 158,  18, 118, 102,\n",
       "       177, 158,  92,  39,   9, 117, 245, 287, 287,  75, 114,  89,  77,\n",
       "        64,   1, 287, 144, 287, 200, 200,   4,  34, 158, 177, 200,  81,\n",
       "        98, 200, 158, 200, 245, 287, 142, 158, 287, 200, 158,  22,  64,\n",
       "       245,  52, 245, 158,  48, 287,  84,  86, 200, 221, 158,  44,   6,\n",
       "       245, 287, 200, 200,  98,  91, 245, 245, 287, 287,  94, 245, 200,\n",
       "        13, 200, 287, 200, 106, 200, 287, 287, 158, 158, 287,  79,  71,\n",
       "       245,  79, 200, 287, 245,   3, 121,  82,  70, 122, 287, 245, 158,\n",
       "       245, 287, 103, 245, 177, 287, 177, 245, 264,  37, 224, 245, 287,\n",
       "       287, 200, 287, 287, 264, 245,  42, 158, 229, 219, 264, 245, 219,\n",
       "        90, 200, 141, 158, 158, 116, 130, 287, 145, 158, 200,  71, 287,\n",
       "        86, 177, 287,  26, 104,  96, 127, 158,  49,  46,  94,  34, 139,\n",
       "        69, 177, 135,  27, 287,  96, 229, 158, 137,  47, 120, 200, 123,\n",
       "       287, 158, 287,  73, 245, 119, 245,  32], dtype=int64)"
      ]
     },
     "execution_count": 10,
     "metadata": {},
     "output_type": "execute_result"
    }
   ],
   "source": [
    "import xgboost as xgb\n",
    "import lightgbm as lgb\n",
    "from boruta import BorutaPy\n",
    "xgb_model=xgb.XGBClassifier()\n",
    "feat_sel_boruta=BorutaPy(xgb_model,n_estimators='auto',verbose=0,random_state=1)\n",
    "feat_sel_boruta.fit(train_x_scaled,train_y)\n",
    "boruta_rank=feat_sel_boruta.ranking_\n",
    "boruta_rank"
   ]
  },
  {
   "cell_type": "code",
   "execution_count": 11,
   "metadata": {},
   "outputs": [],
   "source": [
    "col_dict_rank=dict(zip(train_x.columns,boruta_rank))\n",
    "boruta_sel_col=[col for col in col_dict_rank.keys() if col_dict_rank[col]<=45]\n",
    "boruta_train_x=train_x[boruta_sel_col]\n",
    "boruta_test_x=test_x[boruta_sel_col]\n",
    "\n",
    "boruta_x_scaled = StandardScaler().fit(boruta_train_x)\n",
    "boruta_train_x_scaled = boruta_x_scaled.transform(boruta_train_x)\n",
    "boruta_test_x_scaled=boruta_x_scaled.transform(boruta_test_x)"
   ]
  },
  {
   "cell_type": "code",
   "execution_count": 12,
   "metadata": {},
   "outputs": [
    {
     "data": {
      "text/plain": [
       "46"
      ]
     },
     "execution_count": 12,
     "metadata": {},
     "output_type": "execute_result"
    }
   ],
   "source": [
    "len(boruta_sel_col)"
   ]
  },
  {
   "attachments": {},
   "cell_type": "markdown",
   "metadata": {},
   "source": [
    "#### **SVM**"
   ]
  },
  {
   "cell_type": "code",
   "execution_count": 26,
   "metadata": {},
   "outputs": [
    {
     "data": {
      "text/plain": [
       "0.6629213483146067"
      ]
     },
     "execution_count": 26,
     "metadata": {},
     "output_type": "execute_result"
    }
   ],
   "source": [
    "from sklearn.svm import SVC\n",
    "svc=SVC(kernel='rbf',C=0.1)\n",
    "svc.fit(boruta_train_x_scaled,train_y)\n",
    "svc.score(boruta_test_x_scaled,test_y)"
   ]
  },
  {
   "attachments": {},
   "cell_type": "markdown",
   "metadata": {},
   "source": [
    "#### **Naive Bayes**"
   ]
  },
  {
   "cell_type": "code",
   "execution_count": 14,
   "metadata": {},
   "outputs": [
    {
     "data": {
      "text/plain": [
       "0.5280898876404494"
      ]
     },
     "execution_count": 14,
     "metadata": {},
     "output_type": "execute_result"
    }
   ],
   "source": [
    "from sklearn.naive_bayes import GaussianNB\n",
    "gnb=GaussianNB()\n",
    "gnb.fit(boruta_train_x_scaled,train_y)\n",
    "gnb.score(boruta_test_x_scaled,test_y)"
   ]
  },
  {
   "attachments": {},
   "cell_type": "markdown",
   "metadata": {},
   "source": [
    "#### **Logistic Regression**"
   ]
  },
  {
   "cell_type": "code",
   "execution_count": 15,
   "metadata": {},
   "outputs": [
    {
     "data": {
      "text/plain": [
       "0.5842696629213483"
      ]
     },
     "execution_count": 15,
     "metadata": {},
     "output_type": "execute_result"
    }
   ],
   "source": [
    "from sklearn.linear_model import LogisticRegression\n",
    "lr=LogisticRegression()\n",
    "lr.fit(boruta_train_x_scaled,train_y)\n",
    "lr.score(boruta_test_x_scaled,test_y)"
   ]
  },
  {
   "attachments": {},
   "cell_type": "markdown",
   "metadata": {},
   "source": [
    "#### **KNN**"
   ]
  },
  {
   "cell_type": "code",
   "execution_count": 16,
   "metadata": {},
   "outputs": [
    {
     "name": "stdout",
     "output_type": "stream",
     "text": [
      "0.6966292134831461\n"
     ]
    },
    {
     "data": {
      "image/png": "[encoded data removed]",
      "text/plain": [
       "<Figure size 432x288 with 1 Axes>"
      ]
     },
     "metadata": {
      "needs_background": "light"
     },
     "output_type": "display_data"
    }
   ],
   "source": [
    "from sklearn.neighbors import KNeighborsClassifier\n",
    "import matplotlib.pyplot as plt\n",
    "knn_score=[]\n",
    "for k in range(3,150,2):\n",
    "    knn=KNeighborsClassifier(n_neighbors=k)\n",
    "    knn.fit(boruta_train_x_scaled,train_y)\n",
    "    knn_score.append(knn.score(boruta_test_x_scaled,test_y))\n",
    "\n",
    "# print(knn_score)\n",
    "print(max(knn_score)) \n",
    "plt.plot(range(3,150,2),knn_score)\n",
    "plt.xlabel('K')\n",
    "plt.ylabel('Accuracy')\n",
    "plt.show()"
   ]
  },
  {
   "attachments": {},
   "cell_type": "markdown",
   "metadata": {},
   "source": [
    "#### **Bagging Classifier**"
   ]
  },
  {
   "cell_type": "code",
   "execution_count": 17,
   "metadata": {},
   "outputs": [],
   "source": [
    "# from sklearn.ensemble import BaggingClassifier\n",
    "# from sklearn.tree import DecisionTreeClassifier\n",
    "# clf_svc = BaggingClassifier(estimator=[DecisionTreeClassifier(),SVC()],n_estimators=500, random_state=0)\n",
    "# clf_svc.fit(boruta_train_x_scaled,train_y)\n",
    "# clf_svc.score(boruta_test_x_scaled,test_y)"
   ]
  },
  {
   "cell_type": "code",
   "execution_count": 18,
   "metadata": {},
   "outputs": [],
   "source": [
    "# from sklearn.linear_model import LogisticRegression\n",
    "# from sklearn.neighbors import KNeighborsClassifier\n",
    "# lr=LogisticRegression()\n",
    "# knn=KNeighborsClassifier(n_neighbors=7)\n",
    "# svc=SVC(kernel='linear')\n",
    "# rfecv_feat_idx=rfe_feature_selection(svc,boruta_train_x_scaled,train_y,20) # Getting features using RFECV \n",
    "# rfecv_feat_idx"
   ]
  },
  {
   "cell_type": "code",
   "execution_count": 19,
   "metadata": {},
   "outputs": [
    {
     "data": {
      "text/plain": [
       "array([[ 0.13611746, -0.5125357 , -0.01274214, ..., -0.06540904,\n",
       "        -0.28185822,  0.10565674],\n",
       "       [-0.33282795, -0.24443623, -0.23998032, ..., -0.30116225,\n",
       "         0.50620203, -0.60395731],\n",
       "       [-0.06477808, -0.5125357 , -0.2541827 , ...,  1.863033  ,\n",
       "        -0.81275354,  1.81419516],\n",
       "       ...,\n",
       "       [-0.13857113, -0.55721895, -0.2612839 , ..., -0.2457562 ,\n",
       "         0.62085326, -0.13687087],\n",
       "       [-0.03606533, -0.46785246, -0.13346242, ...,  1.75403968,\n",
       "        -1.13896679, -0.26815284],\n",
       "       [-0.44445877, -0.49019408, -0.10150705, ..., -0.91258079,\n",
       "        -0.85923184,  0.62919062]])"
      ]
     },
     "execution_count": 19,
     "metadata": {},
     "output_type": "execute_result"
    }
   ],
   "source": [
    "boruta_train_x_scaled"
   ]
  },
  {
   "cell_type": "code",
   "execution_count": 81,
   "metadata": {},
   "outputs": [],
   "source": [
    "from sklearn.metrics import accuracy_score\n",
    "from sklearn.model_selection import StratifiedKFold\n",
    "k_folds=10\n",
    "skfold=StratifiedKFold(n_splits=k_folds,random_state=10,shuffle=True)\n",
    "# sel_train_x=np.take(boruta_train_x_scaled,rfecv_feat_idx,axis=1)\n",
    "# sel_test_x=np.take(boruta_test_x_scaled,rfecv_feat_idx,axis=1)\n",
    "metrics=[]\n",
    "for train_idx,val_idx in skfold.split(boruta_train_x_scaled,train_y):\n",
    "    x_train = np.take(boruta_train_x_scaled,train_idx,axis=0) # This train is the train set in validation\n",
    "    x_val = np.take(boruta_train_x_scaled,val_idx,axis=0)\n",
    "    y_train = np.take(train_y,train_idx,axis=0)\n",
    "    y_val = np.take(train_y,val_idx,axis=0)\n",
    "    # model_svc=SVC(kernel='poly',C=1)\n",
    "    model_svc=SVC(kernel='rbf',C=0.1)\n",
    "    model_svc.fit(x_train,y_train)\n",
    "    pred_val_y=model_svc.predict(x_val)\n",
    "    pred_test_y=model_svc.predict(boruta_test_x_scaled)\n",
    "    metrics.append([model_svc.score(x_train,y_train),accuracy_score(y_val,pred_val_y),\n",
    "                    accuracy_score(test_y,pred_test_y)])"
   ]
  },
  {
   "cell_type": "code",
   "execution_count": 82,
   "metadata": {},
   "outputs": [
    {
     "data": {
      "text/html": [
       "<div>\n",
       "<style scoped>\n",
       "    .dataframe tbody tr th:only-of-type {\n",
       "        vertical-align: middle;\n",
       "    }\n",
       "\n",
       "    .dataframe tbody tr th {\n",
       "        vertical-align: top;\n",
       "    }\n",
       "\n",
       "    .dataframe thead th {\n",
       "        text-align: right;\n",
       "    }\n",
       "</style>\n",
       "<table border=\"1\" class=\"dataframe\">\n",
       "  <thead>\n",
       "    <tr style=\"text-align: right;\">\n",
       "      <th></th>\n",
       "      <th>train</th>\n",
       "      <th>val</th>\n",
       "      <th>test</th>\n",
       "    </tr>\n",
       "  </thead>\n",
       "  <tbody>\n",
       "    <tr>\n",
       "      <th>0</th>\n",
       "      <td>0.724138</td>\n",
       "      <td>0.722222</td>\n",
       "      <td>0.640449</td>\n",
       "    </tr>\n",
       "    <tr>\n",
       "      <th>1</th>\n",
       "      <td>0.686520</td>\n",
       "      <td>0.638889</td>\n",
       "      <td>0.629213</td>\n",
       "    </tr>\n",
       "    <tr>\n",
       "      <th>2</th>\n",
       "      <td>0.708464</td>\n",
       "      <td>0.583333</td>\n",
       "      <td>0.640449</td>\n",
       "    </tr>\n",
       "    <tr>\n",
       "      <th>3</th>\n",
       "      <td>0.711599</td>\n",
       "      <td>0.666667</td>\n",
       "      <td>0.640449</td>\n",
       "    </tr>\n",
       "    <tr>\n",
       "      <th>4</th>\n",
       "      <td>0.683386</td>\n",
       "      <td>0.500000</td>\n",
       "      <td>0.674157</td>\n",
       "    </tr>\n",
       "    <tr>\n",
       "      <th>5</th>\n",
       "      <td>0.671875</td>\n",
       "      <td>0.657143</td>\n",
       "      <td>0.651685</td>\n",
       "    </tr>\n",
       "    <tr>\n",
       "      <th>6</th>\n",
       "      <td>0.665625</td>\n",
       "      <td>0.657143</td>\n",
       "      <td>0.640449</td>\n",
       "    </tr>\n",
       "    <tr>\n",
       "      <th>7</th>\n",
       "      <td>0.678125</td>\n",
       "      <td>0.542857</td>\n",
       "      <td>0.651685</td>\n",
       "    </tr>\n",
       "    <tr>\n",
       "      <th>8</th>\n",
       "      <td>0.703125</td>\n",
       "      <td>0.600000</td>\n",
       "      <td>0.617978</td>\n",
       "    </tr>\n",
       "    <tr>\n",
       "      <th>9</th>\n",
       "      <td>0.715625</td>\n",
       "      <td>0.485714</td>\n",
       "      <td>0.629213</td>\n",
       "    </tr>\n",
       "  </tbody>\n",
       "</table>\n",
       "</div>"
      ],
      "text/plain": [
       "      train       val      test\n",
       "0  0.724138  0.722222  0.640449\n",
       "1  0.686520  0.638889  0.629213\n",
       "2  0.708464  0.583333  0.640449\n",
       "3  0.711599  0.666667  0.640449\n",
       "4  0.683386  0.500000  0.674157\n",
       "5  0.671875  0.657143  0.651685\n",
       "6  0.665625  0.657143  0.640449\n",
       "7  0.678125  0.542857  0.651685\n",
       "8  0.703125  0.600000  0.617978\n",
       "9  0.715625  0.485714  0.629213"
      ]
     },
     "execution_count": 82,
     "metadata": {},
     "output_type": "execute_result"
    }
   ],
   "source": [
    "df_metrics=pd.DataFrame(data=metrics,columns=['train','val','test'])\n",
    "df_metrics"
   ]
  },
  {
   "cell_type": "code",
   "execution_count": 83,
   "metadata": {},
   "outputs": [
    {
     "name": "stdout",
     "output_type": "stream",
     "text": [
      "Accuracy : 0.6415730337078651 +/- 0.015396857521419087\n"
     ]
    }
   ],
   "source": [
    "metrics=np.array(metrics)\n",
    "avg_accuracy=df_metrics.test.mean()\n",
    "std_accuracy=df_metrics.test.std()\n",
    "print(\"Accuracy : \"+str(avg_accuracy)+\" +/- \"+str(std_accuracy))"
   ]
  },
  {
   "cell_type": "code",
   "execution_count": null,
   "metadata": {},
   "outputs": [],
   "source": []
  }
 ],
 "metadata": {
  "kernelspec": {
   "display_name": "mgmt",
   "language": "python",
   "name": "python3"
  },
  "language_info": {
   "codemirror_mode": {
    "name": "ipython",
    "version": 3
   },
   "file_extension": ".py",
   "mimetype": "text/x-python",
   "name": "python",
   "nbconvert_exporter": "python",
   "pygments_lexer": "ipython3",
   "version": "3.9.16"
  },
  "orig_nbformat": 4,
  "vscode": {
   "interpreter": {
    "hash": "5b2455c0773d8c26655dfdc47cb2724dbbc1b091978a8bf3cd237ee649eef30f"
   }
  }
 },
 "nbformat": 4,
 "nbformat_minor": 2
}
