{
 "cells": [
  {
   "cell_type": "code",
   "execution_count": 1,
   "metadata": {},
   "outputs": [],
   "source": [
    "#  Import libraries and define variables\n",
    "import os\n",
    "import shutil\n",
    "import glob\n",
    "from tqdm import tqdm\n",
    "from PIL import Image\n",
    "import nibabel as nib\n",
    "import numpy as np\n",
    "import pandas as pd\n",
    "import shutil\n",
    "\n",
    "import sys\n",
    "sys.path.append(\"..\")  # Adds the parent directory to sys.path\n",
    "import config \n",
    "\n",
    "# Define the modalities and classifications\n",
    "modalities = ['T1', 'T1GD', 'T2', 'FLAIR']\n",
    "classifications = ['mgmt_positive', 'mgmt_negative']\n",
    "\n",
    "# Define patch size and stride\n",
    "block_h, block_w = config.PATCH_SIZE\n",
    "stride = 2\n",
    "# Interpolated image dimensions-\n",
    "inter_dim = (110, 90)\n",
    "\n",
    "# Define paths to the BraTS dataset folders\n",
    "dataset_path = config.DATASET_PATH\n",
    "\n",
    "PATH = config.MAIN_DIR + 'Data/'\n",
    "Org_Dir = PATH + 'Original_Data_Backup/'\n",
    "Work_Dir = PATH + 'Working_Data/'\n"
   ]
  },
  {
   "cell_type": "code",
   "execution_count": 2,
   "metadata": {},
   "outputs": [],
   "source": [
    "# Arbitrary functions\n",
    "\n",
    "def remove_items_starting_with(lst, start_str):\n",
    "    \"\"\"\n",
    "    Remove items from a list that start with the given string.\n",
    "\n",
    "    Args:\n",
    "        lst (list): The list from which to remove items.\n",
    "        start_str (str): The string that items should start with to be removed.\n",
    "\n",
    "    Returns:\n",
    "        list: The modified list with items removed.\n",
    "    \"\"\"\n",
    "    # Create a list to store items to be removed\n",
    "    items_to_remove = []\n",
    "\n",
    "    # Iterate over the list\n",
    "    for item in lst:\n",
    "        if item.startswith(start_str):\n",
    "            items_to_remove.append(item)\n",
    "\n",
    "    # Remove items from the list\n",
    "    for item in items_to_remove:\n",
    "        lst.remove(item)\n",
    "\n",
    "    return lst\n"
   ]
  },
  {
   "cell_type": "code",
   "execution_count": 3,
   "metadata": {},
   "outputs": [],
   "source": [
    " # Function Definition --> Backup() Backup Original Data For Safety Purpose\n",
    "\n",
    "def Backup():\n",
    "    import shutil\n",
    "    print('Creating Backup')\n",
    "    # Copy data for backup\n",
    "    try:\n",
    "        shutil.copytree(PATH, Org_Dir) \n",
    "    except Exception as e:\n",
    "        print(e)\n",
    "\n",
    "    # Copy data for working\n",
    "    try:\n",
    "        shutil.copytree(Org_Dir, Work_Dir)\n",
    "    except Exception as e:\n",
    "        print(e)\n",
    "\n",
    "    # Deleting folder, listed in the CATEGORIES list, after creating Cases\n",
    "    for cate in classifications:\n",
    "        try:\n",
    "            shutil.rmtree(PATH + cate)  # Deleting Folders of CATEGORIES list\n",
    "        except Exception as e:\n",
    "            print(e)\n",
    "    print('Backup Created')"
   ]
  },
  {
   "cell_type": "code",
   "execution_count": 4,
   "metadata": {},
   "outputs": [],
   "source": [
    "# Function Definition --> create_modality_folders() Create Modality Folders For Each Patient\n",
    "\n",
    "def create_modality_folders():\n",
    "    print(\"Copying files into the corresponding modality folders...\")\n",
    "    print(Work_Dir)\n",
    "    train_folder_1 = os.listdir(Work_Dir)\n",
    "    for pos_neg in tqdm(train_folder_1):\n",
    "        patient_folders = os.listdir(os.path.join(Work_Dir, pos_neg))\n",
    "        for patient_folder in patient_folders:\n",
    "            for modality in modalities:\n",
    "                modality_folder_path = os.path.join(Work_Dir, pos_neg, modality)\n",
    "                # print(modality_folder_path)\n",
    "                modality_patient_folder_path = os.path.join(modality_folder_path, patient_folder)\n",
    "                # print(modality_patient_folder_path)\n",
    "                if not os.path.exists(modality_patient_folder_path):\n",
    "                    os.makedirs(modality_patient_folder_path)\n",
    "                \n",
    "                modality_file_path = os.path.join(Work_Dir, pos_neg, patient_folder, '{}_{}.nii.gz'.format(patient_folder, modality))\n",
    "                # print(modality_file_path)\n",
    "                seg_file_path = os.path.join(Work_Dir, pos_neg, patient_folder, '{}_seg.nii.gz'.format(patient_folder))\n",
    "                # print(seg_file_path)\n",
    "                if os.path.exists(modality_file_path) and os.path.exists(seg_file_path):\n",
    "                    shutil.copy(modality_file_path, modality_patient_folder_path)\n",
    "                    shutil.copy(seg_file_path, modality_patient_folder_path)\n",
    "                else:\n",
    "                    print(\"Either {} or {} does not exist\".format(modality_file_path, seg_file_path))\n",
    "            # delete patient folder after copying files\n",
    "            shutil.rmtree(os.path.join(Work_Dir, pos_neg, patient_folder))\n",
    "            "
   ]
  },
  {
   "cell_type": "code",
   "execution_count": 5,
   "metadata": {},
   "outputs": [],
   "source": [
    "#  Function Definition -- reconstruct() Reconstruction of Working Directory\n",
    "def reconstruct():\n",
    "    print('Reconstructing')\n",
    "    # Deleting working directory\n",
    "    shutil.rmtree(PATH + \"Working_data/\")\n",
    "    # Copying data from backup\n",
    "    try:\n",
    "        shutil.copytree(Org_Dir, Work_Dir)\n",
    "    except:\n",
    "        print('Working directory already exists')\n",
    "\n",
    "    print('Reconstruction complete')"
   ]
  },
  {
   "cell_type": "code",
   "execution_count": 6,
   "metadata": {},
   "outputs": [],
   "source": [
    "# Function Defination --> Generate_images() Generate Images From Nifti Files\n",
    "\n",
    "def Generate_images():\n",
    "    print('Generating Images...')\n",
    "    try:\n",
    "        workdir = os.listdir(Work_Dir)\n",
    "        for modality in workdir:\n",
    "            Modality_path = os.path.join(Work_Dir, modality + '/')\n",
    "            modalitypath = os.listdir(Modality_path)\n",
    "            print(\"Modality:\",modalitypath)\n",
    "            for patient_folder in modalitypath:\n",
    "                Patient_path = os.path.join(Modality_path, patient_folder + '/')\n",
    "                patientpath = os.listdir(Patient_path)\n",
    "                for file in patientpath:\n",
    "                    File_path = os.path.join(Patient_path, file + '/')\n",
    "                    filepath = os.listdir(File_path)\n",
    "                    os.chdir(File_path)\n",
    "                    patient = file.split('_')[0] + '_' + file.split('_')[1]\n",
    "                    # print(\"Patient: \",patient)\n",
    "                    list_of_patients = []\n",
    "                    # print(File_path)\n",
    "                    if patient not in list_of_patients:\n",
    "                        list_of_patients.append(patient)\n",
    "                        # print(patient)\n",
    "                        mod = nib.load('{}_{}.nii.gz'.format(patient, patient_folder))\n",
    "                        mod_data = mod.get_fdata() # Getting the data from the nifti file\n",
    "                        seg_mask = nib.load('{}_seg.nii.gz'.format(patient))\n",
    "                        seg_mask_data = seg_mask.get_fdata() # Getting the data from the nifti file  \n",
    "\n",
    "                        # Extracting layers from mask that have non zero values\n",
    "                        z = np.any(seg_mask_data, axis=(0,1))\n",
    "                        zmin, zmax = np.where(z)[0][[0, -1]]  #  zmin & zmax are the first and last layer number non zero values in the z axis\n",
    "\n",
    "                        # Creating a new mask to remove segmentation\n",
    "                        d = seg_mask_data\n",
    "                        for layer in range(zmin, zmax+1):\n",
    "                             nonzero = np.nonzero(d[:,:,layer])\n",
    "                             r = nonzero[0]\n",
    "                             c = nonzero[1]\n",
    "                             if (r.size == 0) or (c.size == 0):\n",
    "                                continue\n",
    "                             rmin = np.min(r)\n",
    "                             rmax = np.max(r)\n",
    "                             cmin = np.min(c)\n",
    "                             cmax = np.max(c)\n",
    "                             d[rmin:rmax+1, cmin:cmax+1, layer] = 1 #Replacing tumor region values by 1\n",
    "\n",
    "                        #  Multiply modality data with the new segmentation mask\n",
    "                        tumor = np.multiply(mod_data, d)\n",
    "\n",
    "                        # Removing Zero valued layers\n",
    "                        tumor_layers = tumor[:,:,~(tumor==0).all((0,1))]\n",
    "\n",
    "                        # Converting to png files\n",
    "                        Cropped_list = []\n",
    "                        for lay in range(0, tumor_layers.shape[2]):\n",
    "                            coords = np.argwhere(tumor_layers[:,:,lay])\n",
    "                            x_min, y_min = coords.min(axis=0)\n",
    "                            x_max, y_max = coords.max(axis=0)\n",
    "                            cropped = tumor_layers[x_min:x_max+1, y_min:y_max+1, lay]\n",
    "                            cropped *= (255.0/cropped.max()) # Normalizing the values\n",
    "                            Cropped_list.append(cropped)\n",
    "                            \n",
    "                        frame =0\n",
    "                        for item in Cropped_list:\n",
    "                            if ((item.shape[0]*item.shape[1])>= 300):\n",
    "                                frame = frame + 1\n",
    "                                im = Image.fromarray(item)\n",
    "                                im = im.convert('L')\n",
    "                                im = im.resize(inter_dim, Image.Resampling.LANCZOS) # interpolating\n",
    "                                im.save('{}_{}_{}.png'.format(patient, patient_folder, frame))\n",
    "                                im.close()\n",
    "                        # Deleting the nifti files\n",
    "                        niipath = os.listdir(File_path)\n",
    "                        for nii in niipath:\n",
    "                            try:\n",
    "                                if nii.startswith(patient) and nii.endswith('.gz'):\n",
    "                                    os.remove(nii)\n",
    "                            except Exception as e:\n",
    "                                print('Error in deleting nifti files')\n",
    "                                print(e)\n",
    "    except Exception as e:\n",
    "        print('Error in Generate_images()')\n",
    "        print(e)"
   ]
  },
  {
   "cell_type": "code",
   "execution_count": 7,
   "metadata": {},
   "outputs": [],
   "source": [
    "# Function Defination -> Interpolation() Interpolate Images\n",
    "\n",
    "def Interpolation():\n",
    "    print('Interpolating...')\n",
    "    try:\n",
    "        workdir = os.listdir(Work_Dir)\n",
    "        if '.DS_Store' in workdir:\n",
    "            workdir.remove('.DS_Store')\n",
    "            print('Removed .DS_Store')\n",
    "        for modality in workdir:\n",
    "            Modality_path = os.path.join(Work_Dir, modality + '/') # /Users/vitthal/Documents/Research/DataScience/MedicalResearch/mgmt/Data/BRATS/novel_data/Working_Data/MGMT_positive/\n",
    "            modalitypath = os.listdir(Modality_path)\n",
    "            if '.DS_Store' in modalitypath:\n",
    "                modalitypath.remove('.DS_Store')\n",
    "                print('Removed .DS_Store')\n",
    "            print(\"Modality:\",modalitypath)\n",
    "            for patient_folder in modalitypath:\n",
    "                Patient_path = os.path.join(Modality_path, patient_folder + '/') # /Users/vitthal/Documents/Research/DataScience/MedicalResearch/mgmt/Data/BRATS/novel_data/Working_Data/MGMT_positive/flair/\n",
    "                patientpath = os.listdir(Patient_path)\n",
    "                if '.DS_Store' in patientpath:\n",
    "                    patientpath.remove('.DS_Store')\n",
    "                    print('Removed .DS_Store')\n",
    "                # print(\"Patient:\",patientpath)\n",
    "                for file in patientpath:\n",
    "                    File_path = os.path.join(Patient_path, file + '/')\n",
    "                    filepath = os.listdir(File_path)\n",
    "                    if '.DS_Store' in filepath:\n",
    "                        filepath.remove('.DS_Store')\n",
    "                        # print('Removed .DS_Store')\n",
    "                    # print(\"File:\",len(filepath))\n",
    "                    # print(\"Patient Folder:\",Patient_path)\n",
    "                    os.chdir(File_path)\n",
    "                    # print(File_path)\n",
    "\n",
    "                    #  Reading the png files\n",
    "                    pngpath = os.listdir(File_path)\n",
    "                    if '.DS_Store' in pngpath:\n",
    "                        pngpath.remove('.DS_Store')\n",
    "                        # print('Removed .DS_Store')\n",
    "                    # print(\"PNG:\",len(pngpath))\n",
    "                    png_list = []\n",
    "                    for png in pngpath:\n",
    "                        if png.endswith('.png'):\n",
    "                            png_list.append(png)\n",
    "                    # print(\"PNG:\",len(png_list))\n",
    "                    \n",
    "                    # print('patient _folders:', patient_folder)\n",
    "                    \n",
    "                    # Copy all the modalities in a new folder named 'inter_{}'.format(patient_folder)\n",
    "                    os.chdir(Modality_path)\n",
    "                    if not os.path.exists('inter_{}'.format(patient_folder)):\n",
    "                        shutil.copytree(Patient_path, 'inter_{}'.format(patient_folder))\n",
    "                            \n",
    "                    # # finding the maximum width and height of the images in the inter_{} folder\n",
    "                    # os.chdir(File_path)\n",
    "                    # pngpath = os.listdir(File_path)\n",
    "                    # # print('pngpath:', pngpath)\n",
    "                    # if '.DS_Store' in pngpath:\n",
    "                    #     pngpath.remove('.DS_Store')\n",
    "                    #     print('Removed .DS_Store from pngpath')\n",
    "                    # # print('file path:', File_path) #/Users/vitthal/Documents/Research/DataScience/MedicalResearch/mgmt/Data/BRATS/novel_data/Working_Data/MGMT_positive/flair/BraTS2021_00005/\n",
    "                    # max_height =0\n",
    "                    # max_width = 0\n",
    "                    # for png in pngpath:\n",
    "                    #     # print('png:', png)\n",
    "                    #     if png.endswith('.png'):\n",
    "                    #         # print('here')\n",
    "                    #         img = Image.open(png)\n",
    "                            \n",
    "                    #         width, height = img.size\n",
    "                    #         if width > max_width:\n",
    "                    #             max_width = width\n",
    "                    #         if height > max_height:\n",
    "                    #             max_height = height\n",
    "                    #         img.close()\n",
    "                    # print('max_width:', max_width)\n",
    "                    # print('max_height:', max_height)\n",
    "\n",
    "                  \n",
    "                    # Interpolating the png files and then saving them in the new folder, os.chdir() into the inter_{} folder\n",
    "                    new_inter_path = os.path.join(Modality_path, 'inter_{}'.format(patient_folder) + '/'+ file + '/')\n",
    "                    os.chdir(new_inter_path) #/Users/vitthal/Documents/Research/DataScience/MedicalResearch/mgmt/Data/BRATS/novel_data/Working_Data/MGMT_positive/inter_flair/BraTS2021_00005/\n",
    "                    # print(new_inter_path)\n",
    "                    new_inter_path_list = os.listdir(new_inter_path)\n",
    "                    # print(new_inter_path_list)\n",
    "                    if '.DS_Store' in new_inter_path_list:\n",
    "                        new_inter_path_list.remove('.DS_Store')\n",
    "                        print('Removed .DS_Store from new_inter_path_list')\n",
    "                    png_list = []\n",
    "                    for png in new_inter_path_list:\n",
    "                        if png.endswith('.png'):\n",
    "                            png_list.append(png)\n",
    "                    for png in png_list:\n",
    "                        try:\n",
    "                            image = Image.open(png)\n",
    "                            image = image.resize(inter_dim, Image.ANTIALIAS)\n",
    "                            png1 = 'inter_' + png\n",
    "                            image.save(png1)\n",
    "                            image.close()\n",
    "                            os.remove(png)\n",
    "                        except Exception as e:\n",
    "                            print('Error in Interpolation()')\n",
    "                            print(e)\n",
    "\n",
    "    except Exception as e:\n",
    "        print('Error in Interpolation() function')\n",
    "        print(e)"
   ]
  },
  {
   "cell_type": "code",
   "execution_count": 8,
   "metadata": {},
   "outputs": [],
   "source": [
    "#  Function Defination -> Creating_patches() function\n",
    "\n",
    "def Creating_patches(block_h, block_w, stride):\n",
    "    print('Creating patches...')\n",
    "    try:\n",
    "        workdir = os.listdir(Work_Dir)\n",
    "        for mgmt_type in workdir:   # 2 - MGMT_pos and MGMT_neg\n",
    "            Modality_path = os.path.join(Work_Dir, mgmt_type + '/') # /Users/vitthal/Documents/Research/DataScience/MedicalResearch/mgmt/Data/BRATS/novel_data/Working_Data/MGMT_positive/\n",
    "            modalitypath = os.listdir(Modality_path)\n",
    "            for modality in modalities: # 4 - FLair t1 t2 gd\n",
    "                Patient_path = os.path.join(Modality_path, modality + '/') # /Users/vitthal/Documents/Research/DataScience/MedicalResearch/mgmt/Data/BRATS/novel_data/Working_Data/MGMT_positive/flair/\n",
    "                patientpath = os.listdir(Patient_path)\n",
    "                for patient in patientpath:\n",
    "                    File_path = os.path.join(Patient_path, patient + '/')\n",
    "                    filepath = os.listdir(File_path)\n",
    "                    \n",
    "                    os.chdir(Modality_path)\n",
    "                    \n",
    "                    if not os.path.exists(patient):\n",
    "                        os.mkdir(patient)\n",
    "                        # shutil.copytree('{}'.format(modality), '{}'.format(patient))\n",
    "\n",
    "                    # chdir to the patient folder\n",
    "                    os.chdir(os.path.join(Modality_path, modality + '/'+ patient + '/'))\n",
    "                    for png in tqdm(glob.glob('*.png')):\n",
    "                        img = Image.open(png)\n",
    "                        img_w, img_h = img.size\n",
    "\n",
    "                        File_Name, extention = os.path.splitext(png)\n",
    "                        \n",
    "                        Save_path = os.path.join(Modality_path, patient + '/')\n",
    "                        # print('Save_path:', Save_path)\n",
    "\n",
    "                        frame_num = 0\n",
    "                        count_row = 0\n",
    "\n",
    "                        for row in range(0, img_h, stride):\n",
    "                            if (img_h-row >= block_h):\n",
    "                                count_row += 1\n",
    "                                count_col = 0\n",
    "\n",
    "                                for col in range(0, img_w, stride):\n",
    "                                    if ( img_w -col >= block_w ):\n",
    "                                        count_col += 1\n",
    "                                        frame_num += 1\n",
    "\n",
    "                                        box = (col, row, col+block_w, row+block_h)\n",
    "                                        a = img.crop(box)\n",
    "                                        a.save(Save_path + File_Name + '_row_' + str(count_row) + '_col_' + str(count_col) + '.png')\n",
    "                        \n",
    "                        img.close()\n",
    "                        os.remove(png)\n",
    "\n",
    "                print('Patching done for {} modality'.format(modality))\n",
    "\n",
    "                # shutil.rmtree(os.path.join(Modality_path, modality))\n",
    "            print('Patching done for {}'.format(mgmt_type))\n",
    "                    \n",
    "\n",
    "    except Exception as e:\n",
    "        print('Error in Creating_patches() function')\n",
    "        print(e)"
   ]
  },
  {
   "cell_type": "code",
   "execution_count": 9,
   "metadata": {},
   "outputs": [],
   "source": [
    "# Function Defination --> Pooling Patches in a single folder\n",
    "\n",
    "def Pooling_patches():\n",
    "    print('Pooling patches...')\n",
    "    try:\n",
    "        workdir = os.listdir(Work_Dir)\n",
    "        if '.DS_Store' in workdir:\n",
    "            workdir.remove('.DS_Store')\n",
    "            print('Removed .DS_Store')\n",
    "        for modality in workdir:\n",
    "            Modality_path = os.path.join(Work_Dir, modality + '/')\n",
    "            modalitypath = os.listdir(Modality_path)\n",
    "            if '.DS_Store' in modalitypath:\n",
    "                modalitypath.remove('.DS_Store')\n",
    "                print('Removed .DS_Store')\n",
    "            os.chdir(Work_Dir)\n",
    "            if not os.path.exists('pool_{}'.format(modality)):\n",
    "                os.mkdir('pool_{}'.format(modality))\n",
    "            else:\n",
    "                print('Directory pool_{} already exists'.format(modality))\n",
    "\n",
    "            # remove folders starting with the name inter_{} in the modality folder\n",
    "            modalitypath = remove_items_starting_with(modalitypath, 'inter_')\n",
    "            # remove folders with the modilty names as declared in the variable in teh first cell\n",
    "            for item in modalities:\n",
    "                if item in modalitypath:\n",
    "                    modalitypath.remove(item)\n",
    "            \n",
    "            for patient_folder in modalitypath:\n",
    "                # Patient Path :  /Users/vitthal/Documents/Research/DataScience/MedicalResearch/mgmt/Data/BRATS/novel_data/Working_Data/MGMT_positive/flair/\n",
    "                Patient_path = os.path.join(Modality_path, patient_folder + '/')\n",
    "                patientpath = os.listdir(Patient_path)\n",
    "                if '.DS_Store' in patientpath:\n",
    "                    patientpath.remove('.DS_Store')\n",
    "                    print('Removed .DS_Store')\n",
    "                # print(\"Patient:\",patientpath)\n",
    "                for file in tqdm(patientpath):\n",
    "                    File_path = os.path.join(Patient_path, file + '/')\n",
    "                    filepath = os.listdir(File_path)\n",
    "                    if '.DS_Store' in filepath:\n",
    "                        filepath.remove('.DS_Store')\n",
    "                        print('Removed .DS_Store')\n",
    "                        # print(\"File:\", File_path)\n",
    "\n",
    "                    for patch in filepath:\n",
    "                        Patch_path = os.path.join(File_path, patch + '/')\n",
    "                        patchpath = os.listdir(Patch_path)\n",
    "                        if '.DS_Store' in patchpath:\n",
    "                            patchpath.remove('.DS_Store')\n",
    "                            print('Removed .DS_Store')\n",
    "                        for pacth_img in patchpath:\n",
    "                            Patch_img_path = os.path.join(Patch_path, pacth_img)\n",
    "                            shutil.copy(Patch_img_path, os.path.join(Work_Dir, 'pool_{}'.format(modality)))\n",
    "                            # os.remove(Patch_img_path)\n",
    "\n",
    "                    # #  copy images from individual folders to a single folder named pool_{modality}\n",
    "                    # os.chdir(File_path)\n",
    "                    # patches = os.listdir(File_path)\n",
    "                    # if '.DS_Store' in patches:\n",
    "                    #     patches.remove('.DS_Store')\n",
    "                    # print(patches) \n",
    "                    # # print(os.path.join(Work_Dir, 'pool_{}'.format(modality) + '/'+ file + '/'))\n",
    "                    # os.path.join(Work_Dir, 'pool_{}'.format(modality) + '/'+ file + '/')\n",
    "                    # Copy all the modalities in a new folder named 'patch_{}'.format(patient_folder)\n",
    "                    # os.chdir(Modality_path)\n",
    "                    # if not os.path.exists('pool_{}'.format(modality) + '/'+ file + '/'):\n",
    "                    #     shutil.copytree(os.path.join(File_path), os.path.join(Work_Dir, 'pool_{}'.format(modality) + '/'+ file + '/'))\n",
    "                    \n",
    "\n",
    "\n",
    "                        # shutil.copytree(File_path, os.path.join(Work_Dir, 'pool_{}'.format(modality) + '/'+ file + '/'))\n",
    "\n",
    "    except Exception as e:\n",
    "        print('Error in Pooling_patches() function')\n",
    "        print(e)"
   ]
  },
  {
   "cell_type": "code",
   "execution_count": 10,
   "metadata": {},
   "outputs": [],
   "source": [
    "# Recording patient with patches done\n",
    "def update_patch_record():\n",
    "    os.chdir(config.MAIN_DIR)\n",
    "    patch_df = pd.read_csv(config.MAIN_DIR + 'Codes/upenn_data.csv')\n",
    "\n",
    "    for mgmt_type in os.listdir(Work_Dir):\n",
    "\n",
    "        # Delete existing Moadlity empty folders if any\n",
    "        for modality in modalities:\n",
    "            if modality in os.listdir(Work_Dir + mgmt_type + '/'):\n",
    "                shutil.rmtree(Work_Dir + mgmt_type + '/' + modality)\n",
    "\n",
    "        \n",
    "        # update the csv with patches of patients\n",
    "        for patient in os.listdir(Work_Dir + mgmt_type + '/'):\n",
    "            patch_df.loc[patch_df.id == patient, 'patches64'] = True  # mention the patches colmun to update\n",
    "\n",
    "    patch_df.to_csv(config.MAIN_DIR + 'Codes/upenn_data.csv', index=False)\n",
    "\n"
   ]
  },
  {
   "cell_type": "code",
   "execution_count": 17,
   "metadata": {},
   "outputs": [
    {
     "name": "stdout",
     "output_type": "stream",
     "text": [
      "Creating Backup\n",
      "Backup Created\n"
     ]
    }
   ],
   "source": [
    "# Main cell to invoke functions\n",
    "\n",
    "# Backup the original data\n",
    "Backup()"
   ]
  },
  {
   "cell_type": "code",
   "execution_count": 12,
   "metadata": {},
   "outputs": [],
   "source": [
    "# reconstruct the working data\n",
    "# reconstruct()"
   ]
  },
  {
   "cell_type": "code",
   "execution_count": 18,
   "metadata": {},
   "outputs": [
    {
     "name": "stdout",
     "output_type": "stream",
     "text": [
      "Copying files into the corresponding modality folders...\n",
      "D:/MGMT research project/Data/Working_Data/\n"
     ]
    },
    {
     "name": "stderr",
     "output_type": "stream",
     "text": [
      "100%|██████████| 2/2 [00:00<00:00,  9.79it/s]\n"
     ]
    }
   ],
   "source": [
    "# create modality folders\n",
    "create_modality_folders()\n"
   ]
  },
  {
   "cell_type": "code",
   "execution_count": 19,
   "metadata": {},
   "outputs": [
    {
     "name": "stdout",
     "output_type": "stream",
     "text": [
      "Generating Images...\n",
      "Modality: ['FLAIR', 'T1', 'T1GD', 'T2']\n",
      "Modality: ['FLAIR', 'T1', 'T1GD', 'T2']\n"
     ]
    }
   ],
   "source": [
    "# Generate images from nifti files\n",
    "Generate_images()"
   ]
  },
  {
   "cell_type": "code",
   "execution_count": 20,
   "metadata": {},
   "outputs": [
    {
     "name": "stdout",
     "output_type": "stream",
     "text": [
      "Creating patches...\n"
     ]
    },
    {
     "name": "stderr",
     "output_type": "stream",
     "text": [
      "100%|██████████| 58/58 [00:25<00:00,  2.31it/s]\n"
     ]
    },
    {
     "name": "stdout",
     "output_type": "stream",
     "text": [
      "Patching done for T1 modality\n"
     ]
    },
    {
     "name": "stderr",
     "output_type": "stream",
     "text": [
      "100%|██████████| 58/58 [00:29<00:00,  1.98it/s]\n"
     ]
    },
    {
     "name": "stdout",
     "output_type": "stream",
     "text": [
      "Patching done for T1GD modality\n"
     ]
    },
    {
     "name": "stderr",
     "output_type": "stream",
     "text": [
      "100%|██████████| 58/58 [00:32<00:00,  1.77it/s]\n"
     ]
    },
    {
     "name": "stdout",
     "output_type": "stream",
     "text": [
      "Patching done for T2 modality\n"
     ]
    },
    {
     "name": "stderr",
     "output_type": "stream",
     "text": [
      "100%|██████████| 58/58 [00:28<00:00,  2.06it/s]\n"
     ]
    },
    {
     "name": "stdout",
     "output_type": "stream",
     "text": [
      "Patching done for FLAIR modality\n",
      "Patching done for MGMT_negative\n"
     ]
    },
    {
     "name": "stderr",
     "output_type": "stream",
     "text": [
      "100%|██████████| 62/62 [00:32<00:00,  1.92it/s]\n"
     ]
    },
    {
     "name": "stdout",
     "output_type": "stream",
     "text": [
      "Patching done for T1 modality\n"
     ]
    },
    {
     "name": "stderr",
     "output_type": "stream",
     "text": [
      "100%|██████████| 62/62 [00:33<00:00,  1.84it/s]\n"
     ]
    },
    {
     "name": "stdout",
     "output_type": "stream",
     "text": [
      "Patching done for T1GD modality\n"
     ]
    },
    {
     "name": "stderr",
     "output_type": "stream",
     "text": [
      "100%|██████████| 62/62 [00:33<00:00,  1.87it/s]\n"
     ]
    },
    {
     "name": "stdout",
     "output_type": "stream",
     "text": [
      "Patching done for T2 modality\n"
     ]
    },
    {
     "name": "stderr",
     "output_type": "stream",
     "text": [
      "100%|██████████| 62/62 [00:34<00:00,  1.79it/s]"
     ]
    },
    {
     "name": "stdout",
     "output_type": "stream",
     "text": [
      "Patching done for FLAIR modality\n",
      "Patching done for MGMT_positive\n"
     ]
    },
    {
     "name": "stderr",
     "output_type": "stream",
     "text": [
      "\n"
     ]
    }
   ],
   "source": [
    "# Creating patches\n",
    "Creating_patches(block_h, block_w, stride)\n"
   ]
  },
  {
   "cell_type": "code",
   "execution_count": 16,
   "metadata": {},
   "outputs": [],
   "source": [
    "# update_patch_record()"
   ]
  }
 ],
 "metadata": {
  "kernelspec": {
   "display_name": "Python 3.10.6 ('base')",
   "language": "python",
   "name": "python3"
  },
  "language_info": {
   "codemirror_mode": {
    "name": "ipython",
    "version": 3
   },
   "file_extension": ".py",
   "mimetype": "text/x-python",
   "name": "python",
   "nbconvert_exporter": "python",
   "pygments_lexer": "ipython3",
   "version": "3.9.17"
  },
  "orig_nbformat": 4,
  "vscode": {
   "interpreter": {
    "hash": "1b9603ab75704494434c4abe56997ef3bb46c839483ec68f7dba80f8b5009106"
   }
  }
 },
 "nbformat": 4,
 "nbformat_minor": 2
}
