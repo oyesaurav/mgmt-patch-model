{
 "cells": [
  {
   "cell_type": "code",
   "execution_count": 1,
   "metadata": {},
   "outputs": [],
   "source": [
    "#  Import libraries and define variables\n",
    "import os\n",
    "import shutil\n",
    "import glob\n",
    "from tqdm import tqdm\n",
    "from PIL import Image\n",
    "# import nibabel as nib\n",
    "import numpy as np\n",
    "import pickle\n",
    "import cv2\n",
    "\n",
    "# Define the modalities and classifications\n",
    "# modalities = ['t1', 't1ce', 't2', 'flair']\n",
    "# classifications = ['MGMT_positive', 'MGMT_negative']\n",
    "classifications = ['benign', 'malignant']\n",
    "\n",
    "# Define patch size and stride\n",
    "block_h, block_w = (64, 64)\n",
    "stride = 2\n",
    "\n",
    "# Interpolated image dimestions\n",
    "inter_dim = (110, 90)\n",
    "\n",
    "# Define paths to the BraTS dataset folders\n",
    "path = 'F:/gliobastoma-mgmt-upenn/'\n",
    "\n",
    "# PATH = path + 'Data/Working_Data'\n",
    "# Org_Dir = PATH + 'Original_Data_Backup/'\n",
    "Work_Dir = path + 'Data/Skin Cancer/Working_Data/'\n"
   ]
  },
  {
   "cell_type": "code",
   "execution_count": 2,
   "metadata": {},
   "outputs": [],
   "source": [
    "# Function Definitions --> For reading images and appending it to a list\n",
    "\n",
    "def read_image():\n",
    "    print('Reading Images')\n",
    "    X, y = [], []\n",
    "    \n",
    "    for label in os.listdir(Work_Dir):\n",
    "        img_path = os.path.join(Work_Dir,label)\n",
    "        for img_file in tqdm(os.listdir(img_path)):\n",
    "            os.chdir(img_path)\n",
    "            img_arr=cv2.imread(img_file,cv2.IMREAD_GRAYSCALE)\n",
    "            X.append(img_arr)\n",
    "            y.append(0) if label=='benign' else y.append(1)\n",
    "            \n",
    "    return X,y\n",
    "            \n"
   ]
  },
  {
   "cell_type": "code",
   "execution_count": 3,
   "metadata": {},
   "outputs": [
    {
     "name": "stdout",
     "output_type": "stream",
     "text": [
      "Reading Images\n"
     ]
    },
    {
     "name": "stderr",
     "output_type": "stream",
     "text": [
      "  0%|          | 0/9408 [00:00<?, ?it/s]"
     ]
    },
    {
     "name": "stderr",
     "output_type": "stream",
     "text": [
      "100%|██████████| 9408/9408 [00:48<00:00, 192.48it/s]\n",
      "100%|██████████| 9408/9408 [00:49<00:00, 190.43it/s]\n"
     ]
    },
    {
     "data": {
      "text/plain": [
       "array([[134, 138, 143, ..., 162, 161, 161],\n",
       "       [131, 136, 141, ..., 162, 164, 167],\n",
       "       [129, 134, 139, ..., 160, 165, 171],\n",
       "       ...,\n",
       "       [ 60,  69,  83, ..., 158, 157, 160],\n",
       "       [ 53,  62,  75, ..., 160, 161, 159],\n",
       "       [ 48,  57,  69, ..., 163, 165, 161]], dtype=uint8)"
      ]
     },
     "execution_count": 3,
     "metadata": {},
     "output_type": "execute_result"
    }
   ],
   "source": [
    "X,y = read_image()\n",
    "X[0]"
   ]
  },
  {
   "cell_type": "code",
   "execution_count": 4,
   "metadata": {},
   "outputs": [],
   "source": [
    "# Function Defination --> Reshape the list to numpy array\n",
    "\n",
    "def Converting(block_h, block_w, X, Y):\n",
    "    print('Converting to Array')\n",
    "    global x, y\n",
    "\n",
    "    # -1 is added to solve dimension mismatch while converting list to an array.\n",
    "    x = np.array(X)\n",
    "    y = np.array(Y)\n",
    "\n",
    "    print('Array Size with Reshape: ', len(X), len(y))\n",
    "    print('Array Shape with Reshape: ', x.shape, y.shape)\n"
   ]
  },
  {
   "cell_type": "code",
   "execution_count": 5,
   "metadata": {},
   "outputs": [
    {
     "name": "stdout",
     "output_type": "stream",
     "text": [
      "Converting to Array\n",
      "Array Size with Reshape:  18816 18816\n",
      "Array Shape with Reshape:  (18816, 64, 64) (18816,)\n"
     ]
    }
   ],
   "source": [
    "# Main cell to execute all the functions\n",
    "\n",
    "\n",
    "\n",
    "# Converting the list into numpy array\n",
    "Converting(block_h, block_w, X, y)\n",
    "\n",
    "# Storing the numpy array in a pickle file\n",
    "Storing_Preprocessed_Data = open(Work_Dir + 'X.pickle', 'wb')\n",
    "pickle.dump(X, Storing_Preprocessed_Data)\n",
    "Storing_Preprocessed_Data.close()\n",
    "\n",
    "Storing_Preprocessed_Data = open(Work_Dir + 'y.pickle', 'wb')\n",
    "pickle.dump(y, Storing_Preprocessed_Data)\n",
    "Storing_Preprocessed_Data.close()\n"
   ]
  },
  {
   "cell_type": "code",
   "execution_count": null,
   "metadata": {},
   "outputs": [],
   "source": []
  },
  {
   "cell_type": "code",
   "execution_count": null,
   "metadata": {},
   "outputs": [],
   "source": []
  }
 ],
 "metadata": {
  "kernelspec": {
   "display_name": "Python 3.10.6 ('base')",
   "language": "python",
   "name": "python3"
  },
  "language_info": {
   "codemirror_mode": {
    "name": "ipython",
    "version": 3
   },
   "file_extension": ".py",
   "mimetype": "text/x-python",
   "name": "python",
   "nbconvert_exporter": "python",
   "pygments_lexer": "ipython3",
   "version": "3.10.0"
  },
  "orig_nbformat": 4,
  "vscode": {
   "interpreter": {
    "hash": "1b9603ab75704494434c4abe56997ef3bb46c839483ec68f7dba80f8b5009106"
   }
  }
 },
 "nbformat": 4,
 "nbformat_minor": 2
}
