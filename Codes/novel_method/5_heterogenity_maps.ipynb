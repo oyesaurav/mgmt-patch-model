{
 "cells": [
  {
   "cell_type": "code",
   "execution_count": 16,
   "metadata": {},
   "outputs": [],
   "source": [
    "#  Import libraries and define variables\n",
    "import tensorflow as tf \n",
    "import pickle\n",
    "import numpy as np\n",
    "import os\n",
    "import nibabel as nib\n",
    "import matplotlib.pyplot as plt\n",
    "from copy import deepcopy, copy\n",
    "from tqdm import tqdm\n",
    "\n",
    "# Define the modalities and classifications\n",
    "modalities = ['t1', 't1ce', 't2', 'flair']\n",
    "classifications = ['mgmt_positive', 'mgmt_negative']\n",
    "\n",
    "# Define patch size and stride\n",
    "block_h, block_w = 32, 32\n",
    "stride = 2\n",
    "\n",
    "# Interpolated image dimestions\n",
    "inter_dim = (110, 90)\n",
    "\n",
    "# Define paths to the BraTS dataset folders\n",
    "path = '/Users/vitthal/Documents/Research/DataScience/MedicalResearch/mgmt/'\n",
    "\n",
    "PATH = path + 'Data/'\n",
    "Org_Dir = PATH + 'Original_Data_Backup/'\n",
    "Work_Dir = PATH + 'Working_Data/'\n",
    "Task_data = PATH + 'Task_data/'\n",
    "\n",
    "# Loading the model\n",
    "Model = tf.keras.models.load_model(path + 'Outputs/'+ 'latest_model.h5')"
   ]
  },
  {
   "cell_type": "code",
   "execution_count": 2,
   "metadata": {},
   "outputs": [],
   "source": [
    "# Function Defination --> Arbitrary functions\n",
    "\n",
    "def window(p, q, layer, flair_data):\n",
    "    W = flair_data[p:p+32, q:q+32, layer]\n",
    "    return W\n",
    "\n",
    "\n",
    "def ML_function(Windows, layer):\n",
    "    count = 0\n",
    "    X = np.array(Windows).reshape(-1, block_h, block_w, 1)\n",
    "    predicted_classes = np.argmax(Model(X), axis=1)\n",
    "    for val in predicted_classes:\n",
    "        if (val == 1):\n",
    "            count = count + 1\n",
    "    # print(count)\n",
    "    return count\n",
    "\n",
    "\n",
    "def fun(a, b, layer, flair_data):\n",
    "    if (a < 0 or a > 239 or b < 0 or b > 239):\n",
    "        print(\"invalid point\")\n",
    "        return 0\n",
    "    else:\n",
    "        Windows = []\n",
    "        for x in range(a-31, a+1):\n",
    "            for y in range(b-31, b+1):\n",
    "                Windows.append(window(x, y, layer, flair_data))\n",
    "        count_1 = ML_function(Windows, layer)\n",
    "    return (count_1/1024)\n"
   ]
  },
  {
   "cell_type": "code",
   "execution_count": 17,
   "metadata": {},
   "outputs": [],
   "source": [
    "# Function Defination --> Importing the weighted matrix and averaging the various modalities\n",
    "\n",
    "def Average_Weighted_Matrix():\n",
    "    taskdata =os.listdir(Task_data)\n",
    "    if '.DS_Store' in taskdata:\n",
    "        taskdata.remove('.DS_Store')\n",
    "    for type in taskdata:\n",
    "        typedir = os.path.join(Task_data, type + '/')\n",
    "        typedata = os.listdir(typedir)\n",
    "        if '.DS_Store' in typedata:\n",
    "            typedata.remove('.DS_Store')\n",
    "        for patient in tqdm(typedata):\n",
    "            patientdir = os.path.join(typedir, patient + '/')\n",
    "            os.chdir(patientdir)\n",
    "            # print(patientdir)\n",
    "\n",
    "            # Loading the weighted matrix for each modality\n",
    "            with open(patientdir + 'W_M_{}_{}.pickle'.format(patient, modalities[0]), 'rb') as f:\n",
    "                try:\n",
    "                    W_M_t1 = pickle.load(f)\n",
    "                except EOFError:\n",
    "                    W_M_t1 = None\n",
    "\n",
    "            with open(patientdir + 'W_M_{}_{}.pickle'.format(patient, modalities[1]), 'rb') as f:\n",
    "                try:\n",
    "                    W_M_t1ce = pickle.load(f)\n",
    "                except EOFError:\n",
    "                    W_M_t1ce = None\n",
    "\n",
    "            with open(patientdir + 'W_M_{}_{}.pickle'.format(patient, modalities[2]), 'rb') as f:\n",
    "                try:\n",
    "                    W_M_t2 = pickle.load(f)\n",
    "                except EOFError:\n",
    "                    W_M_t2 = None\n",
    "\n",
    "            with open(patientdir + 'W_M_{}_{}.pickle'.format(patient, modalities[3]), 'rb') as f:\n",
    "                try:\n",
    "                    W_M_flair = pickle.load(f)\n",
    "                except EOFError:\n",
    "                    W_M_flair = None\n",
    "\n",
    "            # Averaging the weighted matrix\n",
    "            valid_modalities = sum(x is not None for x in [\n",
    "                                W_M_t1, W_M_t1ce, W_M_t2, W_M_flair])\n",
    "            W_M_sum = np.zeros_like(W_M_t1)\n",
    "            if W_M_t1 is not None:\n",
    "                W_M_sum += W_M_t1\n",
    "            if W_M_t1ce is not None:\n",
    "                W_M_sum += W_M_t1ce\n",
    "            if W_M_t2 is not None:\n",
    "                W_M_sum += W_M_t2\n",
    "            if W_M_flair is not None:\n",
    "                W_M_sum += W_M_flair\n",
    "            W_M = W_M_sum / valid_modalities\n",
    "\n",
    "            # Storing the averaged weighted matrix\n",
    "            with open(patientdir + '/W_M_{}_mod_average.pickle'.format(patient), 'wb') as f:\n",
    "                pickle.dump(W_M, f)\n"
   ]
  },
  {
   "cell_type": "code",
   "execution_count": 3,
   "metadata": {},
   "outputs": [],
   "source": [
    "# Function Defination --> Generated Weighted matrix\n",
    "\n",
    "def Generate_Weighted_Matrix(modality):\n",
    "    taskdir = os.listdir(Task_data)\n",
    "    if '.DS_Store' in taskdir:\n",
    "        taskdir.remove('.DS_Store')\n",
    "    for type in taskdir:\n",
    "        # print(type)\n",
    "        Type_path = os.path.join(Task_data, type + '/')\n",
    "        typepath = os.listdir(Type_path)\n",
    "        if '.DS_Store' in typepath:\n",
    "            typepath.remove('.DS_Store')\n",
    "        for patient in typepath:\n",
    "            # print(patient)\n",
    "            Patient_path = os.path.join(Type_path, patient + '/')\n",
    "            os.chdir(Patient_path)\n",
    "            Mod = nib.load('{}_{}.nii.gz'.format(patient, modality)) # Loading the flair image\n",
    "            Mod_data = Mod.get_fdata()\n",
    "\n",
    "            # Normalizing the image\n",
    "            for l in range(0, Mod_data.shape[2]):\n",
    "                if ((Mod_data[:,:,l].max()) == 0):\n",
    "                  continue\n",
    "                else:\n",
    "                    Mod_data[:,:,l] *= (255.0/Mod_data[:,:,l].max())\n",
    "                \n",
    "            seg_mask = nib.load('{}_seg.nii.gz'.format(patient)) # Loading the segmentation mask\n",
    "            seg_mask_data = seg_mask.get_fdata()\n",
    "\n",
    "            # Extracting only those layers from mask which have non zero values\n",
    "            z = np.any(seg_mask_data, axis=(0, 1))\n",
    "            nonzero_layers = np.nonzero(z)\n",
    "            nonzero_layer_indices = nonzero_layers[0]\n",
    "            num_layers = nonzero_layer_indices.size\n",
    "            #print(num_layers)\n",
    "            arr = np.zeros((240,240,num_layers))\n",
    "            layer_num = 0\n",
    "\n",
    "            # Select the layer with maximum pixels\n",
    "\n",
    "            \n",
    "            #Finding indices of cancer pixels using mask data\n",
    "            for layer in nonzero_layer_indices:\n",
    "                indices = np.transpose(np.nonzero(seg_mask_data[:,:,layer]))\n",
    "                #print(indices, layer)\n",
    "                for [a,b] in indices:\n",
    "                    arr[a,b,layer_num] = fun(a,b,layer,Mod_data)\n",
    "                layer_num = layer_num + 1\n",
    "                \n",
    "            #print(np.count_nonzero(np.any(arr, axis=(0, 1))))\n",
    "            \n",
    "            #Calculating weighted average                \n",
    "            Weighted_matrix = np.zeros((240,240))\n",
    "            for x in range (0,240):\n",
    "                for y in range (0,240):\n",
    "                    Sum = 0\n",
    "                    num_terms = 0\n",
    "                    for slice_num in range (0,num_layers):\n",
    "                        if(arr[x][y][slice_num] != 0):\n",
    "                            Sum = Sum + arr[x][y][slice_num]\n",
    "                            num_terms = num_terms + 1\n",
    "                    if(num_terms != 0):\n",
    "                        Weighted_matrix[x][y] = Sum/num_terms\n",
    "            print(Weighted_matrix.shape)\n",
    "\n",
    "            #Storing Wiegted Average Matrix of the patient\n",
    "            pickle_out = open(Patient_path + '/W_M_{}_{}.pickle'.format(patient, modality), 'wb')\n",
    "            pickle.dump(Weighted_matrix, pickle_out)\n",
    "            pickle_out.close()"
   ]
  },
  {
   "cell_type": "code",
   "execution_count": 18,
   "metadata": {},
   "outputs": [
    {
     "name": "stderr",
     "output_type": "stream",
     "text": [
      "100%|██████████| 1/1 [00:00<00:00, 225.08it/s]\n",
      "100%|██████████| 1/1 [00:00<00:00, 290.10it/s]\n"
     ]
    },
    {
     "data": {
      "text/plain": [
       "0"
      ]
     },
     "execution_count": 18,
     "metadata": {},
     "output_type": "execute_result"
    }
   ],
   "source": [
    "# Main cell to invoke functions\n",
    "\n",
    "# Function call to generate weighted matrix\n",
    "# for modality in modalities:\n",
    "#     print(f'Calculating weighted matrix for {modality}')\n",
    "#     Generate_Weighted_Matrix(modality)\n",
    "\n",
    "# Function call to average the weighted matrix\n",
    "Average_Weighted_Matrix()\n",
    "\n",
    "os.system('say \"your program has finished\"')"
   ]
  },
  {
   "cell_type": "code",
   "execution_count": 20,
   "metadata": {},
   "outputs": [
    {
     "data": {
      "image/png": "[encoded data removed]",
      "text/plain": [
       "<Figure size 432x288 with 1 Axes>"
      ]
     },
     "metadata": {
      "needs_background": "light"
     },
     "output_type": "display_data"
    },
    {
     "data": {
      "image/png": "[encoded data removed]",
      "text/plain": [
       "<Figure size 432x288 with 1 Axes>"
      ]
     },
     "metadata": {
      "needs_background": "light"
     },
     "output_type": "display_data"
    }
   ],
   "source": [
    "# Displaying the weighted matrix\n",
    "\n",
    "pickle_in_positive = open(\n",
    "    '/Users/vitthal/Documents/Research/DataScience/MedicalResearch/mgmt/Data/Task_data/MGMT_positive/BraTS2021_01008/W_M_BraTS2021_01008_mod_average.pickle', 'rb')\n",
    "pickle_in_negative = open(\n",
    "    '/Users/vitthal/Documents/Research/DataScience/MedicalResearch/mgmt/Data/Task_data/MGMT_negative/BraTS2021_01010/W_M_BraTS2021_01010_mod_average.pickle', 'rb')\n",
    "\n",
    "W_M_positive = pickle.load(pickle_in_positive)\n",
    "W_M_negative = pickle.load(pickle_in_negative)\n",
    "\n",
    "plt.imshow(W_M_positive, cmap='Reds')\n",
    "plt.show()\n",
    "\n",
    "plt.imshow(W_M_negative, cmap='Reds')\n",
    "plt.show()"
   ]
  }
 ],
 "metadata": {
  "kernelspec": {
   "display_name": "Python 3.10.6 ('base')",
   "language": "python",
   "name": "python3"
  },
  "language_info": {
   "codemirror_mode": {
    "name": "ipython",
    "version": 3
   },
   "file_extension": ".py",
   "mimetype": "text/x-python",
   "name": "python",
   "nbconvert_exporter": "python",
   "pygments_lexer": "ipython3",
   "version": "3.10.6"
  },
  "orig_nbformat": 4,
  "vscode": {
   "interpreter": {
    "hash": "1b9603ab75704494434c4abe56997ef3bb46c839483ec68f7dba80f8b5009106"
   }
  }
 },
 "nbformat": 4,
 "nbformat_minor": 2
}
