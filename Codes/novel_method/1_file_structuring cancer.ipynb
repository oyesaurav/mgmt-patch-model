{
 "cells": [
  {
   "cell_type": "code",
   "execution_count": 1,
   "metadata": {},
   "outputs": [],
   "source": [
    "#  Import libraries and define variables\n",
    "import os\n",
    "import shutil\n",
    "import glob\n",
    "from tqdm import tqdm\n",
    "from PIL import Image\n",
    "import nibabel as nib\n",
    "import numpy as np\n",
    "\n",
    "\n",
    "classifications = ['benign', 'malignant']\n",
    "\n",
    "# Define patch size and stride\n",
    "block_h, block_w = 64, 64\n",
    "stride = 2\n",
    "\n",
    "# Interpolated image dimestions\n",
    "inter_dim = (110, 90)\n",
    "\n",
    "# Define paths to the BraTS dataset folders\n",
    "path = 'F:/gliobastoma-mgmt-upenn/Data/Skin Cancer'\n",
    "\n",
    "# PATH = path + 'Data/BRATS/novel_data/'\n",
    "Org_Dir = path + '/Original_Data_Backup/'\n",
    "Work_Dir = path + '/Working_Data/'"
   ]
  },
  {
   "cell_type": "code",
   "execution_count": 3,
   "metadata": {},
   "outputs": [],
   "source": [
    "# Arbitrary functions\n",
    "\n",
    "def remove_items_starting_with(lst, start_str):\n",
    "    \"\"\"\n",
    "    Remove items from a list that start with the given string.\n",
    "\n",
    "    Args:\n",
    "        lst (list): The list from which to remove items.\n",
    "        start_str (str): The string that items should start with to be removed.\n",
    "\n",
    "    Returns:\n",
    "        list: The modified list with items removed.\n",
    "    \"\"\"\n",
    "    # Create a list to store items to be removed\n",
    "    items_to_remove = []\n",
    "\n",
    "    # Iterate over the list\n",
    "    for item in lst:\n",
    "        if item.startswith(start_str):\n",
    "            items_to_remove.append(item)\n",
    "\n",
    "    # Remove items from the list\n",
    "    for item in items_to_remove:\n",
    "        lst.remove(item)\n",
    "\n",
    "    return lst\n"
   ]
  },
  {
   "cell_type": "code",
   "execution_count": 25,
   "metadata": {},
   "outputs": [],
   "source": [
    " # Function Definition --> Backup() Backup Original Data For Safety Purpose\n",
    "\n",
    "def Backup():\n",
    "    import shutil\n",
    "    print('Creating Backup')\n",
    "    # Copy data for backup\n",
    "    try:\n",
    "        shutil.copytree(path, Org_Dir)\n",
    "    except Exception as e:\n",
    "        print(e)\n",
    "\n",
    "    # Copy data for working\n",
    "    try:\n",
    "        shutil.copytree(Org_Dir, Work_Dir)\n",
    "    except Exception as e:\n",
    "        print(e)\n",
    "\n",
    "    # Deleting folder, listed in the CATEGORIES list, after creating Cases\n",
    "    for cate in classifications:\n",
    "        try:\n",
    "            shutil.rmtree(path + cate)  # Deleting Folders of CATEGORIES list\n",
    "        except Exception as e:\n",
    "            print(e)\n",
    "    print('Backup Created')"
   ]
  },
  {
   "cell_type": "code",
   "execution_count": 27,
   "metadata": {},
   "outputs": [],
   "source": [
    "#  Function Definition -- reconstruct() Reconstruction of Working Directory\n",
    "def reconstruct():\n",
    "    import shutil\n",
    "    print('Reconstructing')\n",
    "    # Deleting working directory\n",
    "    shutil.rmtree(path + \"Working_data/\")\n",
    "    # Copying data from backup\n",
    "    try:\n",
    "        shutil.copytree(Org_Dir, Work_Dir)\n",
    "    except:\n",
    "        print('Working directory already exists')\n",
    "\n",
    "    print('Reconstruction complete')"
   ]
  },
  {
   "cell_type": "code",
   "execution_count": 2,
   "metadata": {},
   "outputs": [],
   "source": [
    "# Function Defination -> Interpolation() Interpolate Images\n",
    "\n",
    "def Interpolation():\n",
    "    print('Interpolating...')\n",
    "    try:\n",
    "        workdir = os.listdir(Work_Dir)\n",
    "        \n",
    "        for label in workdir:\n",
    "            label_path = os.path.join(Work_Dir, label + '/') # Ex: Work_dir + benign/ \n",
    "            img_file = os.listdir(label_path)   # Gives the list of Images in benign or malignant folders \n",
    "            os.chdir(label_path)\n",
    "            for img in img_file:\n",
    "                image = Image.open(img)\n",
    "                image = image.resize(inter_dim, Image.ANTIALIAS)\n",
    "                inter_img_path = 'inter_' + img\n",
    "                image.save(inter_img_path)\n",
    "                image.close()\n",
    "                os.remove(img)\n",
    "                \n",
    "    except Exception as e:\n",
    "        print('Error in Interpolation() function')\n",
    "        print(e)"
   ]
  },
  {
   "cell_type": "code",
   "execution_count": 3,
   "metadata": {},
   "outputs": [
    {
     "name": "stdout",
     "output_type": "stream",
     "text": [
      "Interpolating...\n"
     ]
    },
    {
     "name": "stderr",
     "output_type": "stream",
     "text": [
      "C:\\Users\\J Narasimha Rao\\AppData\\Local\\Temp\\ipykernel_14980\\3095380726.py:14: DeprecationWarning: ANTIALIAS is deprecated and will be removed in Pillow 10 (2023-07-01). Use LANCZOS or Resampling.LANCZOS instead.\n",
      "  image = image.resize(inter_dim, Image.ANTIALIAS)\n"
     ]
    }
   ],
   "source": [
    "Interpolation()"
   ]
  },
  {
   "cell_type": "code",
   "execution_count": 4,
   "metadata": {},
   "outputs": [],
   "source": [
    "#  Function Defination -> Creating_patches() function\n",
    "\n",
    "def Creating_patches(block_h, block_w, stride):\n",
    "    print('Creating patches...')\n",
    "    try:\n",
    "        workdir = os.listdir(Work_Dir)  # Work Directory\n",
    "        for label in workdir:\n",
    "            label_path = os.path.join(Work_Dir, label + '/')    # Working_dir/benign/\n",
    "            img_file = os.listdir(label_path)  # File list of Working_dir/benign/\n",
    "            os.chdir(label_path)\n",
    "            for img in tqdm(glob.glob('*.jpg')):\n",
    "                image = Image.open(img)\n",
    "                img_w, img_h = image.size\n",
    "\n",
    "                File_Name, extention = os.path.splitext(img)\n",
    "\n",
    "                try:\n",
    "                    os.mkdir(File_Name)\n",
    "                except Exception as e:\n",
    "                    print('Error in Creating_patches() making directory')\n",
    "                    print(e)\n",
    "                    \n",
    "                frame_num = 0\n",
    "                count_row = 0\n",
    "\n",
    "                for row in range(0, img_h, stride):\n",
    "                    if (img_h-row >= block_h):\n",
    "                        count_row += 1\n",
    "                        count_col = 0\n",
    "\n",
    "                        for col in range(0, img_w, stride):\n",
    "                            if ( img_h -col >= block_w ):\n",
    "                                count_col += 1\n",
    "                                frame_num += 1\n",
    "\n",
    "                                box = (col, row, col+block_w, row+block_h)\n",
    "                                a = image.crop(box)\n",
    "                                a.save(os.path.join(File_Name,File_Name + '_row_' + str(count_row) + '_col_' + str(count_col) + '.jpg'))\n",
    "                \n",
    "                image.close()\n",
    "                os.remove(img)\n",
    "                \n",
    "            \n",
    "    except Exception as e:\n",
    "        print('Error in Creating_patches() function')\n",
    "        print(e)"
   ]
  },
  {
   "cell_type": "code",
   "execution_count": 5,
   "metadata": {},
   "outputs": [
    {
     "name": "stdout",
     "output_type": "stream",
     "text": [
      "Creating patches...\n"
     ]
    },
    {
     "name": "stderr",
     "output_type": "stream",
     "text": [
      "100%|██████████| 48/48 [00:09<00:00,  5.17it/s]\n",
      "100%|██████████| 48/48 [00:09<00:00,  4.97it/s]\n"
     ]
    }
   ],
   "source": [
    "Creating_patches(block_h, block_w, stride)"
   ]
  },
  {
   "cell_type": "code",
   "execution_count": 6,
   "metadata": {},
   "outputs": [],
   "source": [
    "# Function Defination --> Pooling Patches in a single folder\n",
    "\n",
    "def Pooling_patches():\n",
    "    print('Pooling patches...')\n",
    "    try:\n",
    "        workdir = os.listdir(Work_Dir) \n",
    "        \n",
    "        for label in workdir:\n",
    "            label_path = os.path.join(Work_Dir, label + '/')    # Work_Dir/benign\n",
    "            interplot_folder = os.listdir(label_path) # List of images in Work_Dir/benign\n",
    "            os.chdir(label_path)\n",
    "            for inter in tqdm(interplot_folder):\n",
    "                img_file=os.listdir(inter)\n",
    "                for img in img_file:\n",
    "                    img_path=os.path.join(inter,img)\n",
    "                    shutil.move(img_path,label_path)\n",
    "                    \n",
    "                os.rmdir(inter)\n",
    "            \n",
    "            \n",
    "\n",
    "    except Exception as e:\n",
    "        print('Error in Pooling_patches() function')\n",
    "        print(e)"
   ]
  },
  {
   "cell_type": "code",
   "execution_count": 7,
   "metadata": {},
   "outputs": [
    {
     "name": "stdout",
     "output_type": "stream",
     "text": [
      "Pooling patches...\n"
     ]
    },
    {
     "name": "stderr",
     "output_type": "stream",
     "text": [
      "100%|██████████| 48/48 [00:19<00:00,  2.52it/s]\n",
      "100%|██████████| 48/48 [00:18<00:00,  2.53it/s]\n"
     ]
    }
   ],
   "source": [
    "Pooling_patches()"
   ]
  },
  {
   "cell_type": "code",
   "execution_count": 6,
   "metadata": {},
   "outputs": [
    {
     "name": "stdout",
     "output_type": "stream",
     "text": [
      "Pooling patches...\n"
     ]
    },
    {
     "name": "stderr",
     "output_type": "stream",
     "text": [
      "100%|██████████| 3/3 [24:22<00:00, 487.59s/it]\n",
      "100%|██████████| 3/3 [24:07<00:00, 482.53s/it]\n",
      "100%|██████████| 3/3 [22:51<00:00, 457.29s/it]\n",
      "100%|██████████| 3/3 [21:02<00:00, 420.69s/it]\n",
      "100%|██████████| 3/3 [17:32<00:00, 350.78s/it]\n",
      "100%|██████████| 3/3 [23:49<00:00, 476.64s/it]\n",
      "100%|██████████| 3/3 [31:18<00:00, 626.07s/it] \n",
      "100%|██████████| 3/3 [16:08<00:00, 322.78s/it]\n"
     ]
    }
   ],
   "source": [
    "# Main cell to invoke functions\n",
    "\n",
    "# Backup the original data\n",
    "# Backup()\n",
    "\n",
    "# reconstruct the working data\n",
    "# reconstruct()\n",
    "\n",
    "# create modality folders\n",
    "# create_modality_folders()\n",
    "\n",
    "# Generate images from nifti files\n",
    "# Generate_images()\n",
    "\n",
    "# # Interpolate the images\n",
    "# Interpolation()\n",
    "\n",
    "# Creating patches\n",
    "# Creating_patches(block_h, block_w, stride)\n",
    "\n",
    "# Pooling patches\n",
    "Pooling_patches()"
   ]
  },
  {
   "cell_type": "code",
   "execution_count": null,
   "metadata": {},
   "outputs": [],
   "source": []
  }
 ],
 "metadata": {
  "kernelspec": {
   "display_name": "Python 3.10.6 ('base')",
   "language": "python",
   "name": "python3"
  },
  "language_info": {
   "codemirror_mode": {
    "name": "ipython",
    "version": 3
   },
   "file_extension": ".py",
   "mimetype": "text/x-python",
   "name": "python",
   "nbconvert_exporter": "python",
   "pygments_lexer": "ipython3",
   "version": "3.10.0"
  },
  "orig_nbformat": 4,
  "vscode": {
   "interpreter": {
    "hash": "1b9603ab75704494434c4abe56997ef3bb46c839483ec68f7dba80f8b5009106"
   }
  }
 },
 "nbformat": 4,
 "nbformat_minor": 2
}
