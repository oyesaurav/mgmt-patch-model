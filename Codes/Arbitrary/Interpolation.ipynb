{
 "cells": [
  {
   "cell_type": "markdown",
   "id": "9d686de8",
   "metadata": {},
   "source": [
    "Code to impose the the final tumor image on the brain image"
   ]
  },
  {
   "cell_type": "code",
   "execution_count": null,
   "id": "6815e4eb",
   "metadata": {},
   "outputs": [],
   "source": [
    "%cd /Users/vitthal/Documents/Research/DataScience/MedicalResearch/mgmt/"
   ]
  },
  {
   "cell_type": "code",
   "execution_count": null,
   "id": "5515d456",
   "metadata": {},
   "outputs": [],
   "source": [
    "import tensorflow as tf\n",
    "path = '/Users/vitthal/Documents/Research/DataScience/MedicalResearch/mgmt/'\n",
    "block_h = 32\n",
    "block_w = 32\n",
    "Model = tf.keras.models.load_model(path + 'Outputs/' + 'Model_Case_1_1.h5')"
   ]
  },
  {
   "cell_type": "code",
   "execution_count": null,
   "id": "69559ec0",
   "metadata": {},
   "outputs": [],
   "source": [
    "def window(p, q, layer, flair_data):\n",
    "    W = flair_data[p:p+32, q:q+32, layer]\n",
    "    return W\n",
    "\n",
    "\n",
    "def ML_function(Windows, layer):\n",
    "    count = 0\n",
    "    X = np.array(Windows).reshape(-1, block_h, block_w, 1)\n",
    "    predicted_classes = np.argmax(Model(X), axis=1)\n",
    "    for val in predicted_classes:\n",
    "        if (val == 1):\n",
    "            count = count + 1\n",
    "    #print(count)\n",
    "    return count\n",
    "\n",
    "\n",
    "def fun(a, b, layer, flair_data):\n",
    "    if (a < 0 or a > 239 or b < 0 or b > 239):\n",
    "        print(\"invalid point\")\n",
    "    else:\n",
    "        Windows = []\n",
    "        for x in range(a-31, a+1):\n",
    "            for y in range(b-31, b+1):\n",
    "                Windows.append(window(x, y, layer, flair_data))\n",
    "        count_1 = ML_function(Windows, layer)\n",
    "    return (count_1/1024)\n"
   ]
  },
  {
   "cell_type": "code",
   "execution_count": null,
   "id": "18e1761a",
   "metadata": {},
   "outputs": [],
   "source": [
    "def Generate_Weighted_Matrix():\n",
    "    import tqdm\n",
    "    import pickle\n",
    "    taskdir = os.listdir(Task_data)\n",
    "    if '.DS_Store' in taskdir:\n",
    "        taskdir.remove('.DS_Store')\n",
    "    for Type in taskdir:\n",
    "        print(Type)\n",
    "        Type_Path = os.path.join(Task_data, Type + '/')\n",
    "        typepathdir = os.listdir(Type_Path)\n",
    "        if '.DS_Store' in typepathdir:\n",
    "            typepathdir.remove('.DS_Store')\n",
    "            print\n",
    "        for patient in typepathdir:\n",
    "            print(patient)\n",
    "            Patient_Path = os.path.join(Type_Path, patient + '/')\n",
    "            os.chdir(Patient_Path)\n",
    "            flair = nib.load('{}_flair.nii.gz'.format(patient))\n",
    "            flair_data = flair.get_fdata()  # Converting nii to 3d np array\n",
    "\n",
    "            # Scale data between 0 & 255\n",
    "            for l in range(0, flair_data.shape[2]):\n",
    "                if (flair_data[:, :, l].max() == 0):\n",
    "                    continue\n",
    "                else:\n",
    "                    flair_data[:, :, l] *= (255.0/flair_data[:, :, l].max())\n",
    "\n",
    "            seg_mask = nib.load('{}_seg.nii.gz'.format(patient))\n",
    "            seg_mask_data = seg_mask.get_fdata()  # Converting nii to 3d np array\n",
    "\n",
    "            #Extracting only those layers from mask which have non zero values\n",
    "            z = np.any(seg_mask_data, axis=(0, 1))\n",
    "            nonzero_layers = np.nonzero(z)\n",
    "            nonzero_layer_indices = nonzero_layers[0]\n",
    "            num_layers = nonzero_layer_indices.size\n",
    "            #print(num_layers)\n",
    "            arr = np.zeros((240, 240, num_layers))\n",
    "            layer_num = 0\n",
    "\n",
    "            #Finding indices of cancer pixels using mask data\n",
    "            for layer in nonzero_layer_indices:\n",
    "                indices = np.transpose(np.nonzero(seg_mask_data[:, :, layer]))\n",
    "                #print(indices, layer)\n",
    "                for [a, b] in indices:\n",
    "                    arr[a, b, layer_num] = fun(a, b, layer, flair_data)\n",
    "                layer_num = layer_num + 1\n",
    "\n",
    "            #print(np.count_nonzero(np.any(arr, axis=(0, 1))))\n",
    "\n",
    "            #Calculating weighted average\n",
    "            Weighted_matrix = np.zeros((240, 240))\n",
    "            for x in range(0, 240):\n",
    "                for y in range(0, 240):\n",
    "                    Sum = 0\n",
    "                    num_terms = 0\n",
    "                    for slice_num in range(0, num_layers):\n",
    "                        if (arr[x][y][slice_num] != 0):\n",
    "                            Sum = Sum + arr[x][y][slice_num]\n",
    "                            num_terms = num_terms + 1\n",
    "                    if (num_terms != 0):\n",
    "                        Weighted_matrix[x][y] = Sum/num_terms\n",
    "            print(Weighted_matrix.shape)\n",
    "\n",
    "            #Storing Wiegted Average Matrix of the patient\n",
    "            pickle_out = open(\n",
    "                Patient_Path + '/W_M_{}.pickle'.format(patient), 'wb')\n",
    "            pickle.dump(Weighted_matrix, pickle_out)\n",
    "            pickle_out.close()\n"
   ]
  },
  {
   "cell_type": "code",
   "execution_count": null,
   "id": "5b457386",
   "metadata": {},
   "outputs": [],
   "source": [
    "# All Function Calls\n",
    "import os\n",
    "import numpy as np\n",
    "import nibabel as nib\n",
    "\n",
    "PATH = path + 'Data/'\n",
    "Task_data = PATH + 'Task_data/'\n",
    "\n",
    "# Function Call --> Generate Tumor Images of Patients\n",
    "Generate_Weighted_Matrix()\n"
   ]
  },
  {
   "cell_type": "code",
   "execution_count": null,
   "id": "06166cf0",
   "metadata": {},
   "outputs": [],
   "source": [
    "import pickle\n",
    "pickle_in_negative = open(\n",
    "    '/Users/vitthal/Documents/Research/DataScience/MedicalResearch/mgmt/Data/Task_data/MGMT_negative/BraTS2021_00003/W_M_BraTS2021_00003.pickle', 'rb')\n",
    "W_M_Negative_3 = pickle.load(pickle_in_negative)\n"
   ]
  },
  {
   "cell_type": "code",
   "execution_count": null,
   "id": "33fa07c3",
   "metadata": {},
   "outputs": [],
   "source": [
    "pickle_in_positive = open(\n",
    "    '/Users/vitthal/Documents/Research/DataScience/MedicalResearch/mgmt/Data/Task_data/MGMT_positive/BraTS2021_00000/W_M_BraTS2021_00000.pickle', 'rb')\n",
    "W_M_Positive_0 = pickle.load(pickle_in_positive)\n"
   ]
  },
  {
   "cell_type": "code",
   "execution_count": null,
   "id": "67080a89",
   "metadata": {},
   "outputs": [],
   "source": [
    "from copy import copy, deepcopy\n",
    "print(W_M_Negative_3)\n",
    "x = deepcopy(W_M_Negative_3)\n",
    "print(x)\n",
    "\n",
    "for i in range(len(x)):\n",
    "    for j in range(len(x[0])):\n",
    "        if x[i][j] == 0:\n",
    "            pass\n",
    "        else:\n",
    "            x[i][j] = abs(x[i][j]-1)\n",
    "\n",
    "x\n"
   ]
  },
  {
   "cell_type": "code",
   "execution_count": null,
   "id": "b49bbbb7",
   "metadata": {},
   "outputs": [],
   "source": [
    "import matplotlib.pyplot as plt\n",
    "plt.figure(figsize=(15, 15))\n",
    "# plt.spy(W_M_Negative_3, markersize=1)\n",
    "plt.imshow(x, cmap=\"Reds\")\n"
   ]
  },
  {
   "cell_type": "code",
   "execution_count": null,
   "id": "36175bd6",
   "metadata": {},
   "outputs": [],
   "source": [
    "import numpy as np\n",
    "np.nonzero(x)"
   ]
  },
  {
   "cell_type": "code",
   "execution_count": null,
   "id": "7a6e06cd",
   "metadata": {},
   "outputs": [],
   "source": [
    "path = '/Users/vitthal/Documents/Research/DataScience/MedicalResearch/mgmt/'\n",
    "\n",
    "CATEGORIES = ['MGMT_negative', 'MGMT_positive']\n",
    "\n",
    "PATH = '/Users/vitthal/Documents/Research/DataScience/MedicalResearch/mgmt/Data/Original_Data_Backup/MGMT_negative/BraTS2021_00003/BraTS2021_00003_flair.nii.gz'\n"
   ]
  },
  {
   "cell_type": "code",
   "execution_count": null,
   "id": "8e049d74",
   "metadata": {},
   "outputs": [],
   "source": [
    "import nibabel as nib\n",
    "def maxpixels():\n",
    "    import os\n",
    "    print(\"Fetching image with maximum image size\")\n",
    "    flair = nib.load(PATH)\n",
    "    flair_data= flair.get_fdata() # coverting nii to 3d np array\n",
    "    seg_mask = nib.load(\n",
    "        '/Users/vitthal/Documents/Research/DataScience/MedicalResearch/mgmt/Data/Original_Data_Backup/MGMT_negative/BraTS2021_00003/BraTS2021_00003_seg.nii.gz')\n",
    "    seg_mask_data = seg_mask.get_fdata()  # coverting nii to 3d np array\n",
    "    #Extracting only those layers from mask hich have non zero values\n",
    "    z = np.any(seg_mask_data, axis=(0, 1))\n",
    "    # zmin & zmax saves the corresponding layer numbers of tumor regions\n",
    "    zmin, zmax = np.where(z)[0][[0, -1]]\n",
    "    print(zmin, zmax)\n",
    "    # print(z)\n",
    "    # Figuring out layer with maximum pixels\n",
    "    layer=0\n",
    "    max = np.nonzero(flair_data[77])[0].max()\n",
    "    print(np.nonzero(flair_data[77])[0][0])\n",
    "    # for i in range(zmin,zmax):\n",
    "    #     for j in range(2):\n",
    "    #         max1 = np.nonzero(flair_data[i])[j].max()\n",
    "    #         if max <max1:\n",
    "    #             max = max1\n",
    "    #             layer=i\n",
    "    #         else:\n",
    "    #             pass\n",
    "        # print(i)\n",
    "        # print(flair_data[i])\n",
    "        # print(np.nonzero(flair_data[i]))\n",
    "\n",
    "    # for i in range(zmin,zmax):\n",
    "    #     for \n",
    "        \n",
    "    print(layer)\n",
    "    print(np.nonzero(flair_data[layer]))\n",
    "    # print(\"here\",len(np.nonzero(flair_data[77])))\n",
    "    print(np.nonzero(flair_data[129])[1].max())\n",
    "    return flair_data[layer]\n",
    "\n",
    "        \n"
   ]
  },
  {
   "cell_type": "code",
   "execution_count": null,
   "id": "ce5d44a4",
   "metadata": {},
   "outputs": [],
   "source": [
    "y= maxpixels()\n",
    "y"
   ]
  },
  {
   "cell_type": "code",
   "execution_count": null,
   "id": "e61f42b5",
   "metadata": {},
   "outputs": [],
   "source": [
    "import matplotlib.pyplot as plt\n",
    "\n",
    "flair = nib.load(PATH)\n",
    "flair_data = flair.get_fdata()\n",
    "plt.figure(figsize=(15, 15))\n",
    "# plt.spy(W_M_Negative_3, markersize=1)\n",
    "plt.imshow(flair_data[129])\n"
   ]
  },
  {
   "cell_type": "code",
   "execution_count": null,
   "id": "11b6cd23",
   "metadata": {},
   "outputs": [],
   "source": [
    "import seaborn as sns\n",
    "import numpy as np\n",
    "import nibabel as nib\n",
    "# import itk\n",
    "# import itkwidgets\n",
    "from ipywidgets import interact, interactive, IntSlider, ToggleButtons\n",
    "import matplotlib.pyplot as plt\n",
    "%matplotlib inline\n",
    "sns.set_style('darkgrid')"
   ]
  },
  {
   "cell_type": "code",
   "execution_count": null,
   "id": "f732e57b",
   "metadata": {},
   "outputs": [],
   "source": [
    "image_path_flair = '/Users/vitthal/Documents/Research/DataScience/MedicalResearch/mgmt/Data/Original_Data_Backup/MGMT_negative/BraTS2021_00003/BraTS2021_00003_flair.nii.gz'\n",
    "image_path_seg = '/Users/vitthal/Documents/Research/DataScience/MedicalResearch/mgmt/Data/Original_Data_Backup/MGMT_negative/BraTS2021_00003/BraTS2021_00003_seg.nii.gz'\n"
   ]
  },
  {
   "cell_type": "code",
   "execution_count": null,
   "id": "322bd31a",
   "metadata": {},
   "outputs": [],
   "source": [
    "image_obj_flair = nib.load(image_path_flair)\n",
    "image_obj_seg = nib.load(image_path_seg)\n"
   ]
  },
  {
   "cell_type": "code",
   "execution_count": null,
   "id": "29e78318",
   "metadata": {},
   "outputs": [],
   "source": [
    "image_data_flair = image_obj_flair.get_fdata()\n",
    "image_data_seg = image_obj_seg.get_fdata()\n"
   ]
  },
  {
   "cell_type": "code",
   "execution_count": null,
   "id": "47484cc0",
   "metadata": {},
   "outputs": [],
   "source": [
    "image_data_flair.shape"
   ]
  },
  {
   "cell_type": "code",
   "execution_count": null,
   "id": "d5798fab",
   "metadata": {},
   "outputs": [],
   "source": [
    "image_data_flair"
   ]
  },
  {
   "cell_type": "code",
   "execution_count": null,
   "id": "b929ad19",
   "metadata": {},
   "outputs": [],
   "source": [
    "from copy import copy, deepcopy\n",
    "zmin = 77\n",
    "zmax = 136\n",
    "max_pixel=0\n",
    "layer=0\n",
    "for i in range(zmin,zmax):\n",
    "    for j in range(240):\n",
    "        for k in range(240):\n",
    "            blank = np.zeros((240, 240))\n",
    "            blank[j][k]= flair_data[j][k][i]\n",
    "            # print(np.nonzero(blank))\n",
    "            blank_size=len(np.nonzero(blank)[0])\n",
    "            blank_size1=len(np.nonzero(blank)[1])\n",
    "            print(blank_size)\n",
    "            # if blank_size>max_pixel:\n",
    "            #     max_pixel=blank_size\n",
    "            #     layer =i\n",
    "print(layer)"
   ]
  },
  {
   "cell_type": "code",
   "execution_count": null,
   "id": "08580657",
   "metadata": {},
   "outputs": [],
   "source": [
    "blank = np.zeros((240,240))\n",
    "blank"
   ]
  },
  {
   "cell_type": "code",
   "execution_count": null,
   "id": "e5cfb1ec",
   "metadata": {},
   "outputs": [],
   "source": [
    "flair_data.shape\n"
   ]
  }
 ],
 "metadata": {
  "interpreter": {
   "hash": "1b9603ab75704494434c4abe56997ef3bb46c839483ec68f7dba80f8b5009106"
  },
  "kernelspec": {
   "display_name": "Python 3.10.6 ('base')",
   "language": "python",
   "name": "python3"
  },
  "language_info": {
   "codemirror_mode": {
    "name": "ipython",
    "version": 3
   },
   "file_extension": ".py",
   "mimetype": "text/x-python",
   "name": "python",
   "nbconvert_exporter": "python",
   "pygments_lexer": "ipython3",
   "version": "3.10.6"
  }
 },
 "nbformat": 4,
 "nbformat_minor": 5
}
