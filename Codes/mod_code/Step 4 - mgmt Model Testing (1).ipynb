{
 "cells": [
  {
   "cell_type": "code",
   "execution_count": 9,
   "id": "45b36dc9",
   "metadata": {},
   "outputs": [
    {
     "name": "stdout",
     "output_type": "stream",
     "text": [
      "/Users/vitthal/Documents/Research/DataScience/MedicalResearch/mgmt\n"
     ]
    }
   ],
   "source": [
    "%cd /Users/vitthal/Documents/Research/DataScience/MedicalResearch/mgmt"
   ]
  },
  {
   "cell_type": "code",
   "execution_count": 10,
   "id": "409de74d",
   "metadata": {},
   "outputs": [],
   "source": [
    "path = '/Users/vitthal/Documents/Research/DataScience/MedicalResearch/mgmt/'\n",
    "block_h, block_w = (32,32)\n",
    "\n",
    "load_Case_1_1_Model = 'Model_Case_1_1.h5'\n",
    "load_Case_1_2_Model = 'Model_Case_1_2.h5'\n",
    "load_Case_1_3_Model = 'Model_Case_1_3.h5'\n",
    "load_Case_1_4_Model = 'Model_Case_1_4.h5'\n",
    "load_Case_1_5_Model = 'Model_Case_1_5.h5'\n",
    "load_Case_2_1_Model = 'Model_Case_2_1.h5'\n",
    "load_Case_2_2_Model = 'Model_Case_2_2.h5'\n",
    "load_Case_2_3_Model = 'Model_Case_2_3.h5'\n",
    "load_Case_2_4_Model = 'Model_Case_2_4.h5'\n",
    "load_Case_2_5_Model = 'Model_Case_2_5.h5'\n",
    "load_Case_3_1_Model = 'Model_Case_3_1.h5'\n",
    "load_Case_3_2_Model = 'Model_Case_3_2.h5'\n",
    "load_Case_3_3_Model = 'Model_Case_3_3.h5'\n",
    "load_Case_3_4_Model = 'Model_Case_3_4.h5'\n",
    "load_Case_3_5_Model = 'Model_Case_3_5.h5'\n",
    "load_Case_4_1_Model = 'Model_Case_4_1.h5'\n",
    "load_Case_4_2_Model = 'Model_Case_4_2.h5'\n",
    "load_Case_4_3_Model = 'Model_Case_4_3.h5'\n",
    "load_Case_4_4_Model = 'Model_Case_4_4.h5'\n",
    "load_Case_4_5_Model = 'Model_Case_4_5.h5'\n",
    "load_Case_5_1_Model = 'Model_Case_5_1.h5'\n",
    "load_Case_5_2_Model = 'Model_Case_5_2.h5'\n",
    "load_Case_5_3_Model = 'Model_Case_5_3.h5'\n",
    "load_Case_5_4_Model = 'Model_Case_5_4.h5'\n",
    "load_Case_5_5_Model = 'Model_Case_5_5.h5'\n"
   ]
  },
  {
   "cell_type": "code",
   "execution_count": 11,
   "id": "d2382325",
   "metadata": {},
   "outputs": [],
   "source": [
    "# Function Definition --> For reading the Images and append it to a list\n",
    "\n",
    "def Reading_Data():\n",
    "    from tqdm import tqdm  # It is a progress bar, Used to track the estimated remaining time.\n",
    "    import cv2  # Used for Images processing.\n",
    "    splitpath = os.listdir(Split_Path)\n",
    "    if '.DS_Store' in splitpath:\n",
    "        splitpath.remove('.DS_Store')\n",
    "    for category in splitpath:\n",
    "        Category_Path = os.path.join(Split_Path, category + '/')  # Joining path for \"MGMT_positive & MGMT_negative\".\n",
    "        class_num = splitpath.index(category)  # Initializing index for each class.\n",
    "        categorypath = os.listdir(Category_Path)\n",
    "        if '.DS_Store' in categorypath:\n",
    "            categorypath.remove('.DS_Store')\n",
    "        for img_folder in tqdm(categorypath):  # Working with the folders of images\n",
    "            Img_Path = os.path.join(Category_Path, img_folder + '/')\n",
    "            imagepath = os.listdir(Img_Path)\n",
    "            if '.DS_Store' in imagepath:\n",
    "                imagepath.remove('.DS_Store')\n",
    "            for img in imagepath:  # listing all images present in the image folder.\n",
    "                try:\n",
    "                    img_array = cv2.imread(os.path.join(Img_Path, img), cv2.IMREAD_GRAYSCALE)\n",
    "                    test_data.append([img_array, class_num])  # Saving images with their corresponding class labels.\n",
    "                except Exception as e:\n",
    "                    pass"
   ]
  },
  {
   "cell_type": "code",
   "execution_count": 12,
   "id": "b487fff1",
   "metadata": {},
   "outputs": [],
   "source": [
    "# Function Defination --> For Initilizing all features & labels of the processed image in the list X & Y\n",
    "\n",
    "def Initilizing_Features_Labels():\n",
    "    for features, label in test_data:\n",
    "        X.append(features)\n",
    "        y.append(label)\n",
    "\n",
    "    print('List Size: ', len(X), len(y))"
   ]
  },
  {
   "cell_type": "code",
   "execution_count": 13,
   "id": "d22c65f4",
   "metadata": {},
   "outputs": [],
   "source": [
    "# Function Defination --> Converting List into Numpy Array for faster calculation & it also take less space.\n",
    "\n",
    "def Converting(block_h, block_w):\n",
    "    import numpy as np  # Used for array operations.\n",
    "    global X, y\n",
    "\n",
    "    X = np.array(X).reshape(-1, block_h, block_w, 1)  # -1 is added to solve dimension mismatch while converting list to an array.\n",
    "    y = np.array(y)\n",
    "\n",
    "    # Print shape of the loading data\n",
    "    print('Shape of X:\\t', X.shape)\n",
    "    print('Shape of y:\\t', y.shape)"
   ]
  },
  {
   "cell_type": "code",
   "execution_count": 14,
   "id": "32a4a2ff",
   "metadata": {},
   "outputs": [],
   "source": [
    "# Function Definition --> Loading the model\n",
    "\n",
    "def Load_Model():\n",
    "    if case == 'Case_1':\n",
    "        my_model = tf.keras.models.load_model(\n",
    "            path + 'Outputs/BRATS/t1ce_output/' + load_Case_1_2_Model)\n",
    "    elif case == 'Case_2':\n",
    "        my_model = tf.keras.models.load_model(\n",
    "            path + 'Outputs/BRATS/t1ce_output/' + load_Case_2_2_Model)\n",
    "    elif case == 'Case_3':\n",
    "        my_model = tf.keras.models.load_model(\n",
    "            path + 'Outputs/BRATS/t1ce_output/' + load_Case_3_2_Model)\n",
    "    elif case == 'Case_4':\n",
    "        my_model = tf.keras.models.load_model(\n",
    "            path + 'Outputs/BRATS/t1ce_output/' + load_Case_4_2_Model)\n",
    "    elif case == 'Case_5':\n",
    "        my_model = tf.keras.models.load_model(\n",
    "            path + 'Outputs/BRATS/t1ce_output/' + load_Case_5_2_Model)\n",
    "            \n",
    "    return my_model"
   ]
  },
  {
   "cell_type": "code",
   "execution_count": 15,
   "id": "360e4fb5",
   "metadata": {},
   "outputs": [],
   "source": [
    "# Function Definition --> Plotting the AUC-ROC Curve\n",
    "\n",
    "def Plotting_AUC_ROC_Curve(X, y, model):\n",
    "    import sklearn.metrics as metrics\n",
    "    import matplotlib.pyplot as plt\n",
    "\n",
    "    # calculate the fpr and tpr for all thresholds of the classification\n",
    "    probs = model.predict(X)\n",
    "    preds = probs[:,1]\n",
    "    fpr, tpr, threshold = metrics.roc_curve(y, preds)\n",
    "    roc_auc = metrics.auc(fpr, tpr)\n",
    "\n",
    "    plt.plot(fpr, tpr, 'b', label = 'AUC = %0.2f' % roc_auc)\n",
    "    plt.legend(loc = 'lower right')\n",
    "    plt.plot([0, 1], [0, 1],'r--')\n",
    "    plt.xlim([0, 1])\n",
    "    plt.ylim([0, 1])\n",
    "\n",
    "    plt.title('Receiver Operating Characteristic')\n",
    "    plt.ylabel('True Positive Rate')\n",
    "    plt.xlabel('False Positive Rate')\n",
    "\n",
    "    plt.show()\n",
    "    plt.savefig(path + 'Outputs/AUC-ROC_Graph_' + case + '.png')"
   ]
  },
  {
   "cell_type": "code",
   "execution_count": 16,
   "id": "b7f7793c",
   "metadata": {},
   "outputs": [
    {
     "name": "stdout",
     "output_type": "stream",
     "text": [
      "Case_5\n"
     ]
    },
    {
     "ename": "NotADirectoryError",
     "evalue": "[Errno 20] Not a directory: '/Users/vitthal/Documents/Research/DataScience/MedicalResearch/mgmt/Data/BRATS/mod_data/Working_Data/Case_5/train/y.pickle/'",
     "output_type": "error",
     "traceback": [
      "\u001b[0;31m---------------------------------------------------------------------------\u001b[0m",
      "\u001b[0;31mNotADirectoryError\u001b[0m                        Traceback (most recent call last)",
      "\u001b[1;32m/Users/vitthal/Documents/Research/DataScience/MedicalResearch/mgmt/Codes/mod_code/Step 4 - mgmt Model Testing (1).ipynb Cell 8\u001b[0m in \u001b[0;36m<cell line: 16>\u001b[0;34m()\u001b[0m\n\u001b[1;32m     <a href='vscode-notebook-cell:/Users/vitthal/Documents/Research/DataScience/MedicalResearch/mgmt/Codes/mod_code/Step%204%20-%20mgmt%20Model%20Testing%20%281%29.ipynb#X10sZmlsZQ%3D%3D?line=21'>22</a>\u001b[0m test_data \u001b[39m=\u001b[39m []\n\u001b[1;32m     <a href='vscode-notebook-cell:/Users/vitthal/Documents/Research/DataScience/MedicalResearch/mgmt/Codes/mod_code/Step%204%20-%20mgmt%20Model%20Testing%20%281%29.ipynb#X10sZmlsZQ%3D%3D?line=23'>24</a>\u001b[0m \u001b[39m# Function Call --> For reading the Images and append it to a list\u001b[39;00m\n\u001b[0;32m---> <a href='vscode-notebook-cell:/Users/vitthal/Documents/Research/DataScience/MedicalResearch/mgmt/Codes/mod_code/Step%204%20-%20mgmt%20Model%20Testing%20%281%29.ipynb#X10sZmlsZQ%3D%3D?line=24'>25</a>\u001b[0m Reading_Data()\n\u001b[1;32m     <a href='vscode-notebook-cell:/Users/vitthal/Documents/Research/DataScience/MedicalResearch/mgmt/Codes/mod_code/Step%204%20-%20mgmt%20Model%20Testing%20%281%29.ipynb#X10sZmlsZQ%3D%3D?line=26'>27</a>\u001b[0m \u001b[39m# Printing Length of the test data.\u001b[39;00m\n\u001b[1;32m     <a href='vscode-notebook-cell:/Users/vitthal/Documents/Research/DataScience/MedicalResearch/mgmt/Codes/mod_code/Step%204%20-%20mgmt%20Model%20Testing%20%281%29.ipynb#X10sZmlsZQ%3D%3D?line=27'>28</a>\u001b[0m \u001b[39mprint\u001b[39m(\u001b[39m'\u001b[39m\u001b[39mLength of the total test data: \u001b[39m\u001b[39m'\u001b[39m \u001b[39m+\u001b[39m \u001b[39mstr\u001b[39m(\u001b[39mlen\u001b[39m(test_data)))\n",
      "\u001b[1;32m/Users/vitthal/Documents/Research/DataScience/MedicalResearch/mgmt/Codes/mod_code/Step 4 - mgmt Model Testing (1).ipynb Cell 8\u001b[0m in \u001b[0;36mReading_Data\u001b[0;34m()\u001b[0m\n\u001b[1;32m     <a href='vscode-notebook-cell:/Users/vitthal/Documents/Research/DataScience/MedicalResearch/mgmt/Codes/mod_code/Step%204%20-%20mgmt%20Model%20Testing%20%281%29.ipynb#X10sZmlsZQ%3D%3D?line=9'>10</a>\u001b[0m Category_Path \u001b[39m=\u001b[39m os\u001b[39m.\u001b[39mpath\u001b[39m.\u001b[39mjoin(Split_Path, category \u001b[39m+\u001b[39m \u001b[39m'\u001b[39m\u001b[39m/\u001b[39m\u001b[39m'\u001b[39m)  \u001b[39m# Joining path for \"MGMT_positive & MGMT_negative\".\u001b[39;00m\n\u001b[1;32m     <a href='vscode-notebook-cell:/Users/vitthal/Documents/Research/DataScience/MedicalResearch/mgmt/Codes/mod_code/Step%204%20-%20mgmt%20Model%20Testing%20%281%29.ipynb#X10sZmlsZQ%3D%3D?line=10'>11</a>\u001b[0m class_num \u001b[39m=\u001b[39m splitpath\u001b[39m.\u001b[39mindex(category)  \u001b[39m# Initializing index for each class.\u001b[39;00m\n\u001b[0;32m---> <a href='vscode-notebook-cell:/Users/vitthal/Documents/Research/DataScience/MedicalResearch/mgmt/Codes/mod_code/Step%204%20-%20mgmt%20Model%20Testing%20%281%29.ipynb#X10sZmlsZQ%3D%3D?line=11'>12</a>\u001b[0m categorypath \u001b[39m=\u001b[39m os\u001b[39m.\u001b[39;49mlistdir(Category_Path)\n\u001b[1;32m     <a href='vscode-notebook-cell:/Users/vitthal/Documents/Research/DataScience/MedicalResearch/mgmt/Codes/mod_code/Step%204%20-%20mgmt%20Model%20Testing%20%281%29.ipynb#X10sZmlsZQ%3D%3D?line=12'>13</a>\u001b[0m \u001b[39mif\u001b[39;00m \u001b[39m'\u001b[39m\u001b[39m.DS_Store\u001b[39m\u001b[39m'\u001b[39m \u001b[39min\u001b[39;00m categorypath:\n\u001b[1;32m     <a href='vscode-notebook-cell:/Users/vitthal/Documents/Research/DataScience/MedicalResearch/mgmt/Codes/mod_code/Step%204%20-%20mgmt%20Model%20Testing%20%281%29.ipynb#X10sZmlsZQ%3D%3D?line=13'>14</a>\u001b[0m     categorypath\u001b[39m.\u001b[39mremove(\u001b[39m'\u001b[39m\u001b[39m.DS_Store\u001b[39m\u001b[39m'\u001b[39m)\n",
      "\u001b[0;31mNotADirectoryError\u001b[0m: [Errno 20] Not a directory: '/Users/vitthal/Documents/Research/DataScience/MedicalResearch/mgmt/Data/BRATS/mod_data/Working_Data/Case_5/train/y.pickle/'"
     ]
    }
   ],
   "source": [
    "# All Function Calls\n",
    "import os\n",
    "from tqdm import tqdm  # It is a progress bar, Used to track the estimated remaining time.\n",
    "import tensorflow as tf\n",
    "from tensorflow.keras.models import load_model\n",
    "from keras.utils.np_utils import to_categorical\n",
    "import numpy as np\n",
    "\n",
    "PATH = path + 'Data/BRATS/mod_data/'\n",
    "Work_Dir = PATH + 'Working_Data/'\n",
    "Result_File = path + 'Outputs/BRATS/t1ce_output/Final_Test_Result.txt'\n",
    "workdir = os.listdir(Work_Dir)\n",
    "if '.DS_Store' in workdir:\n",
    "    workdir.remove('.DS_Store')\n",
    "# Calling Functions:\n",
    "for case in workdir:\n",
    "    print(case)\n",
    "    Case_Path = os.path.join(Work_Dir, case)  # Joining path for \"Cases'.\n",
    "    Split_Path = Case_Path + '/test/'  # Joining \"test\" folder with \"Cases\" path.\n",
    "\n",
    "    # Creating list for storing processed data\n",
    "    test_data = []\n",
    "\n",
    "    # Function Call --> For reading the Images and append it to a list\n",
    "    Reading_Data()\n",
    "\n",
    "    # Printing Length of the test data.\n",
    "    print('Length of the total test data: ' + str(len(test_data)))\n",
    "    \n",
    "    # Initilizing all features & labels of the processed image in the list X & Y.\n",
    "    X = []\n",
    "    y = []\n",
    "\n",
    "    # Function Call --> For Initilizing all features & labels of the processed image in the list X & Y\n",
    "    Initilizing_Features_Labels()\n",
    "\n",
    "    # Function Call --> For Converting List into Numpy Array for faster calculation & it also take less space.\n",
    "    Converting(block_h, block_w)\n",
    "\n",
    "    results = []\n",
    "\n",
    "    # Function call --> Loading the model\n",
    "    my_model = Load_Model()\n",
    "    print(\"my_model\")\n",
    "    \n",
    "    # Function Call --> Plotting the AUC-ROC Curve\n",
    "    \n",
    "    Plotting_AUC_ROC_Curve(X, y, my_model)\n",
    "\n",
    "    print('\\n')\n",
    "\n",
    "os.chdir(path)\n",
    "print('Done..!!')"
   ]
  }
 ],
 "metadata": {
  "interpreter": {
   "hash": "1b9603ab75704494434c4abe56997ef3bb46c839483ec68f7dba80f8b5009106"
  },
  "kernelspec": {
   "display_name": "Python 3.10.6 ('base')",
   "language": "python",
   "name": "python3"
  },
  "language_info": {
   "codemirror_mode": {
    "name": "ipython",
    "version": 3
   },
   "file_extension": ".py",
   "mimetype": "text/x-python",
   "name": "python",
   "nbconvert_exporter": "python",
   "pygments_lexer": "ipython3",
   "version": "3.10.6"
  }
 },
 "nbformat": 4,
 "nbformat_minor": 5
}
