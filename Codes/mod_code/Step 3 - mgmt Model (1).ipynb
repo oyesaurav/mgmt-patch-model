{
 "cells": [
  {
   "cell_type": "code",
   "execution_count": 7,
   "id": "6208cd65",
   "metadata": {},
   "outputs": [
    {
     "name": "stdout",
     "output_type": "stream",
     "text": [
      "/Users/vitthal/Documents/Research/DataScience/MedicalResearch/mgmt\n"
     ]
    }
   ],
   "source": [
    "%cd /Users/vitthal/Documents/Research/DataScience/MedicalResearch/mgmt"
   ]
  },
  {
   "cell_type": "code",
   "execution_count": 8,
   "id": "197ad3c9",
   "metadata": {},
   "outputs": [],
   "source": [
    "path = '/Users/vitthal/Documents/Research/DataScience/MedicalResearch/mgmt/'\n",
    "block_h, block_w = (32, 32)\n",
    "Sub_Model = 5"
   ]
  },
  {
   "cell_type": "code",
   "execution_count": 9,
   "id": "31ae707e",
   "metadata": {},
   "outputs": [],
   "source": [
    "# Function Definition --> Loading preprocessed data from the file & Normalize it.\n",
    "\n",
    "def Load_Data():\n",
    "    print('Loading Data...')\n",
    "    pickle_in = open(Split_Path + 'X.pickle', 'rb')\n",
    "    X = pickle.load(pickle_in)  # Loading Features\n",
    "\n",
    "    pickle_in = open(Split_Path + 'y.pickle', 'rb')\n",
    "    y = pickle.load(pickle_in)  # Loading Labels\n",
    "\n",
    "    print('Shape of X:\\t', X.shape), print('Shape of y:\\t', y.shape)\n",
    "\n",
    "    # Normalizing the features between [0, 1]\n",
    "    #X = X / 255.0\n",
    "\n",
    "    return X, y"
   ]
  },
  {
   "cell_type": "code",
   "execution_count": 10,
   "id": "8f8dd717",
   "metadata": {},
   "outputs": [],
   "source": [
    "# Function Definition --> For Development, Compilation, Training & Storing of the Model\n",
    "\n",
    "def Model(img_h, img_w, X_train, y_train, X_test, y_test, count):\n",
    "    # import tensorflow as tf\n",
    "    from tensorflow.keras.models import Sequential\n",
    "    from tensorflow.keras.layers import Conv2D, MaxPooling2D, Flatten, Dense, Dropout, LeakyReLU, Activation\n",
    "    from tensorflow.keras.utils import to_categorical\n",
    "\n",
    "    model = Sequential()\n",
    "\n",
    "    model.add(Conv2D(32, (3, 3), padding='same',\n",
    "              input_shape=(img_h, img_w, 1)))\n",
    "    model.add(LeakyReLU(alpha=0.1))\n",
    "    # Pool_size is the size of filter.\n",
    "    model.add(MaxPooling2D(pool_size=(3, 3)))\n",
    "    model.add(Dropout(0.1))\n",
    "\n",
    "    model.add(Conv2D(48, (3, 3), padding='same'))\n",
    "    model.add(LeakyReLU(alpha=0.1))\n",
    "    model.add(MaxPooling2D(pool_size=(3, 3)))\n",
    "    model.add(Dropout(0.1))\n",
    "\n",
    "    model.add(Conv2D(48, (3, 3), padding='same'))\n",
    "    model.add(LeakyReLU(alpha=0.1))\n",
    "    model.add(MaxPooling2D(pool_size=(3, 3)))\n",
    "    model.add(Dropout(0.1))\n",
    "\n",
    "    model.add(Flatten())  # Convert 3D feature map to 1D feature vector.\n",
    "\n",
    "    model.add(Dense(1096))\n",
    "    model.add(LeakyReLU(alpha=0.1))\n",
    "    model.add(Dropout(0.1))\n",
    "    model.add(Dense(2, activation='softmax'))\n",
    "\n",
    "    # Compiling the model\n",
    "    model.compile(loss='categorical_crossentropy',\n",
    "                  optimizer='adam', metrics=['accuracy'])\n",
    "    model.optimizer.learning_rate = 0.0001\n",
    "\n",
    "    # Training the model & storing its detail in the variable h\n",
    "    history = model.fit(X_train, to_categorical(y_train), batch_size=128, epochs=50, verbose=2,\n",
    "                        validation_data=(X_test, to_categorical(y_test)), shuffle=True)\n",
    "\n",
    "    # Evaluating performance of the Model\n",
    "    test_loss, test_acc = model.evaluate(X_test, to_categorical(y_test))\n",
    "    results.append(test_acc)\n",
    "    print('Test Loss is: ', test_loss, '\\nTest Accuracy is: ', test_acc)\n",
    "\n",
    "    # Saving the model in hierarchical Data Formate (HDF)\n",
    "    model.save(path + 'Outputs/Model_' + case + '_' + str(count+1) + '.h5')\n",
    "\n",
    "    return history, model\n"
   ]
  },
  {
   "cell_type": "code",
   "execution_count": 11,
   "id": "11356981",
   "metadata": {},
   "outputs": [],
   "source": [
    "# Function Definition --> For Saving Validation Accuracy in the file\n",
    "\n",
    "def Saving_Test_Accuracy():\n",
    "    import numpy as np\n",
    "\n",
    "    print('Saving Test Accuracy...')\n",
    "    \n",
    "    file = open(Result_File, \"a\")\n",
    "    file.write(case)\n",
    "    file.write(':\\n======')\n",
    "    file.write('\\nAll Test Accuracy:\\t')\n",
    "    \n",
    "    for ans in results:\n",
    "        file.write(str(ans) + ', ')\n",
    "    \n",
    "    file.write('\\nMean Test Accuracy:\\t' + str(np.mean(results)))\n",
    "    file.write('\\nMin Test Accuracy:\\t' + str(np.min(results)))\n",
    "    file.write('\\nMax Test Accuracy:\\t' + str(np.max(results)))\n",
    "    file.write('\\n\\n\\n')\n",
    "    file.close()"
   ]
  },
  {
   "cell_type": "code",
   "execution_count": 12,
   "id": "7e7ccb3c",
   "metadata": {},
   "outputs": [
    {
     "name": "stdout",
     "output_type": "stream",
     "text": [
      "Removed .DS_Store\n"
     ]
    },
    {
     "name": "stderr",
     "output_type": "stream",
     "text": [
      "  0%|          | 0/5 [00:00<?, ?it/s]"
     ]
    },
    {
     "name": "stdout",
     "output_type": "stream",
     "text": [
      "Case_5\n",
      "Loading Data...\n",
      "Shape of X:\t (1529474, 32, 32, 1)\n",
      "Shape of y:\t (1529474,)\n",
      "\n",
      "Case_5_1\n",
      "Epoch 1/50\n"
     ]
    },
    {
     "name": "stderr",
     "output_type": "stream",
     "text": [
      "  0%|          | 0/5 [00:03<?, ?it/s]\n"
     ]
    },
    {
     "ename": "ValueError",
     "evalue": "in user code:\n\n    File \"/Users/vitthal/miniforge3/lib/python3.10/site-packages/keras/engine/training.py\", line 1051, in train_function  *\n        return step_function(self, iterator)\n    File \"/Users/vitthal/miniforge3/lib/python3.10/site-packages/keras/engine/training.py\", line 1040, in step_function  **\n        outputs = model.distribute_strategy.run(run_step, args=(data,))\n    File \"/Users/vitthal/miniforge3/lib/python3.10/site-packages/keras/engine/training.py\", line 1030, in run_step  **\n        outputs = model.train_step(data)\n    File \"/Users/vitthal/miniforge3/lib/python3.10/site-packages/keras/engine/training.py\", line 890, in train_step\n        loss = self.compute_loss(x, y, y_pred, sample_weight)\n    File \"/Users/vitthal/miniforge3/lib/python3.10/site-packages/keras/engine/training.py\", line 948, in compute_loss\n        return self.compiled_loss(\n    File \"/Users/vitthal/miniforge3/lib/python3.10/site-packages/keras/engine/compile_utils.py\", line 201, in __call__\n        loss_value = loss_obj(y_t, y_p, sample_weight=sw)\n    File \"/Users/vitthal/miniforge3/lib/python3.10/site-packages/keras/losses.py\", line 139, in __call__\n        losses = call_fn(y_true, y_pred)\n    File \"/Users/vitthal/miniforge3/lib/python3.10/site-packages/keras/losses.py\", line 243, in call  **\n        return ag_fn(y_true, y_pred, **self._fn_kwargs)\n    File \"/Users/vitthal/miniforge3/lib/python3.10/site-packages/keras/losses.py\", line 1787, in categorical_crossentropy\n        return backend.categorical_crossentropy(\n    File \"/Users/vitthal/miniforge3/lib/python3.10/site-packages/keras/backend.py\", line 5119, in categorical_crossentropy\n        target.shape.assert_is_compatible_with(output.shape)\n\n    ValueError: Shapes (None, 3) and (None, 2) are incompatible\n",
     "output_type": "error",
     "traceback": [
      "\u001b[0;31m---------------------------------------------------------------------------\u001b[0m",
      "\u001b[0;31mValueError\u001b[0m                                Traceback (most recent call last)",
      "\u001b[1;32m/Users/vitthal/Documents/Research/DataScience/MedicalResearch/mgmt/Codes/mod_code/Step 3 - mgmt Model (1).ipynb Cell 6\u001b[0m in \u001b[0;36m<cell line: 16>\u001b[0;34m()\u001b[0m\n\u001b[1;32m     <a href='vscode-notebook-cell:/Users/vitthal/Documents/Research/DataScience/MedicalResearch/mgmt/Codes/mod_code/Step%203%20-%20mgmt%20Model%20%281%29.ipynb#W5sZmlsZQ%3D%3D?line=29'>30</a>\u001b[0m     X_train, X_test, y_train, y_test \u001b[39m=\u001b[39m train_test_split(X, y, test_size \u001b[39m=\u001b[39m \u001b[39m0.3\u001b[39m, random_state \u001b[39m=\u001b[39m num)\n\u001b[1;32m     <a href='vscode-notebook-cell:/Users/vitthal/Documents/Research/DataScience/MedicalResearch/mgmt/Codes/mod_code/Step%203%20-%20mgmt%20Model%20%281%29.ipynb#W5sZmlsZQ%3D%3D?line=31'>32</a>\u001b[0m     \u001b[39m# Function Call --> For Development, Compilation, Training & Storing of the Model\u001b[39;00m\n\u001b[0;32m---> <a href='vscode-notebook-cell:/Users/vitthal/Documents/Research/DataScience/MedicalResearch/mgmt/Codes/mod_code/Step%203%20-%20mgmt%20Model%20%281%29.ipynb#W5sZmlsZQ%3D%3D?line=32'>33</a>\u001b[0m     history, model \u001b[39m=\u001b[39m Model(block_h, block_w, X_train, y_train, X_test, y_test, i)\n\u001b[1;32m     <a href='vscode-notebook-cell:/Users/vitthal/Documents/Research/DataScience/MedicalResearch/mgmt/Codes/mod_code/Step%203%20-%20mgmt%20Model%20%281%29.ipynb#W5sZmlsZQ%3D%3D?line=33'>34</a>\u001b[0m \u001b[39mprint\u001b[39m(\u001b[39m'\u001b[39m\u001b[39m\\n\u001b[39;00m\u001b[39m'\u001b[39m)\n\u001b[1;32m     <a href='vscode-notebook-cell:/Users/vitthal/Documents/Research/DataScience/MedicalResearch/mgmt/Codes/mod_code/Step%203%20-%20mgmt%20Model%20%281%29.ipynb#W5sZmlsZQ%3D%3D?line=35'>36</a>\u001b[0m \u001b[39m# Function Call --> For Saving Validation Accuracy in the file\u001b[39;00m\n",
      "\u001b[1;32m/Users/vitthal/Documents/Research/DataScience/MedicalResearch/mgmt/Codes/mod_code/Step 3 - mgmt Model (1).ipynb Cell 6\u001b[0m in \u001b[0;36mModel\u001b[0;34m(img_h, img_w, X_train, y_train, X_test, y_test, count)\u001b[0m\n\u001b[1;32m     <a href='vscode-notebook-cell:/Users/vitthal/Documents/Research/DataScience/MedicalResearch/mgmt/Codes/mod_code/Step%203%20-%20mgmt%20Model%20%281%29.ipynb#W5sZmlsZQ%3D%3D?line=37'>38</a>\u001b[0m model\u001b[39m.\u001b[39moptimizer\u001b[39m.\u001b[39mlearning_rate \u001b[39m=\u001b[39m \u001b[39m0.0001\u001b[39m\n\u001b[1;32m     <a href='vscode-notebook-cell:/Users/vitthal/Documents/Research/DataScience/MedicalResearch/mgmt/Codes/mod_code/Step%203%20-%20mgmt%20Model%20%281%29.ipynb#W5sZmlsZQ%3D%3D?line=39'>40</a>\u001b[0m \u001b[39m# Training the model & storing its detail in the variable h\u001b[39;00m\n\u001b[0;32m---> <a href='vscode-notebook-cell:/Users/vitthal/Documents/Research/DataScience/MedicalResearch/mgmt/Codes/mod_code/Step%203%20-%20mgmt%20Model%20%281%29.ipynb#W5sZmlsZQ%3D%3D?line=40'>41</a>\u001b[0m history \u001b[39m=\u001b[39m model\u001b[39m.\u001b[39;49mfit(X_train, to_categorical(y_train), batch_size\u001b[39m=\u001b[39;49m\u001b[39m128\u001b[39;49m, epochs\u001b[39m=\u001b[39;49m\u001b[39m50\u001b[39;49m, verbose\u001b[39m=\u001b[39;49m\u001b[39m2\u001b[39;49m,\n\u001b[1;32m     <a href='vscode-notebook-cell:/Users/vitthal/Documents/Research/DataScience/MedicalResearch/mgmt/Codes/mod_code/Step%203%20-%20mgmt%20Model%20%281%29.ipynb#W5sZmlsZQ%3D%3D?line=41'>42</a>\u001b[0m                     validation_data\u001b[39m=\u001b[39;49m(X_test, to_categorical(y_test)), shuffle\u001b[39m=\u001b[39;49m\u001b[39mTrue\u001b[39;49;00m)\n\u001b[1;32m     <a href='vscode-notebook-cell:/Users/vitthal/Documents/Research/DataScience/MedicalResearch/mgmt/Codes/mod_code/Step%203%20-%20mgmt%20Model%20%281%29.ipynb#W5sZmlsZQ%3D%3D?line=43'>44</a>\u001b[0m \u001b[39m# Evaluating performance of the Model\u001b[39;00m\n\u001b[1;32m     <a href='vscode-notebook-cell:/Users/vitthal/Documents/Research/DataScience/MedicalResearch/mgmt/Codes/mod_code/Step%203%20-%20mgmt%20Model%20%281%29.ipynb#W5sZmlsZQ%3D%3D?line=44'>45</a>\u001b[0m test_loss, test_acc \u001b[39m=\u001b[39m model\u001b[39m.\u001b[39mevaluate(X_test, to_categorical(y_test))\n",
      "File \u001b[0;32m~/miniforge3/lib/python3.10/site-packages/keras/utils/traceback_utils.py:67\u001b[0m, in \u001b[0;36mfilter_traceback.<locals>.error_handler\u001b[0;34m(*args, **kwargs)\u001b[0m\n\u001b[1;32m     65\u001b[0m \u001b[39mexcept\u001b[39;00m \u001b[39mException\u001b[39;00m \u001b[39mas\u001b[39;00m e:  \u001b[39m# pylint: disable=broad-except\u001b[39;00m\n\u001b[1;32m     66\u001b[0m   filtered_tb \u001b[39m=\u001b[39m _process_traceback_frames(e\u001b[39m.\u001b[39m__traceback__)\n\u001b[0;32m---> 67\u001b[0m   \u001b[39mraise\u001b[39;00m e\u001b[39m.\u001b[39mwith_traceback(filtered_tb) \u001b[39mfrom\u001b[39;00m \u001b[39mNone\u001b[39m\n\u001b[1;32m     68\u001b[0m \u001b[39mfinally\u001b[39;00m:\n\u001b[1;32m     69\u001b[0m   \u001b[39mdel\u001b[39;00m filtered_tb\n",
      "File \u001b[0;32m/var/folders/cz/lrh6jgb91f3b4n8xcgb7wzr80000gn/T/__autograph_generated_fileu9vmsh74.py:15\u001b[0m, in \u001b[0;36mouter_factory.<locals>.inner_factory.<locals>.tf__train_function\u001b[0;34m(iterator)\u001b[0m\n\u001b[1;32m     13\u001b[0m \u001b[39mtry\u001b[39;00m:\n\u001b[1;32m     14\u001b[0m     do_return \u001b[39m=\u001b[39m \u001b[39mTrue\u001b[39;00m\n\u001b[0;32m---> 15\u001b[0m     retval_ \u001b[39m=\u001b[39m ag__\u001b[39m.\u001b[39mconverted_call(ag__\u001b[39m.\u001b[39mld(step_function), (ag__\u001b[39m.\u001b[39mld(\u001b[39mself\u001b[39m), ag__\u001b[39m.\u001b[39mld(iterator)), \u001b[39mNone\u001b[39;00m, fscope)\n\u001b[1;32m     16\u001b[0m \u001b[39mexcept\u001b[39;00m:\n\u001b[1;32m     17\u001b[0m     do_return \u001b[39m=\u001b[39m \u001b[39mFalse\u001b[39;00m\n",
      "\u001b[0;31mValueError\u001b[0m: in user code:\n\n    File \"/Users/vitthal/miniforge3/lib/python3.10/site-packages/keras/engine/training.py\", line 1051, in train_function  *\n        return step_function(self, iterator)\n    File \"/Users/vitthal/miniforge3/lib/python3.10/site-packages/keras/engine/training.py\", line 1040, in step_function  **\n        outputs = model.distribute_strategy.run(run_step, args=(data,))\n    File \"/Users/vitthal/miniforge3/lib/python3.10/site-packages/keras/engine/training.py\", line 1030, in run_step  **\n        outputs = model.train_step(data)\n    File \"/Users/vitthal/miniforge3/lib/python3.10/site-packages/keras/engine/training.py\", line 890, in train_step\n        loss = self.compute_loss(x, y, y_pred, sample_weight)\n    File \"/Users/vitthal/miniforge3/lib/python3.10/site-packages/keras/engine/training.py\", line 948, in compute_loss\n        return self.compiled_loss(\n    File \"/Users/vitthal/miniforge3/lib/python3.10/site-packages/keras/engine/compile_utils.py\", line 201, in __call__\n        loss_value = loss_obj(y_t, y_p, sample_weight=sw)\n    File \"/Users/vitthal/miniforge3/lib/python3.10/site-packages/keras/losses.py\", line 139, in __call__\n        losses = call_fn(y_true, y_pred)\n    File \"/Users/vitthal/miniforge3/lib/python3.10/site-packages/keras/losses.py\", line 243, in call  **\n        return ag_fn(y_true, y_pred, **self._fn_kwargs)\n    File \"/Users/vitthal/miniforge3/lib/python3.10/site-packages/keras/losses.py\", line 1787, in categorical_crossentropy\n        return backend.categorical_crossentropy(\n    File \"/Users/vitthal/miniforge3/lib/python3.10/site-packages/keras/backend.py\", line 5119, in categorical_crossentropy\n        target.shape.assert_is_compatible_with(output.shape)\n\n    ValueError: Shapes (None, 3) and (None, 2) are incompatible\n"
     ]
    }
   ],
   "source": [
    "# All Function Calls\n",
    "import os\n",
    "from tqdm import tqdm\n",
    "import pickle\n",
    "from sklearn.model_selection import train_test_split\n",
    "from random import randint\n",
    "\n",
    "PATH = path + 'Data/BRATS/mod_data/'\n",
    "Work_Dir = PATH + 'Working_Data/'\n",
    "Result_File = path + 'Outputs/Results.txt'\n",
    "workdir = os.listdir(Work_Dir)\n",
    "if '.DS_Store' in workdir:\n",
    "    workdir.remove('.DS_Store')\n",
    "    print('Removed .DS_Store')\n",
    "# Calling Functions:\n",
    "for case in tqdm(workdir):\n",
    "    Case_Path = os.path.join(Work_Dir, case)  # Joining path for \"Cases'.\n",
    "    Split_Path = Case_Path + '/train/'  # Joining \"train\" folder with \"Cases\" path.\n",
    "    print(case)\n",
    "\n",
    "    # Function Call --> Loading preprocessed data from the file & Normalize it.\n",
    "    X, y = Load_Data()\n",
    "\n",
    "    results = []\n",
    "    for i in range(Sub_Model):\n",
    "        print('\\n' + case + '_' + str(i+1))\n",
    "        \n",
    "        # Spliting data into two parts, \"Training = 70%\" and \"Testing = 30%\".\n",
    "        num = randint(0,1000)\n",
    "        X_train, X_test, y_train, y_test = train_test_split(X, y, test_size = 0.3, random_state = num)\n",
    "\n",
    "        # Function Call --> For Development, Compilation, Training & Storing of the Model\n",
    "        history, model = Model(block_h, block_w, X_train, y_train, X_test, y_test, i)\n",
    "    print('\\n')\n",
    "\n",
    "    # Function Call --> For Saving Validation Accuracy in the file\n",
    "    Saving_Test_Accuracy()\n",
    "print('Done...!!')"
   ]
  }
 ],
 "metadata": {
  "kernelspec": {
   "display_name": "Python 3.10.6 ('base')",
   "language": "python",
   "name": "python3"
  },
  "language_info": {
   "codemirror_mode": {
    "name": "ipython",
    "version": 3
   },
   "file_extension": ".py",
   "mimetype": "text/x-python",
   "name": "python",
   "nbconvert_exporter": "python",
   "pygments_lexer": "ipython3",
   "version": "3.10.6"
  },
  "vscode": {
   "interpreter": {
    "hash": "1b9603ab75704494434c4abe56997ef3bb46c839483ec68f7dba80f8b5009106"
   }
  }
 },
 "nbformat": 4,
 "nbformat_minor": 5
}
