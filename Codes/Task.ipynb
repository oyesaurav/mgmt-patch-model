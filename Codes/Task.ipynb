{
 "cells": [
  {
   "cell_type": "code",
   "execution_count": 1,
   "metadata": {
    "colab": {
     "base_uri": "https://localhost:8080/"
    },
    "id": "E9lve01qwDkv",
    "outputId": "fa603cc3-db4e-4da8-8f0e-125f75d76129"
   },
   "outputs": [
    {
     "name": "stdout",
     "output_type": "stream",
     "text": [
      "/Users/vitthal/Documents/Research/DataScience/MedicalResearch/mgmt\n"
     ]
    }
   ],
   "source": [
    "%cd /Users/vitthal/Documents/Research/DataScience/MedicalResearch/mgmt/"
   ]
  },
  {
   "cell_type": "code",
   "execution_count": 2,
   "metadata": {
    "id": "tgTQ5MzGwDkz"
   },
   "outputs": [
    {
     "name": "stderr",
     "output_type": "stream",
     "text": [
      "/Users/vitthal/miniforge3/lib/python3.10/site-packages/scipy/__init__.py:146: UserWarning: A NumPy version >=1.16.5 and <1.23.0 is required for this version of SciPy (detected version 1.23.2\n",
      "  warnings.warn(f\"A NumPy version >={np_minversion} and <{np_maxversion}\"\n",
      "2022-09-05 17:21:56.995088: I tensorflow/core/common_runtime/pluggable_device/pluggable_device_factory.cc:305] Could not identify NUMA node of platform GPU ID 0, defaulting to 0. Your kernel may not have been built with NUMA support.\n",
      "2022-09-05 17:21:56.995166: I tensorflow/core/common_runtime/pluggable_device/pluggable_device_factory.cc:271] Created TensorFlow device (/job:localhost/replica:0/task:0/device:GPU:0 with 0 MB memory) -> physical PluggableDevice (device: 0, name: METAL, pci bus id: <undefined>)\n"
     ]
    },
    {
     "name": "stdout",
     "output_type": "stream",
     "text": [
      "Metal device set to: Apple M1 Pro\n",
      "\n",
      "systemMemory: 16.00 GB\n",
      "maxCacheSize: 5.33 GB\n",
      "\n"
     ]
    }
   ],
   "source": [
    "import tensorflow as tf\n",
    "path = '/Users/vitthal/Documents/Research/DataScience/MedicalResearch/mgmt/'\n",
    "block_h = 32\n",
    "block_w = 32\n",
    "Model = tf.keras.models.load_model(path + 'Outputs/' + 'Model_Case_1_1.h5')"
   ]
  },
  {
   "cell_type": "code",
   "execution_count": 3,
   "metadata": {
    "id": "Jr_Ur4kXwDk0"
   },
   "outputs": [],
   "source": [
    "def window(p,q,layer,flair_data):\n",
    "    W = flair_data[p:p+32,q:q+32,layer]\n",
    "    return W\n",
    "\n",
    "def ML_function(Windows,layer):\n",
    "    count = 0\n",
    "    X = np.array(Windows).reshape(-1, block_h, block_w, 1)\n",
    "    predicted_classes = np.argmax(Model(X), axis=1)\n",
    "    for val in predicted_classes:\n",
    "        if (val == 1):\n",
    "            count = count + 1            \n",
    "    #print(count)\n",
    "    return count\n",
    "    \n",
    "def fun(a,b,layer,flair_data):\n",
    "    if(a<0 or a>239 or b<0 or b>239):\n",
    "        print(\"invalid point\")\n",
    "    else:\n",
    "        Windows = []\n",
    "        for x in range (a-31,a+1):\n",
    "            for y in range (b-31,b+1):\n",
    "                Windows.append(window(x,y,layer,flair_data))\n",
    "        count_1 = ML_function(Windows,layer)\n",
    "    return (count_1/1024)"
   ]
  },
  {
   "cell_type": "code",
   "execution_count": 4,
   "metadata": {
    "id": "zEtg_MizwDk2"
   },
   "outputs": [],
   "source": [
    "def Generate_Weighted_Matrix():\n",
    "    import pickle\n",
    "    taskdir= os.listdir(Task_data)\n",
    "    if '.DS_Store' in taskdir:\n",
    "        taskdir.remove('.DS_Store')\n",
    "    for Type in taskdir:\n",
    "        print(Type)\n",
    "        Type_Path = os.path.join(Task_data, Type + '/')\n",
    "        typepathdir=os.listdir(Type_Path)\n",
    "        if '.DS_Store' in typepathdir:\n",
    "            typepathdir.remove('.DS_Store')\n",
    "        for patient in typepathdir:\n",
    "            print(patient)\n",
    "            Patient_Path = os.path.join(Type_Path, patient + '/')\n",
    "            os.chdir(Patient_Path)\n",
    "            flair = nib.load('{}_flair.nii.gz'.format(patient))\n",
    "            flair_data = flair.get_fdata() #Converting nii to 3d np array\n",
    "            \n",
    "            for l in range (0, flair_data.shape[2]): #Scale data between 0 & 255\n",
    "                if (flair_data[:,:,l].max() == 0):\n",
    "                    continue\n",
    "                else:\n",
    "                    flair_data[:,:,l] *= (255.0/flair_data[:,:,l].max())\n",
    "                \n",
    "            seg_mask = nib.load('{}_seg.nii.gz'.format(patient))\n",
    "            seg_mask_data = seg_mask.get_fdata() #Converting nii to 3d np array\n",
    "\n",
    "            #Extracting only those layers from mask which have non zero values\n",
    "            z = np.any(seg_mask_data, axis=(0, 1))\n",
    "            nonzero_layers = np.nonzero(z)\n",
    "            nonzero_layer_indices = nonzero_layers[0]\n",
    "            num_layers = nonzero_layer_indices.size\n",
    "            #print(num_layers)\n",
    "            arr = np.zeros((240,240,num_layers))\n",
    "            layer_num = 0\n",
    "\n",
    "            # Select the layer with maximum pixels\n",
    "\n",
    "            \n",
    "            #Finding indices of cancer pixels using mask data\n",
    "            for layer in nonzero_layer_indices:\n",
    "                indices = np.transpose(np.nonzero(seg_mask_data[:,:,layer]))\n",
    "                #print(indices, layer)\n",
    "                for [a,b] in indices:\n",
    "                    arr[a,b,layer_num] = fun(a,b,layer,flair_data)\n",
    "                layer_num = layer_num + 1\n",
    "                \n",
    "            #print(np.count_nonzero(np.any(arr, axis=(0, 1))))\n",
    "            \n",
    "            #Calculating weighted average                \n",
    "            Weighted_matrix = np.zeros((240,240))\n",
    "            for x in range (0,240):\n",
    "                for y in range (0,240):\n",
    "                    Sum = 0\n",
    "                    num_terms = 0\n",
    "                    for slice_num in range (0,num_layers):\n",
    "                        if(arr[x][y][slice_num] != 0):\n",
    "                            Sum = Sum + arr[x][y][slice_num]\n",
    "                            num_terms = num_terms + 1\n",
    "                    if(num_terms != 0):\n",
    "                        Weighted_matrix[x][y] = Sum/num_terms\n",
    "            print(Weighted_matrix.shape)\n",
    "\n",
    "            #Storing Wiegted Average Matrix of the patient\n",
    "            pickle_out = open(Patient_Path + '/W_M_{}.pickle'.format(patient), 'wb')\n",
    "            pickle.dump(Weighted_matrix, pickle_out)\n",
    "            pickle_out.close()\n",
    "          "
   ]
  },
  {
   "cell_type": "code",
   "execution_count": 6,
   "metadata": {
    "colab": {
     "base_uri": "https://localhost:8080/"
    },
    "id": "rSoxQ9inwDk5",
    "outputId": "756e60ba-5f33-4ba8-d3c2-378d39713b22"
   },
   "outputs": [
    {
     "name": "stdout",
     "output_type": "stream",
     "text": [
      "MGMT_positive\n",
      "BraTS2021_00000\n",
      "(240, 240)\n",
      "MGMT_negative\n",
      "BraTS2021_00003\n",
      "(240, 240)\n"
     ]
    }
   ],
   "source": [
    "# All Function Calls\n",
    "import os\n",
    "import numpy as np\n",
    "import nibabel as nib\n",
    "\n",
    "PATH = path + 'Data/'\n",
    "Task_data = PATH + 'Task_data/'\n",
    "\n",
    "# Function Call --> Generate Tumor Images of Patients\n",
    "Generate_Weighted_Matrix()"
   ]
  },
  {
   "cell_type": "code",
   "execution_count": 11,
   "metadata": {
    "id": "Dgadoq6tIZF4"
   },
   "outputs": [],
   "source": [
    "import pickle\n",
    "pickle_in_negative = open(\n",
    "    '/Users/vitthal/Documents/Research/DataScience/MedicalResearch/mgmt/Data/Task_data/MGMT_negative/BraTS2021_00003/W_M_BraTS2021_00003.pickle', 'rb')\n",
    "W_M_Negative_3 = pickle.load(pickle_in_negative)"
   ]
  },
  {
   "cell_type": "code",
   "execution_count": 12,
   "metadata": {
    "colab": {
     "base_uri": "https://localhost:8080/"
    },
    "id": "PdQbmsWoJarK",
    "outputId": "68b357ae-7da9-4eb2-fc01-c12aa8aa2868"
   },
   "outputs": [
    {
     "name": "stdout",
     "output_type": "stream",
     "text": [
      "2850\n",
      "[[0. 0. 0. ... 0. 0. 0.]\n",
      " [0. 0. 0. ... 0. 0. 0.]\n",
      " [0. 0. 0. ... 0. 0. 0.]\n",
      " ...\n",
      " [0. 0. 0. ... 0. 0. 0.]\n",
      " [0. 0. 0. ... 0. 0. 0.]\n",
      " [0. 0. 0. ... 0. 0. 0.]]\n",
      "(240, 240)\n"
     ]
    }
   ],
   "source": [
    "print(np.count_nonzero(W_M_Negative_3))\n",
    "print(W_M_Negative_3)\n",
    "print(W_M_Negative_3.shape)"
   ]
  },
  {
   "cell_type": "code",
   "execution_count": 13,
   "metadata": {
    "id": "uGJE3t5oJjgU"
   },
   "outputs": [],
   "source": [
    "pickle_in_positive = open(\n",
    "    '/Users/vitthal/Documents/Research/DataScience/MedicalResearch/mgmt/Data/Task_data/MGMT_positive/BraTS2021_00000/W_M_BraTS2021_00000.pickle', 'rb')\n",
    "W_M_Positive_0 = pickle.load(pickle_in_positive)"
   ]
  },
  {
   "cell_type": "code",
   "execution_count": 14,
   "metadata": {
    "colab": {
     "base_uri": "https://localhost:8080/"
    },
    "id": "57Zn__90MSPe",
    "outputId": "bb054658-7eb5-4f23-c1af-6a56eb240435"
   },
   "outputs": [
    {
     "name": "stdout",
     "output_type": "stream",
     "text": [
      "2347\n",
      "[[0. 0. 0. ... 0. 0. 0.]\n",
      " [0. 0. 0. ... 0. 0. 0.]\n",
      " [0. 0. 0. ... 0. 0. 0.]\n",
      " ...\n",
      " [0. 0. 0. ... 0. 0. 0.]\n",
      " [0. 0. 0. ... 0. 0. 0.]\n",
      " [0. 0. 0. ... 0. 0. 0.]]\n",
      "(240, 240)\n"
     ]
    }
   ],
   "source": [
    "print(np.count_nonzero(W_M_Positive_0))\n",
    "print(W_M_Positive_0)\n",
    "print(W_M_Positive_0.shape)"
   ]
  },
  {
   "cell_type": "code",
   "execution_count": 15,
   "metadata": {
    "colab": {
     "base_uri": "https://localhost:8080/",
     "height": 884
    },
    "id": "f6txEySyV0b-",
    "outputId": "9dda015c-5bac-487b-8340-f276297185d0"
   },
   "outputs": [
    {
     "data": {
      "text/plain": [
       "<matplotlib.lines.Line2D at 0x2c7317a60>"
      ]
     },
     "execution_count": 15,
     "metadata": {},
     "output_type": "execute_result"
    },
    {
     "data": {
      "image/png": "[encoded data removed]",
      "text/plain": [
       "<Figure size 1080x1080 with 1 Axes>"
      ]
     },
     "metadata": {
      "needs_background": "light"
     },
     "output_type": "display_data"
    }
   ],
   "source": [
    "import matplotlib.pyplot as plt\n",
    "plt.figure(figsize=(15, 15))\n",
    "plt.spy(W_M_Negative_3, markersize=1)"
   ]
  },
  {
   "cell_type": "code",
   "execution_count": 16,
   "metadata": {
    "colab": {
     "base_uri": "https://localhost:8080/",
     "height": 884
    },
    "id": "w_gA5x2IZZI0",
    "outputId": "c782dcb5-aec4-4808-ef0f-c60fe103e1b1"
   },
   "outputs": [
    {
     "data": {
      "text/plain": [
       "<matplotlib.lines.Line2D at 0x2c7403b20>"
      ]
     },
     "execution_count": 16,
     "metadata": {},
     "output_type": "execute_result"
    },
    {
     "data": {
      "image/png": "[encoded data removed]",
      "text/plain": [
       "<Figure size 1080x1080 with 1 Axes>"
      ]
     },
     "metadata": {
      "needs_background": "light"
     },
     "output_type": "display_data"
    }
   ],
   "source": [
    "plt.figure(figsize=(15, 15))\n",
    "plt.spy(W_M_Positive_0, markersize=1)"
   ]
  }
 ],
 "metadata": {
  "accelerator": "GPU",
  "colab": {
   "collapsed_sections": [],
   "name": "Task.ipynb",
   "provenance": []
  },
  "interpreter": {
   "hash": "1b9603ab75704494434c4abe56997ef3bb46c839483ec68f7dba80f8b5009106"
  },
  "kernelspec": {
   "display_name": "Python 3.10.6 ('base')",
   "language": "python",
   "name": "python3"
  },
  "language_info": {
   "codemirror_mode": {
    "name": "ipython",
    "version": 3
   },
   "file_extension": ".py",
   "mimetype": "text/x-python",
   "name": "python",
   "nbconvert_exporter": "python",
   "pygments_lexer": "ipython3",
   "version": "3.10.6"
  }
 },
 "nbformat": 4,
 "nbformat_minor": 1
}
