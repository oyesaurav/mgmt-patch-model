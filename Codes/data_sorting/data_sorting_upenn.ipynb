{
 "cells": [
  {
   "cell_type": "code",
   "execution_count": 1,
   "metadata": {},
   "outputs": [],
   "source": [
    "import pandas as pd\n",
    "import numpy as np\n",
    "import shutil as sh\n",
    "from tqdm import tqdm"
   ]
  },
  {
   "cell_type": "code",
   "execution_count": 2,
   "metadata": {},
   "outputs": [],
   "source": [
    "import os\n",
    "import sys\n",
    "sys.path.append('..')\n",
    "import config\n",
    "# path to UPENN Dataset\n",
    "path = config.MAIN_DIR\n",
    "path_modalities=config.DATASET_PATH\n",
    "path_structural_images=path_modalities+'images_structural/'\n",
    "path_automated_seg=path_modalities+'automated_segm/'\n",
    "path_seg=path_modalities+'images_segm/'"
   ]
  },
  {
   "cell_type": "code",
   "execution_count": 3,
   "metadata": {},
   "outputs": [
    {
     "ename": "FileNotFoundError",
     "evalue": "[Errno 2] No such file or directory: 'E:/ML projects/gliobastoma-mgmt/Codes/Arbitrary/UPENN-GBM_data_availability.csv'",
     "output_type": "error",
     "traceback": [
      "\u001b[1;31m---------------------------------------------------------------------------\u001b[0m",
      "\u001b[1;31mFileNotFoundError\u001b[0m                         Traceback (most recent call last)",
      "Cell \u001b[1;32mIn[3], line 3\u001b[0m\n\u001b[0;32m      1\u001b[0m \u001b[39m# DF1 stores the ids of patients which have mgmt, auto segm or segm, sutvival and struct_image\u001b[39;00m\n\u001b[1;32m----> 3\u001b[0m df \u001b[39m=\u001b[39m pd\u001b[39m.\u001b[39;49mread_csv(\n\u001b[0;32m      4\u001b[0m     \u001b[39m'\u001b[39;49m\u001b[39mE:/ML projects/gliobastoma-mgmt/Codes/Arbitrary/UPENN-GBM_data_availability.csv\u001b[39;49m\u001b[39m'\u001b[39;49m)\n\u001b[0;32m      5\u001b[0m df\u001b[39m.\u001b[39mcolumns \u001b[39m=\u001b[39m [c\u001b[39m.\u001b[39mreplace(\u001b[39m'\u001b[39m\u001b[39m \u001b[39m\u001b[39m'\u001b[39m, \u001b[39m'\u001b[39m\u001b[39m_\u001b[39m\u001b[39m'\u001b[39m) \u001b[39mfor\u001b[39;00m c \u001b[39min\u001b[39;00m df\u001b[39m.\u001b[39mcolumns]\n\u001b[0;32m      7\u001b[0m df1 \u001b[39m=\u001b[39m pd\u001b[39m.\u001b[39mDataFrame({\n\u001b[0;32m      8\u001b[0m     \u001b[39m\"\u001b[39m\u001b[39mid\u001b[39m\u001b[39m\"\u001b[39m: [],\n\u001b[0;32m      9\u001b[0m     \u001b[39m\"\u001b[39m\u001b[39mmgmt\u001b[39m\u001b[39m\"\u001b[39m: [],\n\u001b[0;32m     10\u001b[0m })\n",
      "File \u001b[1;32mc:\\Users\\Suraj\\.conda\\envs\\tfgpu\\lib\\site-packages\\pandas\\io\\parsers\\readers.py:912\u001b[0m, in \u001b[0;36mread_csv\u001b[1;34m(filepath_or_buffer, sep, delimiter, header, names, index_col, usecols, dtype, engine, converters, true_values, false_values, skipinitialspace, skiprows, skipfooter, nrows, na_values, keep_default_na, na_filter, verbose, skip_blank_lines, parse_dates, infer_datetime_format, keep_date_col, date_parser, date_format, dayfirst, cache_dates, iterator, chunksize, compression, thousands, decimal, lineterminator, quotechar, quoting, doublequote, escapechar, comment, encoding, encoding_errors, dialect, on_bad_lines, delim_whitespace, low_memory, memory_map, float_precision, storage_options, dtype_backend)\u001b[0m\n\u001b[0;32m    899\u001b[0m kwds_defaults \u001b[39m=\u001b[39m _refine_defaults_read(\n\u001b[0;32m    900\u001b[0m     dialect,\n\u001b[0;32m    901\u001b[0m     delimiter,\n\u001b[1;32m   (...)\u001b[0m\n\u001b[0;32m    908\u001b[0m     dtype_backend\u001b[39m=\u001b[39mdtype_backend,\n\u001b[0;32m    909\u001b[0m )\n\u001b[0;32m    910\u001b[0m kwds\u001b[39m.\u001b[39mupdate(kwds_defaults)\n\u001b[1;32m--> 912\u001b[0m \u001b[39mreturn\u001b[39;00m _read(filepath_or_buffer, kwds)\n",
      "File \u001b[1;32mc:\\Users\\Suraj\\.conda\\envs\\tfgpu\\lib\\site-packages\\pandas\\io\\parsers\\readers.py:577\u001b[0m, in \u001b[0;36m_read\u001b[1;34m(filepath_or_buffer, kwds)\u001b[0m\n\u001b[0;32m    574\u001b[0m _validate_names(kwds\u001b[39m.\u001b[39mget(\u001b[39m\"\u001b[39m\u001b[39mnames\u001b[39m\u001b[39m\"\u001b[39m, \u001b[39mNone\u001b[39;00m))\n\u001b[0;32m    576\u001b[0m \u001b[39m# Create the parser.\u001b[39;00m\n\u001b[1;32m--> 577\u001b[0m parser \u001b[39m=\u001b[39m TextFileReader(filepath_or_buffer, \u001b[39m*\u001b[39m\u001b[39m*\u001b[39mkwds)\n\u001b[0;32m    579\u001b[0m \u001b[39mif\u001b[39;00m chunksize \u001b[39mor\u001b[39;00m iterator:\n\u001b[0;32m    580\u001b[0m     \u001b[39mreturn\u001b[39;00m parser\n",
      "File \u001b[1;32mc:\\Users\\Suraj\\.conda\\envs\\tfgpu\\lib\\site-packages\\pandas\\io\\parsers\\readers.py:1407\u001b[0m, in \u001b[0;36mTextFileReader.__init__\u001b[1;34m(self, f, engine, **kwds)\u001b[0m\n\u001b[0;32m   1404\u001b[0m     \u001b[39mself\u001b[39m\u001b[39m.\u001b[39moptions[\u001b[39m\"\u001b[39m\u001b[39mhas_index_names\u001b[39m\u001b[39m\"\u001b[39m] \u001b[39m=\u001b[39m kwds[\u001b[39m\"\u001b[39m\u001b[39mhas_index_names\u001b[39m\u001b[39m\"\u001b[39m]\n\u001b[0;32m   1406\u001b[0m \u001b[39mself\u001b[39m\u001b[39m.\u001b[39mhandles: IOHandles \u001b[39m|\u001b[39m \u001b[39mNone\u001b[39;00m \u001b[39m=\u001b[39m \u001b[39mNone\u001b[39;00m\n\u001b[1;32m-> 1407\u001b[0m \u001b[39mself\u001b[39m\u001b[39m.\u001b[39m_engine \u001b[39m=\u001b[39m \u001b[39mself\u001b[39;49m\u001b[39m.\u001b[39;49m_make_engine(f, \u001b[39mself\u001b[39;49m\u001b[39m.\u001b[39;49mengine)\n",
      "File \u001b[1;32mc:\\Users\\Suraj\\.conda\\envs\\tfgpu\\lib\\site-packages\\pandas\\io\\parsers\\readers.py:1661\u001b[0m, in \u001b[0;36mTextFileReader._make_engine\u001b[1;34m(self, f, engine)\u001b[0m\n\u001b[0;32m   1659\u001b[0m     \u001b[39mif\u001b[39;00m \u001b[39m\"\u001b[39m\u001b[39mb\u001b[39m\u001b[39m\"\u001b[39m \u001b[39mnot\u001b[39;00m \u001b[39min\u001b[39;00m mode:\n\u001b[0;32m   1660\u001b[0m         mode \u001b[39m+\u001b[39m\u001b[39m=\u001b[39m \u001b[39m\"\u001b[39m\u001b[39mb\u001b[39m\u001b[39m\"\u001b[39m\n\u001b[1;32m-> 1661\u001b[0m \u001b[39mself\u001b[39m\u001b[39m.\u001b[39mhandles \u001b[39m=\u001b[39m get_handle(\n\u001b[0;32m   1662\u001b[0m     f,\n\u001b[0;32m   1663\u001b[0m     mode,\n\u001b[0;32m   1664\u001b[0m     encoding\u001b[39m=\u001b[39;49m\u001b[39mself\u001b[39;49m\u001b[39m.\u001b[39;49moptions\u001b[39m.\u001b[39;49mget(\u001b[39m\"\u001b[39;49m\u001b[39mencoding\u001b[39;49m\u001b[39m\"\u001b[39;49m, \u001b[39mNone\u001b[39;49;00m),\n\u001b[0;32m   1665\u001b[0m     compression\u001b[39m=\u001b[39;49m\u001b[39mself\u001b[39;49m\u001b[39m.\u001b[39;49moptions\u001b[39m.\u001b[39;49mget(\u001b[39m\"\u001b[39;49m\u001b[39mcompression\u001b[39;49m\u001b[39m\"\u001b[39;49m, \u001b[39mNone\u001b[39;49;00m),\n\u001b[0;32m   1666\u001b[0m     memory_map\u001b[39m=\u001b[39;49m\u001b[39mself\u001b[39;49m\u001b[39m.\u001b[39;49moptions\u001b[39m.\u001b[39;49mget(\u001b[39m\"\u001b[39;49m\u001b[39mmemory_map\u001b[39;49m\u001b[39m\"\u001b[39;49m, \u001b[39mFalse\u001b[39;49;00m),\n\u001b[0;32m   1667\u001b[0m     is_text\u001b[39m=\u001b[39;49mis_text,\n\u001b[0;32m   1668\u001b[0m     errors\u001b[39m=\u001b[39;49m\u001b[39mself\u001b[39;49m\u001b[39m.\u001b[39;49moptions\u001b[39m.\u001b[39;49mget(\u001b[39m\"\u001b[39;49m\u001b[39mencoding_errors\u001b[39;49m\u001b[39m\"\u001b[39;49m, \u001b[39m\"\u001b[39;49m\u001b[39mstrict\u001b[39;49m\u001b[39m\"\u001b[39;49m),\n\u001b[0;32m   1669\u001b[0m     storage_options\u001b[39m=\u001b[39;49m\u001b[39mself\u001b[39;49m\u001b[39m.\u001b[39;49moptions\u001b[39m.\u001b[39;49mget(\u001b[39m\"\u001b[39;49m\u001b[39mstorage_options\u001b[39;49m\u001b[39m\"\u001b[39;49m, \u001b[39mNone\u001b[39;49;00m),\n\u001b[0;32m   1670\u001b[0m )\n\u001b[0;32m   1671\u001b[0m \u001b[39massert\u001b[39;00m \u001b[39mself\u001b[39m\u001b[39m.\u001b[39mhandles \u001b[39mis\u001b[39;00m \u001b[39mnot\u001b[39;00m \u001b[39mNone\u001b[39;00m\n\u001b[0;32m   1672\u001b[0m f \u001b[39m=\u001b[39m \u001b[39mself\u001b[39m\u001b[39m.\u001b[39mhandles\u001b[39m.\u001b[39mhandle\n",
      "File \u001b[1;32mc:\\Users\\Suraj\\.conda\\envs\\tfgpu\\lib\\site-packages\\pandas\\io\\common.py:859\u001b[0m, in \u001b[0;36mget_handle\u001b[1;34m(path_or_buf, mode, encoding, compression, memory_map, is_text, errors, storage_options)\u001b[0m\n\u001b[0;32m    854\u001b[0m \u001b[39melif\u001b[39;00m \u001b[39misinstance\u001b[39m(handle, \u001b[39mstr\u001b[39m):\n\u001b[0;32m    855\u001b[0m     \u001b[39m# Check whether the filename is to be opened in binary mode.\u001b[39;00m\n\u001b[0;32m    856\u001b[0m     \u001b[39m# Binary mode does not support 'encoding' and 'newline'.\u001b[39;00m\n\u001b[0;32m    857\u001b[0m     \u001b[39mif\u001b[39;00m ioargs\u001b[39m.\u001b[39mencoding \u001b[39mand\u001b[39;00m \u001b[39m\"\u001b[39m\u001b[39mb\u001b[39m\u001b[39m\"\u001b[39m \u001b[39mnot\u001b[39;00m \u001b[39min\u001b[39;00m ioargs\u001b[39m.\u001b[39mmode:\n\u001b[0;32m    858\u001b[0m         \u001b[39m# Encoding\u001b[39;00m\n\u001b[1;32m--> 859\u001b[0m         handle \u001b[39m=\u001b[39m \u001b[39mopen\u001b[39;49m(\n\u001b[0;32m    860\u001b[0m             handle,\n\u001b[0;32m    861\u001b[0m             ioargs\u001b[39m.\u001b[39;49mmode,\n\u001b[0;32m    862\u001b[0m             encoding\u001b[39m=\u001b[39;49mioargs\u001b[39m.\u001b[39;49mencoding,\n\u001b[0;32m    863\u001b[0m             errors\u001b[39m=\u001b[39;49merrors,\n\u001b[0;32m    864\u001b[0m             newline\u001b[39m=\u001b[39;49m\u001b[39m\"\u001b[39;49m\u001b[39m\"\u001b[39;49m,\n\u001b[0;32m    865\u001b[0m         )\n\u001b[0;32m    866\u001b[0m     \u001b[39melse\u001b[39;00m:\n\u001b[0;32m    867\u001b[0m         \u001b[39m# Binary mode\u001b[39;00m\n\u001b[0;32m    868\u001b[0m         handle \u001b[39m=\u001b[39m \u001b[39mopen\u001b[39m(handle, ioargs\u001b[39m.\u001b[39mmode)\n",
      "\u001b[1;31mFileNotFoundError\u001b[0m: [Errno 2] No such file or directory: 'E:/ML projects/gliobastoma-mgmt/Codes/Arbitrary/UPENN-GBM_data_availability.csv'"
     ]
    }
   ],
   "source": [
    "# DF1 stores the ids of patients which have mgmt, auto segm or segm, sutvival and struct_image\n",
    "\n",
    "df = pd.read_csv(\n",
    "    'E:/ML projects/gliobastoma-mgmt/Codes/Arbitrary/UPENN-GBM_data_availability.csv')\n",
    "df.columns = [c.replace(' ', '_') for c in df.columns]\n",
    "\n",
    "df1 = pd.DataFrame({\n",
    "    \"id\": [],\n",
    "    \"mgmt\": [],\n",
    "})\n",
    "\n",
    "for i in tqdm(range(len(df))):\n",
    "    if df.MGMT[i] == \"available\" and (df.Automatic_Tumor_Segmentation[i] == \"available\" or df.Corrected_Tumor_Segmentation[i]== \"available\") and df.Structural_imaging[i] == \"available\" and df.Overall_Survival[i] ==\"available\" :\n",
    "        df2 = pd.DataFrame({'id': [df.ID[i]],\n",
    "                           'mgmt': [\"available\"]},\n",
    "                           )\n",
    "        df1 = df1.append(df2)"
   ]
  },
  {
   "cell_type": "code",
   "execution_count": null,
   "metadata": {},
   "outputs": [],
   "source": [
    "# DF4 stores the details of patients whose id is in DF1 i.e has every details available\n",
    "\n",
    "df3=pd.read_csv('E:/ML projects/gliobastoma-mgmt/Codes/Arbitrary/UPENN-GBM_clinical_info_v1.1.csv')\n",
    "\n",
    "df4=pd.DataFrame({\"id\": [], \"mgmt\":[], \"age\":[], \"gender\":[], \"survival\":[]})\n",
    "\n",
    "from tqdm import tqdm\n",
    "arr=df1.id.to_numpy()\n",
    "print(\"Total patients: \",len(arr))\n",
    "count=0\n",
    "\n",
    "for i in tqdm(range(len(df3))):\n",
    "   \n",
    "    if df3.ID[i] in arr:\n",
    "        \n",
    "        l=\"0\"\n",
    "        \n",
    "        if df3.MGMT[i] == 'Unmethylated':\n",
    "            pass\n",
    "        else:\n",
    "            l=\"1\"\n",
    "        # print(df3.MGMT[i])\n",
    "        df5 = pd.DataFrame({'id': [df3.ID[i]],\n",
    "                           'mgmt': [l],\n",
    "                           'age': [df3.Age_at_scan_years[i]],\n",
    "                           'gender': [df3.Gender[i]],\n",
    "                           \"survival\": [df3.Survival_from_surgery_days[i]]\n",
    "                            })\n",
    "        df4= df4.append(df5)\n",
    "\n",
    "df4.to_csv('upenn_data.csv')"
   ]
  },
  {
   "cell_type": "code",
   "execution_count": 4,
   "metadata": {},
   "outputs": [
    {
     "name": "stderr",
     "output_type": "stream",
     "text": [
      "100%|██████████| 213/213 [00:08<00:00, 26.11it/s]\n"
     ]
    }
   ],
   "source": [
    "# Prepare the Data directory for file structing Step 1\n",
    "\n",
    "df6=pd.read_csv(path+'Codes/upenn_data.csv')\n",
    "\n",
    "m_neg = path + 'Data/MGMT_negative/'\n",
    "m_pos = path + 'Data/MGMT_positive/'\n",
    "\n",
    "pos = 0\n",
    "neg = 0\n",
    "for i in tqdm(range(len(df6))):\n",
    "    path1 = path_structural_images+df6.id[i]\n",
    "    path_segm = path_seg+df6.id[i]+'_segm.nii.gz'\n",
    "    path_auto_segm = path_automated_seg+df6.id[i]+'_automated_approx_segm.nii.gz'\n",
    "    rename_segm = df6.id[i]+'_seg.nii.gz'\n",
    "    \n",
    "    if df6.patches64[i] == False :  # patch 64 check\n",
    "        if df6.mgmt[i]==0 and neg< config.PATIENTS/5: # only desired negatives as in config.py\n",
    "            path2= m_neg+df6.id[i]+'/'  # create folder for each patient id\n",
    "            seg_path = path2+rename_segm    # rename the segm path for both automated and segm\n",
    "            sh.copytree(path1,path2)    # copy contents of structural images to this patient folder\n",
    "            if(os.path.exists(path_segm)):\n",
    "                sh.copy(path_segm,seg_path)     # copy the segm file\n",
    "            elif(os.path.exists(path_auto_segm)):\n",
    "                sh.copy(path_auto_segm,seg_path)    # copy the auto_segm file\n",
    "            neg+=1\n",
    "        elif df6.mgmt[i]==1 and pos< config.PATIENTS/5: # only desired positives\n",
    "            path2=m_pos+df6.id[i]+'/'\n",
    "            seg_path = path2+rename_segm\n",
    "            sh.copytree(path1,path2)\n",
    "            if(os.path.exists(path_segm)):\n",
    "                sh.copy(path_segm,seg_path)\n",
    "            elif(os.path.exists(path_auto_segm)):\n",
    "                sh.copy(path_auto_segm,seg_path)\n",
    "            else:\n",
    "                print(\"No segmentation found for \",df6.id[i])\n",
    "            pos+=1"
   ]
  },
  {
   "cell_type": "code",
   "execution_count": 3,
   "metadata": {},
   "outputs": [
    {
     "name": "stderr",
     "output_type": "stream",
     "text": [
      "100%|██████████| 213/213 [00:00<00:00, 255.27it/s]\n"
     ]
    }
   ],
   "source": [
    "#for test folder\n",
    "\n",
    "df6=pd.read_csv(path+'Codes/upenn_data.csv')\n",
    "\n",
    "m_neg = path + 'Test/MGMT_negative/'\n",
    "m_pos = path + 'Test/MGMT_positive/'\n",
    "\n",
    "pos = 0\n",
    "neg = 0\n",
    "for i in tqdm(range(len(df6)-1,-1,-1)):\n",
    "    path1 = path_structural_images+df6.id[i]\n",
    "    path_segm = path_seg+df6.id[i]+'_segm.nii.gz'\n",
    "    path_auto_segm = path_automated_seg+df6.id[i]+'_automated_approx_segm.nii.gz'\n",
    "    rename_segm = df6.id[i]+'_seg.nii.gz'\n",
    "\n",
    "    if df6.mgmt[i]==0 and neg<2: # only 5 negatives\n",
    "        path2= m_neg+df6.id[i]+'/'\n",
    "        seg_path = path2+rename_segm\n",
    "        sh.copytree(path1,path2)\n",
    "        if(os.path.exists(path_segm)):\n",
    "            sh.copy(path_segm,seg_path)\n",
    "        elif(os.path.exists(path_auto_segm)):\n",
    "            sh.copy(path_auto_segm,seg_path)\n",
    "        neg+=1\n",
    "    elif df6.mgmt[i]==1 and pos<2: # only 5 positives\n",
    "        path2=m_pos+df6.id[i]+'/'\n",
    "        seg_path = path2+rename_segm\n",
    "        sh.copytree(path1,path2)\n",
    "        if(os.path.exists(path_segm)):\n",
    "            sh.copy(path_segm,seg_path)\n",
    "        elif(os.path.exists(path_auto_segm)):\n",
    "            sh.copy(path_auto_segm,seg_path)\n",
    "        else:\n",
    "            print(\"No segmentation found for \",df6.id[i])\n",
    "        pos+=1"
   ]
  },
  {
   "cell_type": "code",
   "execution_count": 4,
   "metadata": {},
   "outputs": [
    {
     "name": "stderr",
     "output_type": "stream",
     "text": [
      "100%|██████████| 213/213 [00:00<00:00, 1847.74it/s]\n"
     ]
    }
   ],
   "source": [
    "#for homogeniety\n",
    "\n",
    "df6=pd.read_csv(path+'Codes/upenn_data.csv')\n",
    "task_path = path + 'Data/Task_data/'\n",
    "m_neg = task_path + 'MGMT_negative/'\n",
    "m_pos = task_path + 'MGMT_positive/'\n",
    "\n",
    "pos = 0\n",
    "neg = 0\n",
    "for i in tqdm(range(len(df6)-1,-1,-1)):\n",
    "    path1 = path_structural_images+df6.id[i]\n",
    "    path_segm = path_seg+df6.id[i]+'_segm.nii.gz'\n",
    "    path_auto_segm = path_automated_seg+df6.id[i]+'_automated_approx_segm.nii.gz'\n",
    "    rename_segm = df6.id[i]+'_seg.nii.gz'\n",
    "\n",
    "    if df6.mgmt[i]==0 and neg<2: # only 5 negatives\n",
    "        path2= m_neg+df6.id[i]+'/'\n",
    "        seg_path = path2+rename_segm\n",
    "        sh.copytree(path1,path2)\n",
    "        if(os.path.exists(path_segm)):\n",
    "            sh.copy(path_segm,seg_path)\n",
    "        elif(os.path.exists(path_auto_segm)):\n",
    "            sh.copy(path_auto_segm,seg_path)\n",
    "        neg+=1\n",
    "    elif df6.mgmt[i]==1 and pos<2: # only 5 positives\n",
    "        path2=m_pos+df6.id[i]+'/'\n",
    "        seg_path = path2+rename_segm\n",
    "        sh.copytree(path1,path2)\n",
    "        if(os.path.exists(path_segm)):\n",
    "            sh.copy(path_segm,seg_path)\n",
    "        elif(os.path.exists(path_auto_segm)):\n",
    "            sh.copy(path_auto_segm,seg_path)\n",
    "        else:\n",
    "            print(\"No segmentation found for \",df6.id[i])\n",
    "        pos+=1"
   ]
  }
 ],
 "metadata": {
  "kernelspec": {
   "display_name": "base",
   "language": "python",
   "name": "python3"
  },
  "language_info": {
   "codemirror_mode": {
    "name": "ipython",
    "version": 3
   },
   "file_extension": ".py",
   "mimetype": "text/x-python",
   "name": "python",
   "nbconvert_exporter": "python",
   "pygments_lexer": "ipython3",
   "version": "3.8.5"
  },
  "orig_nbformat": 4
 },
 "nbformat": 4,
 "nbformat_minor": 2
}
