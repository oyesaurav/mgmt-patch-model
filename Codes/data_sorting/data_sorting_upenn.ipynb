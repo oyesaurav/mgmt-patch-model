{
 "cells": [
  {
   "cell_type": "code",
   "execution_count": 2,
   "metadata": {},
   "outputs": [],
   "source": [
    "import pandas as pd\n",
    "import numpy as np\n",
    "import shutil as sh\n",
    "from tqdm import tqdm"
   ]
  },
  {
   "cell_type": "code",
   "execution_count": 3,
   "metadata": {},
   "outputs": [],
   "source": [
    "import os\n",
    "# path to UPENN Dataset\n",
    "path = 'E:/ML projects/gliobastoma-mgmt/'\n",
    "path_modalities=path+ 'NifTI-files/'\n",
    "path_structural_images=path_modalities+'images_structural/'\n",
    "path_automated_seg=path_modalities+'automated_segm/'\n",
    "path_seg=path_modalities+'images_segm/'"
   ]
  },
  {
   "cell_type": "code",
   "execution_count": null,
   "metadata": {},
   "outputs": [],
   "source": [
    "df = pd.read_csv(\n",
    "    'E:/ML projects/gliobastoma-mgmt/Codes/Arbitrary/UPENN-GBM_data_availability.csv')\n",
    "df.columns = [c.replace(' ', '_') for c in df.columns]\n",
    "\n",
    "df1 = pd.DataFrame({\n",
    "    \"id\": [],\n",
    "    \"mgmt\": [],\n",
    "})\n",
    "\n",
    "for i in tqdm(range(len(df))):\n",
    "    if df.MGMT[i] == \"available\" and (df.Automatic_Tumor_Segmentation[i] == \"available\" or df.Corrected_Tumor_Segmentation[i]== \"available\") and df.Structural_imaging[i] == \"available\" and df.Overall_Survival[i] ==\"available\" :\n",
    "        df2 = pd.DataFrame({'id': [df.ID[i]],\n",
    "                           'mgmt': [\"available\"]},\n",
    "                           )\n",
    "        df1 = df1.append(df2)"
   ]
  },
  {
   "cell_type": "code",
   "execution_count": null,
   "metadata": {},
   "outputs": [],
   "source": [
    "df3=pd.read_csv('E:/ML projects/gliobastoma-mgmt/Codes/Arbitrary/UPENN-GBM_clinical_info_v1.1.csv')\n",
    "\n",
    "df4=pd.DataFrame({\"id\": [], \"mgmt\":[], \"age\":[], \"gender\":[], \"survival\":[]})\n",
    "\n",
    "from tqdm import tqdm\n",
    "arr=df1.id.to_numpy()\n",
    "print(\"Total patients: \",len(arr))\n",
    "count=0\n",
    "\n",
    "for i in tqdm(range(len(df3))):\n",
    "   \n",
    "    if df3.ID[i] in arr:\n",
    "        \n",
    "        l=\"0\"\n",
    "        \n",
    "        if df3.MGMT[i] == 'Unmethylated':\n",
    "            pass\n",
    "        else:\n",
    "            l=\"1\"\n",
    "        # print(df3.MGMT[i])\n",
    "        df5 = pd.DataFrame({'id': [df3.ID[i]],\n",
    "                           'mgmt': [l],\n",
    "                           'age': [df3.Age_at_scan_years[i]],\n",
    "                           'gender': [df3.Gender[i]],\n",
    "                           \"survival\": [df3.Survival_from_surgery_days[i]]\n",
    "                            })\n",
    "        df4= df4.append(df5)\n",
    "\n",
    "df4.to_csv('upenn_data.csv')"
   ]
  },
  {
   "cell_type": "code",
   "execution_count": 4,
   "metadata": {},
   "outputs": [
    {
     "name": "stderr",
     "output_type": "stream",
     "text": [
      "100%|██████████| 213/213 [00:02<00:00, 73.01it/s]\n"
     ]
    }
   ],
   "source": [
    "df6=pd.read_csv(path+'Codes/upenn_data.csv')\n",
    "\n",
    "m_neg = path + 'Data/MGMT_negative/'\n",
    "m_pos = path + 'Data/MGMT_positive/'\n",
    "\n",
    "pos = 0\n",
    "neg = 0\n",
    "for i in tqdm(range(len(df6))):\n",
    "    path1 = path_structural_images+df6.id[i]\n",
    "    path_segm = path_seg+df6.id[i]+'_segm.nii.gz'\n",
    "    path_auto_segm = path_automated_seg+df6.id[i]+'_automated_approx_segm.nii.gz'\n",
    "    rename_segm = df6.id[i]+'_seg.nii.gz'\n",
    "\n",
    "    if df6.mgmt[i]==0 and neg<3: # only 5 negatives\n",
    "        path2= m_neg+df6.id[i]+'/'\n",
    "        seg_path = path2+rename_segm\n",
    "        sh.copytree(path1,path2)\n",
    "        if(os.path.exists(path_segm)):\n",
    "            sh.copy(path_segm,seg_path)\n",
    "        elif(os.path.exists(path_auto_segm)):\n",
    "            sh.copy(path_auto_segm,seg_path)\n",
    "        neg+=1\n",
    "    elif df6.mgmt[i]==1 and pos<3: # only 5 positives\n",
    "        path2=m_pos+df6.id[i]+'/'\n",
    "        seg_path = path2+rename_segm\n",
    "        sh.copytree(path1,path2)\n",
    "        if(os.path.exists(path_segm)):\n",
    "            sh.copy(path_segm,seg_path)\n",
    "        elif(os.path.exists(path_auto_segm)):\n",
    "            sh.copy(path_auto_segm,seg_path)\n",
    "        else:\n",
    "            print(\"No segmentation found for \",df6.id[i])\n",
    "        pos+=1"
   ]
  }
 ],
 "metadata": {
  "kernelspec": {
   "display_name": "base",
   "language": "python",
   "name": "python3"
  },
  "language_info": {
   "codemirror_mode": {
    "name": "ipython",
    "version": 3
   },
   "file_extension": ".py",
   "mimetype": "text/x-python",
   "name": "python",
   "nbconvert_exporter": "python",
   "pygments_lexer": "ipython3",
   "version": "3.8.5"
  },
  "orig_nbformat": 4
 },
 "nbformat": 4,
 "nbformat_minor": 2
}
