{
 "cells": [
  {
   "cell_type": "code",
   "execution_count": 2,
   "id": "5e1707b4",
   "metadata": {},
   "outputs": [],
   "source": [
    "import numpy as np\n",
    "import nibabel as nib\n",
    "# import itk\n",
    "# import itkwidgets\n",
    "from ipywidgets import interact, interactive, IntSlider, ToggleButtons\n",
    "import matplotlib.pyplot as plt\n",
    "%matplotlib inline\n",
    "import seaborn as sns\n",
    "sns.set_style('darkgrid')"
   ]
  },
  {
   "cell_type": "code",
   "execution_count": 6,
   "id": "4e5aa044",
   "metadata": {},
   "outputs": [
    {
     "name": "stdout",
     "output_type": "stream",
     "text": [
      "/Users/vitthal/Documents/Research/DataScience/MedicalResearch/mgmt/Data/Original_Data_Backup/MGMT_negative\n"
     ]
    }
   ],
   "source": [
    "%cd /Users/vitthal/Documents/Research/DataScience/MedicalResearch/mgmt/Data/Original_Data_Backup/MGMT_negative/"
   ]
  },
  {
   "cell_type": "code",
   "execution_count": 11,
   "id": "4a7c88ed",
   "metadata": {},
   "outputs": [],
   "source": [
    "image_path_t1 = '/Users/vitthal/Documents/Research/DataScience/MedicalResearch/mgmt/Data/Original_Data_Backup/MGMT_negative/BraTS2021_00009/BraTS2021_00009_t1.nii.gz'\n",
    "image_path_t2 = '/Users/vitthal/Documents/Research/DataScience/MedicalResearch/mgmt/Data/Original_Data_Backup/MGMT_negative/BraTS2021_00009/BraTS2021_00009_t2.nii.gz'\n",
    "image_path_t1ce = '/Users/vitthal/Documents/Research/DataScience/MedicalResearch/mgmt/Data/Original_Data_Backup/MGMT_negative/BraTS2021_00009/BraTS2021_00009_t1ce.nii.gz'\n",
    "image_path_flair = '/Users/vitthal/Documents/Research/DataScience/MedicalResearch/mgmt/Data/Original_Data_Backup/MGMT_negative/BraTS2021_00009/BraTS2021_00009_flair.nii.gz'\n",
    "image_path_seg = '/Users/vitthal/Documents/Research/DataScience/MedicalResearch/mgmt/Data/Original_Data_Backup/MGMT_negative/BraTS2021_00009/BraTS2021_00009_seg.nii.gz'\n"
   ]
  },
  {
   "cell_type": "code",
   "execution_count": 12,
   "id": "7441a6e5",
   "metadata": {},
   "outputs": [],
   "source": [
    "image_obj_t1 = nib.load(image_path_t1)\n",
    "image_obj_t2 = nib.load(image_path_t2)\n",
    "image_obj_t1ce = nib.load(image_path_t1ce)\n",
    "image_obj_flair = nib.load(image_path_flair)\n",
    "image_obj_seg = nib.load(image_path_seg)"
   ]
  },
  {
   "cell_type": "code",
   "execution_count": 13,
   "id": "1922bb59",
   "metadata": {},
   "outputs": [],
   "source": [
    "image_data_t1 = image_obj_t1.get_fdata()\n",
    "image_data_t2 = image_obj_t2.get_fdata()\n",
    "image_data_t1ce = image_obj_t1ce.get_fdata()\n",
    "image_data_flair = image_obj_flair.get_fdata()\n",
    "image_data_seg = image_obj_seg.get_fdata()"
   ]
  },
  {
   "cell_type": "code",
   "execution_count": 14,
   "id": "f0b950a1",
   "metadata": {},
   "outputs": [
    {
     "data": {
      "text/plain": [
       "(240, 240, 155)"
      ]
     },
     "execution_count": 14,
     "metadata": {},
     "output_type": "execute_result"
    }
   ],
   "source": [
    "image_data_t1.shape"
   ]
  },
  {
   "cell_type": "code",
   "execution_count": 15,
   "id": "a93bcb02",
   "metadata": {},
   "outputs": [
    {
     "data": {
      "text/plain": [
       "numpy.ndarray"
      ]
     },
     "execution_count": 15,
     "metadata": {},
     "output_type": "execute_result"
    }
   ],
   "source": [
    "type(image_data_seg[:,:,0])"
   ]
  },
  {
   "cell_type": "code",
   "execution_count": 16,
   "id": "f72a4c14",
   "metadata": {},
   "outputs": [],
   "source": [
    "height, width, depth = image_data_seg.shape"
   ]
  },
  {
   "cell_type": "code",
   "execution_count": 17,
   "id": "973c75b3",
   "metadata": {},
   "outputs": [
    {
     "data": {
      "text/plain": [
       "155"
      ]
     },
     "execution_count": 17,
     "metadata": {},
     "output_type": "execute_result"
    }
   ],
   "source": [
    "depth"
   ]
  },
  {
   "cell_type": "code",
   "execution_count": 18,
   "id": "246a861b",
   "metadata": {},
   "outputs": [
    {
     "data": {
      "application/vnd.jupyter.widget-view+json": {
       "model_id": "2cab1ec8e1d04280a4a21c9c26e79154",
       "version_major": 2,
       "version_minor": 0
      },
      "text/plain": [
       "interactive(children=(IntSlider(value=77, description='layer', max=154), Output()), _dom_classes=('widget-inte…"
      ]
     },
     "metadata": {},
     "output_type": "display_data"
    },
    {
     "data": {
      "text/plain": [
       "<function __main__.explore_3d_image(layer)>"
      ]
     },
     "execution_count": 18,
     "metadata": {},
     "output_type": "execute_result"
    }
   ],
   "source": [
    "def explore_3d_image(layer):\n",
    "    plt.figure(figsize=(10,15))\n",
    "    plt.imshow(image_data_t1[:,:, layer], cmap = 'gray')\n",
    "    plt.title('Brain image layer visualization')\n",
    "    plt.axis('off')\n",
    "    return layer\n",
    "\n",
    "interact(explore_3d_image, layer=(0, image_data_t1.shape[2]-1))"
   ]
  },
  {
   "cell_type": "code",
   "execution_count": 19,
   "id": "cddede2f",
   "metadata": {},
   "outputs": [
    {
     "data": {
      "application/vnd.jupyter.widget-view+json": {
       "model_id": "ce4f68c4948444fe925775acfbf77ede",
       "version_major": 2,
       "version_minor": 0
      },
      "text/plain": [
       "interactive(children=(IntSlider(value=77, description='layer', max=154), Output()), _dom_classes=('widget-inte…"
      ]
     },
     "metadata": {},
     "output_type": "display_data"
    },
    {
     "data": {
      "text/plain": [
       "<function __main__.explore_3d_image(layer)>"
      ]
     },
     "execution_count": 19,
     "metadata": {},
     "output_type": "execute_result"
    }
   ],
   "source": [
    "def explore_3d_image(layer):\n",
    "    plt.figure(figsize=(10,15))\n",
    "    plt.imshow(image_data_t2[:,:, layer], cmap = 'gray')\n",
    "    plt.title('Brain image layer visualization')\n",
    "    plt.axis('off')\n",
    "    return layer\n",
    "\n",
    "interact(explore_3d_image, layer=(0, image_data_t2.shape[2]-1))"
   ]
  },
  {
   "cell_type": "code",
   "execution_count": 20,
   "id": "ed8ec1f2",
   "metadata": {},
   "outputs": [
    {
     "data": {
      "application/vnd.jupyter.widget-view+json": {
       "model_id": "2bc2bc0d4ec448fa821136ecb6f4740f",
       "version_major": 2,
       "version_minor": 0
      },
      "text/plain": [
       "interactive(children=(IntSlider(value=77, description='layer', max=154), Output()), _dom_classes=('widget-inte…"
      ]
     },
     "metadata": {},
     "output_type": "display_data"
    },
    {
     "data": {
      "text/plain": [
       "<function __main__.explore_3d_image(layer)>"
      ]
     },
     "execution_count": 20,
     "metadata": {},
     "output_type": "execute_result"
    }
   ],
   "source": [
    "def explore_3d_image(layer):\n",
    "    plt.figure(figsize=(10,15))\n",
    "    plt.imshow(image_data_t1ce[:,:, layer], cmap = 'gray')\n",
    "    plt.title('Brain image layer visualization')\n",
    "    plt.axis('off')\n",
    "    return layer\n",
    "\n",
    "interact(explore_3d_image, layer=(0, image_data_t1ce.shape[2]-1))"
   ]
  },
  {
   "cell_type": "code",
   "execution_count": 27,
   "id": "5b18e086",
   "metadata": {},
   "outputs": [
    {
     "data": {
      "application/vnd.jupyter.widget-view+json": {
       "model_id": "502f699e03194c4aac3e480c0eb1550c",
       "version_major": 2,
       "version_minor": 0
      },
      "text/plain": [
       "interactive(children=(IntSlider(value=77, description='layer', max=154), Output()), _dom_classes=('widget-inte…"
      ]
     },
     "metadata": {},
     "output_type": "display_data"
    },
    {
     "data": {
      "text/plain": [
       "<function __main__.explore_3d_image(layer)>"
      ]
     },
     "execution_count": 27,
     "metadata": {},
     "output_type": "execute_result"
    }
   ],
   "source": [
    "def explore_3d_image(layer):\n",
    "    plt.figure(figsize=(10,15))\n",
    "    plt.imshow(image_data_flair[:,:, layer], cmap = 'gray')\n",
    "    plt.title('Brain image layer visualization')\n",
    "    plt.axis('off')\n",
    "    return layer\n",
    "\n",
    "interact(explore_3d_image, layer=(0, image_data_flair.shape[2]-1))"
   ]
  },
  {
   "cell_type": "code",
   "execution_count": 22,
   "id": "50a57093",
   "metadata": {
    "scrolled": true
   },
   "outputs": [
    {
     "data": {
      "application/vnd.jupyter.widget-view+json": {
       "model_id": "c332329f6c354952a855df67f930e1aa",
       "version_major": 2,
       "version_minor": 0
      },
      "text/plain": [
       "interactive(children=(IntSlider(value=77, description='layer', max=154), Output()), _dom_classes=('widget-inte…"
      ]
     },
     "metadata": {},
     "output_type": "display_data"
    },
    {
     "data": {
      "text/plain": [
       "<function __main__.explore_3d_image(layer)>"
      ]
     },
     "execution_count": 22,
     "metadata": {},
     "output_type": "execute_result"
    }
   ],
   "source": [
    "def explore_3d_image(layer):\n",
    "    plt.figure(figsize=(10,15))\n",
    "    plt.imshow(image_data_seg[:,:, layer], cmap = 'gray')\n",
    "    plt.title('Brain image layer visualization')\n",
    "    plt.axis('off')\n",
    "    return layer\n",
    "\n",
    "interact(explore_3d_image, layer=(0, image_data_seg.shape[2]-1))"
   ]
  },
  {
   "cell_type": "code",
   "execution_count": 23,
   "id": "6926b18f",
   "metadata": {},
   "outputs": [],
   "source": [
    "tumor = np.multiply(image_data_flair, image_data_seg)"
   ]
  },
  {
   "cell_type": "code",
   "execution_count": 24,
   "id": "d845af90",
   "metadata": {},
   "outputs": [
    {
     "name": "stdout",
     "output_type": "stream",
     "text": [
      "(240, 240, 155)\n"
     ]
    }
   ],
   "source": [
    "print(tumor.shape)"
   ]
  },
  {
   "cell_type": "code",
   "execution_count": 25,
   "id": "1b5e44a6",
   "metadata": {},
   "outputs": [
    {
     "data": {
      "application/vnd.jupyter.widget-view+json": {
       "model_id": "e8868e409a9b44edbe4656228cfbaf9b",
       "version_major": 2,
       "version_minor": 0
      },
      "text/plain": [
       "interactive(children=(IntSlider(value=77, description='layer', max=154), Output()), _dom_classes=('widget-inte…"
      ]
     },
     "metadata": {},
     "output_type": "display_data"
    },
    {
     "data": {
      "text/plain": [
       "<function __main__.explore_3d_image(layer)>"
      ]
     },
     "execution_count": 25,
     "metadata": {},
     "output_type": "execute_result"
    }
   ],
   "source": [
    "def explore_3d_image(layer):\n",
    "    plt.figure(figsize=(10,15))\n",
    "    plt.imshow(tumor[:,:, layer], cmap = 'gray')\n",
    "    plt.title('Brain tumor image layer visualization')\n",
    "    plt.axis('off')\n",
    "    return layer\n",
    "\n",
    "interact(explore_3d_image, layer=(0, tumor.shape[2]-1))"
   ]
  }
 ],
 "metadata": {
  "interpreter": {
   "hash": "1b9603ab75704494434c4abe56997ef3bb46c839483ec68f7dba80f8b5009106"
  },
  "kernelspec": {
   "display_name": "Python 3.10.6 ('base')",
   "language": "python",
   "name": "python3"
  },
  "language_info": {
   "codemirror_mode": {
    "name": "ipython",
    "version": 3
   },
   "file_extension": ".py",
   "mimetype": "text/x-python",
   "name": "python",
   "nbconvert_exporter": "python",
   "pygments_lexer": "ipython3",
   "version": "3.10.6"
  }
 },
 "nbformat": 4,
 "nbformat_minor": 5
}
