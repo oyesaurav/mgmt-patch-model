{
 "cells": [
  {
   "cell_type": "code",
<<<<<<< Updated upstream
   "execution_count": 1,
=======
   "execution_count": 41,
>>>>>>> Stashed changes
   "id": "136633d8",
   "metadata": {},
   "outputs": [
    {
     "name": "stdout",
     "output_type": "stream",
     "text": [
      "/Users/vitthal/Documents/Research/DataScience/MedicalResearch/mgmt\n"
     ]
    }
   ],
   "source": [
    "%cd /Users/vitthal/Documents/Research/DataScience/MedicalResearch/mgmt/"
   ]
  },
  {
   "cell_type": "code",
<<<<<<< Updated upstream
   "execution_count": 2,
=======
   "execution_count": 42,
>>>>>>> Stashed changes
   "id": "40d15bad",
   "metadata": {},
   "outputs": [],
   "source": [
    "path = '/Users/vitthal/Documents/Research/DataScience/MedicalResearch/mgmt/'\n",
    "block_h, block_w = (32,32)\n",
    "Case_Num = 5  # Creating Number of classes"
   ]
  },
  {
   "cell_type": "code",
<<<<<<< Updated upstream
   "execution_count": 3,
=======
   "execution_count": 43,
>>>>>>> Stashed changes
   "id": "7724eb80",
   "metadata": {},
   "outputs": [],
   "source": [
    "# Function Definition --> For reading the Images and append it to a list\n",
    "\n",
    "\n",
    "def Reading_Data():\n",
    "    from tqdm import tqdm \n",
    "    import cv2  # Used for Images processing.\n",
    "    import shutil\n",
    "    class_num = 0\n",
    "    workdir=os.listdir(Work_Dir)\n",
    "    if '.DS_Store' in workdir:\n",
    "        workdir.remove('.DS_Store')\n",
    "    for category in workdir:\n",
    "        Category_Path = os.path.join(Work_Dir, category + '/')\n",
    "        print(Category_Path)\n",
    "        print(class_num)\n",
    "        categorydir = os.listdir(Category_Path)\n",
    "        print(categorydir)\n",
    "        if '.DS_Store' in categorydir:\n",
    "            categorydir.remove('.DS_Store')\n",
    "        print(categorydir)\n",
    "        for patient in categorydir:\n",
    "            Patient_Path = os.path.join(Category_Path, patient + '/')\n",
    "            for img in os.listdir(Patient_Path):  # listing all images present in the category folder.\n",
    "                try:\n",
    "                    img_array = cv2.imread(os.path.join(Patient_Path, img), cv2.IMREAD_GRAYSCALE)\n",
    "                    data.append([img_array, class_num])  # Saving images with their corresponding class labels.\n",
    "                except Exception as e:\n",
    "                    print(e)\n",
    "        class_num = 1\n",
    "        shutil.rmtree(Category_Path)"
   ]
  },
  {
   "cell_type": "code",
<<<<<<< Updated upstream
   "execution_count": 4,
=======
   "execution_count": 44,
>>>>>>> Stashed changes
   "id": "21a02cb5",
   "metadata": {},
   "outputs": [],
   "source": [
    "# Function Defination --> For Initilizing all features & labels of the processed image in the list X & Y\n",
    "\n",
    "def Initilizing_Featues_Labels():\n",
    "    for features, label in data:\n",
    "        X.append(features)\n",
    "        y.append(label)\n",
    "\n",
    "    print('List Size: ', len(X), len(y))"
   ]
  },
  {
   "cell_type": "code",
<<<<<<< Updated upstream
   "execution_count": 5,
=======
   "execution_count": 45,
>>>>>>> Stashed changes
   "id": "c4afa161",
   "metadata": {},
   "outputs": [],
   "source": [
    "# Function Defination --> Converting List into Numpy Array for faster calculation & it also take less space.\n",
    "\n",
    "def Converting(block_h, block_w):\n",
    "    import numpy as np  # Used for array operations.\n",
    "    global X, y\n",
    "    \n",
    "    X = np.array(X).reshape(-1, block_h, block_w, 1)  # -1 is added to solve dimension mismatch while converting list to an array.\n",
    "    y = np.array(y)\n",
    "    \n",
    "    print('Array Size with Reshape: ', len(X), len(y))\n",
    "    print('Array Shape with Reshape: ', X.shape, y.shape)"
   ]
  },
  {
   "cell_type": "code",
<<<<<<< Updated upstream
   "execution_count": 6,
=======
   "execution_count": 46,
>>>>>>> Stashed changes
   "id": "e7bf7462",
   "metadata": {},
   "outputs": [],
   "source": [
    "# Function Definition --> For Storing Preprocessed data in the file.\n",
    "\n",
    "def Storing_Preprocessed_data(X_train, X_test, y_train, y_test, case_number):\n",
    "    import pickle  # To save the data or Trained Deep learning model in the File.\n",
    "    \n",
    "    # Storing Features & Labels\n",
    "    pickle_out = open(Work_Dir + 'Case_{}'.format(case_number) + '/X_train.pickle', 'wb')\n",
    "    pickle.dump(X_train, pickle_out)  # Storing Training Features\n",
    "    pickle_out.close()\n",
    "    \n",
    "    pickle_out = open(Work_Dir + 'Case_{}'.format(case_number) + '/X_test.pickle', 'wb')\n",
    "    pickle.dump(X_test, pickle_out)  # Storing testing Features\n",
    "    pickle_out.close()\n",
    "    \n",
    "    pickle_out = open(Work_Dir + 'Case_{}'.format(case_number) + '/y_train.pickle', 'wb')\n",
    "    pickle.dump(y_train, pickle_out)  # Storing Training Labels\n",
    "    pickle_out.close()\n",
    "    \n",
    "    pickle_out = open(Work_Dir + 'Case_{}'.format(case_number) + '/y_test.pickle', 'wb')\n",
    "    pickle.dump(y_test, pickle_out)  # Storing testing Labels\n",
    "    pickle_out.close()"
   ]
  },
  {
   "cell_type": "code",
<<<<<<< Updated upstream
   "execution_count": 7,
=======
   "execution_count": 47,
>>>>>>> Stashed changes
   "id": "20823e14",
   "metadata": {},
   "outputs": [],
   "source": [
    "# Function Definition --> Dividing Datasets into number of cases for Cross Validation\n",
    "\n",
    "def Creating_Cases(Case_Num):\n",
    "    import shutil\n",
    "    import os\n",
    "    from sklearn.model_selection import KFold\n",
    "    from sklearn.model_selection import RepeatedKFold\n",
    "\n",
    "    for case in range(Case_Num):\n",
    "        CASES.append('Case_'+ str(case + 1))\n",
    "\n",
    "    # Creating Cases\n",
    "    try:\n",
    "        for case in CASES:\n",
    "            os.mkdir(Work_Dir + case)\n",
    "    except Exception as e:\n",
    "        pass\n",
    "\n",
    "    kf = KFold(n_splits=5)\n",
    "    case_number = 1\n",
    "    for train_index, test_index in kf.split(X):\n",
    "        \n",
    "        #print(\"TRAIN:\", train_index, \"TEST:\", test_index)\n",
    "        X_train, X_test = X[train_index], X[test_index]\n",
    "        y_train, y_test = y[train_index], y[test_index]\n",
    "        \n",
    "        Storing_Preprocessed_data(X_train, X_test, y_train, y_test, case_number)\n",
    "        \n",
    "        case_number = case_number + 1"
   ]
  },
  {
   "cell_type": "code",
<<<<<<< Updated upstream
   "execution_count": 8,
=======
   "execution_count": 48,
>>>>>>> Stashed changes
   "id": "1450e7e2",
   "metadata": {},
   "outputs": [
    {
     "name": "stdout",
     "output_type": "stream",
     "text": [
      "/Users/vitthal/Documents/Research/DataScience/MedicalResearch/mgmt/Data/UPENN/Working_Data/MGMT_positive/\n",
      "0\n",
      "['UPENN-GBM-00588_11', 'UPENN-GBM-00310_11', 'UPENN-GBM-00351_11', 'UPENN-GBM-00598_11', 'UPENN-GBM-00371_11', 'UPENN-GBM-00392_11', '.DS_Store', 'UPENN-GBM-00344_11', 'UPENN-GBM-00360_11', 'UPENN-GBM-00498_11', 'UPENN-GBM-00350_11', 'UPENN-GBM-00608_11', 'UPENN-GBM-00488_11', 'UPENN-GBM-00520_11', 'UPENN-GBM-00514_11', 'UPENN-GBM-00555_11', 'UPENN-GBM-00504_11', 'UPENN-GBM-00444_11', 'UPENN-GBM-00530_11', 'UPENN-GBM-00592_11', 'UPENN-GBM-00388_11', 'UPENN-GBM-00401_11', 'UPENN-GBM-00586_11', 'UPENN-GBM-00524_11', 'UPENN-GBM-00425_11', 'UPENN-GBM-00565_11', 'UPENN-GBM-00474_11', 'UPENN-GBM-00534_11', 'UPENN-GBM-00607_11', 'UPENN-GBM-00551_11', 'UPENN-GBM-00540_11', 'UPENN-GBM-00496_11', 'UPENN-GBM-00424_11', 'UPENN-GBM-00564_11', 'UPENN-GBM-00606_11', 'UPENN-GBM-00399_11', 'UPENN-GBM-00430_11', 'UPENN-GBM-00521_11', 'UPENN-GBM-00461_11', 'UPENN-GBM-00455_11', 'UPENN-GBM-00404_11', 'UPENN-GBM-00544_11', 'UPENN-GBM-00554_11', 'UPENN-GBM-00414_11', 'UPENN-GBM-00445_11', 'UPENN-GBM-00420_11', 'UPENN-GBM-00602_11', 'UPENN-GBM-00512_11', 'UPENN-GBM-00403_11', 'UPENN-GBM-00526_11', 'UPENN-GBM-00594_11', 'UPENN-GBM-00536_11', 'UPENN-GBM-00567_11', 'UPENN-GBM-00553_11', 'UPENN-GBM-00442_11', 'UPENN-GBM-00580_11', 'UPENN-GBM-00407_11', 'UPENN-GBM-00516_11', 'UPENN-GBM-00506_11', 'UPENN-GBM-00446_11', 'UPENN-GBM-00557_11', 'UPENN-GBM-00481_11', 'UPENN-GBM-00423_11', 'UPENN-GBM-00532_11', 'UPENN-GBM-00359_11', 'UPENN-GBM-00406_11', 'UPENN-GBM-00546_11', 'UPENN-GBM-00556_11', 'UPENN-GBM-00358_11', 'UPENN-GBM-00378_11', 'UPENN-GBM-00453_11', 'UPENN-GBM-00494_11', 'UPENN-GBM-00595_11', 'UPENN-GBM-00566_11', 'UPENN-GBM-00412_11', 'UPENN-GBM-00443_11', 'UPENN-GBM-00518_11', 'UPENN-GBM-00409_11', 'UPENN-GBM-00380_11', 'UPENN-GBM-00363_11', 'UPENN-GBM-00559_11', 'UPENN-GBM-00579_11', 'UPENN-GBM-00439_11', 'UPENN-GBM-00377_11', 'UPENN-GBM-00302_11', 'UPENN-GBM-00569_11', 'UPENN-GBM-00538_11', 'UPENN-GBM-00469_11', 'UPENN-GBM-00578_11', 'UPENN-GBM-00438_11', 'UPENN-GBM-00395_11', 'UPENN-GBM-00568_11', 'UPENN-GBM-00539_11', 'UPENN-GBM-00381_11', 'UPENN-GBM-00356_11', 'UPENN-GBM-00418_11', 'UPENN-GBM-00509_11']\n",
      "['UPENN-GBM-00588_11', 'UPENN-GBM-00310_11', 'UPENN-GBM-00351_11', 'UPENN-GBM-00598_11', 'UPENN-GBM-00371_11', 'UPENN-GBM-00392_11', 'UPENN-GBM-00344_11', 'UPENN-GBM-00360_11', 'UPENN-GBM-00498_11', 'UPENN-GBM-00350_11', 'UPENN-GBM-00608_11', 'UPENN-GBM-00488_11', 'UPENN-GBM-00520_11', 'UPENN-GBM-00514_11', 'UPENN-GBM-00555_11', 'UPENN-GBM-00504_11', 'UPENN-GBM-00444_11', 'UPENN-GBM-00530_11', 'UPENN-GBM-00592_11', 'UPENN-GBM-00388_11', 'UPENN-GBM-00401_11', 'UPENN-GBM-00586_11', 'UPENN-GBM-00524_11', 'UPENN-GBM-00425_11', 'UPENN-GBM-00565_11', 'UPENN-GBM-00474_11', 'UPENN-GBM-00534_11', 'UPENN-GBM-00607_11', 'UPENN-GBM-00551_11', 'UPENN-GBM-00540_11', 'UPENN-GBM-00496_11', 'UPENN-GBM-00424_11', 'UPENN-GBM-00564_11', 'UPENN-GBM-00606_11', 'UPENN-GBM-00399_11', 'UPENN-GBM-00430_11', 'UPENN-GBM-00521_11', 'UPENN-GBM-00461_11', 'UPENN-GBM-00455_11', 'UPENN-GBM-00404_11', 'UPENN-GBM-00544_11', 'UPENN-GBM-00554_11', 'UPENN-GBM-00414_11', 'UPENN-GBM-00445_11', 'UPENN-GBM-00420_11', 'UPENN-GBM-00602_11', 'UPENN-GBM-00512_11', 'UPENN-GBM-00403_11', 'UPENN-GBM-00526_11', 'UPENN-GBM-00594_11', 'UPENN-GBM-00536_11', 'UPENN-GBM-00567_11', 'UPENN-GBM-00553_11', 'UPENN-GBM-00442_11', 'UPENN-GBM-00580_11', 'UPENN-GBM-00407_11', 'UPENN-GBM-00516_11', 'UPENN-GBM-00506_11', 'UPENN-GBM-00446_11', 'UPENN-GBM-00557_11', 'UPENN-GBM-00481_11', 'UPENN-GBM-00423_11', 'UPENN-GBM-00532_11', 'UPENN-GBM-00359_11', 'UPENN-GBM-00406_11', 'UPENN-GBM-00546_11', 'UPENN-GBM-00556_11', 'UPENN-GBM-00358_11', 'UPENN-GBM-00378_11', 'UPENN-GBM-00453_11', 'UPENN-GBM-00494_11', 'UPENN-GBM-00595_11', 'UPENN-GBM-00566_11', 'UPENN-GBM-00412_11', 'UPENN-GBM-00443_11', 'UPENN-GBM-00518_11', 'UPENN-GBM-00409_11', 'UPENN-GBM-00380_11', 'UPENN-GBM-00363_11', 'UPENN-GBM-00559_11', 'UPENN-GBM-00579_11', 'UPENN-GBM-00439_11', 'UPENN-GBM-00377_11', 'UPENN-GBM-00302_11', 'UPENN-GBM-00569_11', 'UPENN-GBM-00538_11', 'UPENN-GBM-00469_11', 'UPENN-GBM-00578_11', 'UPENN-GBM-00438_11', 'UPENN-GBM-00395_11', 'UPENN-GBM-00568_11', 'UPENN-GBM-00539_11', 'UPENN-GBM-00381_11', 'UPENN-GBM-00356_11', 'UPENN-GBM-00418_11', 'UPENN-GBM-00509_11']\n",
      "/Users/vitthal/Documents/Research/DataScience/MedicalResearch/mgmt/Data/UPENN/Working_Data/MGMT_negative/\n",
      "1\n",
      "['UPENN-GBM-00499_11', 'UPENN-GBM-00375_11', 'UPENN-GBM-00147_11', 'UPENN-GBM-00609_11', 'UPENN-GBM-00489_11', 'UPENN-GBM-00136_11', 'UPENN-GBM-00244_11', 'UPENN-GBM-00304_11', 'UPENN-GBM-00143_11', 'UPENN-GBM-00370_11', '.DS_Store', 'UPENN-GBM-00354_11', 'UPENN-GBM-00393_11', 'UPENN-GBM-00282_11', 'UPENN-GBM-00387_11', 'UPENN-GBM-00146_11', 'UPENN-GBM-00301_11', 'UPENN-GBM-00599_11', 'UPENN-GBM-00493_11', 'UPENN-GBM-00431_11', 'UPENN-GBM-00460_11', 'UPENN-GBM-00454_11', 'UPENN-GBM-00405_11', 'UPENN-GBM-00415_11', 'UPENN-GBM-00470_11', 'UPENN-GBM-00421_11', 'UPENN-GBM-00483_11', 'UPENN-GBM-00464_11', 'UPENN-GBM-00575_11', 'UPENN-GBM-00435_11', 'UPENN-GBM-00487_11', 'UPENN-GBM-00596_11', 'UPENN-GBM-00500_11', 'UPENN-GBM-00411_11', 'UPENN-GBM-00398_11', 'UPENN-GBM-00149_11', 'UPENN-GBM-00587_11', 'UPENN-GBM-00525_11', 'UPENN-GBM-00574_11', 'UPENN-GBM-00434_11', 'UPENN-GBM-00475_11', 'UPENN-GBM-00535_11', 'UPENN-GBM-00486_11', 'UPENN-GBM-00597_11', 'UPENN-GBM-00410_11', 'UPENN-GBM-00148_11', 'UPENN-GBM-00139_11', 'UPENN-GBM-00492_11', 'UPENN-GBM-00583_11', 'UPENN-GBM-00570_11', 'UPENN-GBM-00515_11', 'UPENN-GBM-00505_11', 'UPENN-GBM-00471_11', 'UPENN-GBM-00531_11', 'UPENN-GBM-00560_11', 'UPENN-GBM-00593_11', 'UPENN-GBM-00482_11', 'UPENN-GBM-00379_11', 'UPENN-GBM-00452_11', 'UPENN-GBM-00495_11', 'UPENN-GBM-00584_11', 'UPENN-GBM-00605_11', 'UPENN-GBM-00476_11', 'UPENN-GBM-00413_11', 'UPENN-GBM-00502_11', 'UPENN-GBM-00369_11', 'UPENN-GBM-00522_11', 'UPENN-GBM-00462_11', 'UPENN-GBM-00547_11', 'UPENN-GBM-00456_11', 'UPENN-GBM-00590_11', 'UPENN-GBM-00563_11', 'UPENN-GBM-00523_11', 'UPENN-GBM-00463_11', 'UPENN-GBM-00572_11', 'UPENN-GBM-00432_11', 'UPENN-GBM-00581_11', 'UPENN-GBM-00490_11', 'UPENN-GBM-00457_11', 'UPENN-GBM-00517_11', 'UPENN-GBM-00447_11', 'UPENN-GBM-00416_11', 'UPENN-GBM-00480_11', 'UPENN-GBM-00591_11', 'UPENN-GBM-00562_11', 'UPENN-GBM-00473_11', 'UPENN-GBM-00533_11', 'UPENN-GBM-00513_11', 'UPENN-GBM-00402_11', 'UPENN-GBM-00576_11', 'UPENN-GBM-00436_11', 'UPENN-GBM-00527_11', 'UPENN-GBM-00585_11', 'UPENN-GBM-00604_11', 'UPENN-GBM-00484_11', 'UPENN-GBM-00537_11', 'UPENN-GBM-00426_11', 'UPENN-GBM-00552_11', 'UPENN-GBM-00368_11', 'UPENN-GBM-00458_11', 'UPENN-GBM-00549_11', 'UPENN-GBM-00262_11', 'UPENN-GBM-00373_11', 'UPENN-GBM-00151_11', 'UPENN-GBM-00316_11', 'UPENN-GBM-00134_11', 'UPENN-GBM-00246_11', 'UPENN-GBM-00390_11', 'UPENN-GBM-00141_11', 'UPENN-GBM-00419_11', 'UPENN-GBM-00508_11', 'UPENN-GBM-00448_11', 'UPENN-GBM-00528_11', 'UPENN-GBM-00312_11', 'UPENN-GBM-00384_11', 'UPENN-GBM-00145_11', 'UPENN-GBM-00336_11', 'UPENN-GBM-00367_11', 'UPENN-GBM-00529_11', 'UPENN-GBM-00376_11', 'UPENN-GBM-00267_11', 'UPENN-GBM-00294_11', 'UPENN-GBM-00385_11', 'UPENN-GBM-00144_11', 'UPENN-GBM-00352_11', 'UPENN-GBM-00428_11', 'UPENN-GBM-00479_11', 'UPENN-GBM-00459_11', 'UPENN-GBM-00519_11', 'UPENN-GBM-00408_11', 'UPENN-GBM-00150_11', 'UPENN-GBM-00290_11', 'UPENN-GBM-00391_11', 'UPENN-GBM-00140_11', 'UPENN-GBM-00362_11', 'UPENN-GBM-00558_11', 'UPENN-GBM-00449_11']\n",
      "['UPENN-GBM-00499_11', 'UPENN-GBM-00375_11', 'UPENN-GBM-00147_11', 'UPENN-GBM-00609_11', 'UPENN-GBM-00489_11', 'UPENN-GBM-00136_11', 'UPENN-GBM-00244_11', 'UPENN-GBM-00304_11', 'UPENN-GBM-00143_11', 'UPENN-GBM-00370_11', 'UPENN-GBM-00354_11', 'UPENN-GBM-00393_11', 'UPENN-GBM-00282_11', 'UPENN-GBM-00387_11', 'UPENN-GBM-00146_11', 'UPENN-GBM-00301_11', 'UPENN-GBM-00599_11', 'UPENN-GBM-00493_11', 'UPENN-GBM-00431_11', 'UPENN-GBM-00460_11', 'UPENN-GBM-00454_11', 'UPENN-GBM-00405_11', 'UPENN-GBM-00415_11', 'UPENN-GBM-00470_11', 'UPENN-GBM-00421_11', 'UPENN-GBM-00483_11', 'UPENN-GBM-00464_11', 'UPENN-GBM-00575_11', 'UPENN-GBM-00435_11', 'UPENN-GBM-00487_11', 'UPENN-GBM-00596_11', 'UPENN-GBM-00500_11', 'UPENN-GBM-00411_11', 'UPENN-GBM-00398_11', 'UPENN-GBM-00149_11', 'UPENN-GBM-00587_11', 'UPENN-GBM-00525_11', 'UPENN-GBM-00574_11', 'UPENN-GBM-00434_11', 'UPENN-GBM-00475_11', 'UPENN-GBM-00535_11', 'UPENN-GBM-00486_11', 'UPENN-GBM-00597_11', 'UPENN-GBM-00410_11', 'UPENN-GBM-00148_11', 'UPENN-GBM-00139_11', 'UPENN-GBM-00492_11', 'UPENN-GBM-00583_11', 'UPENN-GBM-00570_11', 'UPENN-GBM-00515_11', 'UPENN-GBM-00505_11', 'UPENN-GBM-00471_11', 'UPENN-GBM-00531_11', 'UPENN-GBM-00560_11', 'UPENN-GBM-00593_11', 'UPENN-GBM-00482_11', 'UPENN-GBM-00379_11', 'UPENN-GBM-00452_11', 'UPENN-GBM-00495_11', 'UPENN-GBM-00584_11', 'UPENN-GBM-00605_11', 'UPENN-GBM-00476_11', 'UPENN-GBM-00413_11', 'UPENN-GBM-00502_11', 'UPENN-GBM-00369_11', 'UPENN-GBM-00522_11', 'UPENN-GBM-00462_11', 'UPENN-GBM-00547_11', 'UPENN-GBM-00456_11', 'UPENN-GBM-00590_11', 'UPENN-GBM-00563_11', 'UPENN-GBM-00523_11', 'UPENN-GBM-00463_11', 'UPENN-GBM-00572_11', 'UPENN-GBM-00432_11', 'UPENN-GBM-00581_11', 'UPENN-GBM-00490_11', 'UPENN-GBM-00457_11', 'UPENN-GBM-00517_11', 'UPENN-GBM-00447_11', 'UPENN-GBM-00416_11', 'UPENN-GBM-00480_11', 'UPENN-GBM-00591_11', 'UPENN-GBM-00562_11', 'UPENN-GBM-00473_11', 'UPENN-GBM-00533_11', 'UPENN-GBM-00513_11', 'UPENN-GBM-00402_11', 'UPENN-GBM-00576_11', 'UPENN-GBM-00436_11', 'UPENN-GBM-00527_11', 'UPENN-GBM-00585_11', 'UPENN-GBM-00604_11', 'UPENN-GBM-00484_11', 'UPENN-GBM-00537_11', 'UPENN-GBM-00426_11', 'UPENN-GBM-00552_11', 'UPENN-GBM-00368_11', 'UPENN-GBM-00458_11', 'UPENN-GBM-00549_11', 'UPENN-GBM-00262_11', 'UPENN-GBM-00373_11', 'UPENN-GBM-00151_11', 'UPENN-GBM-00316_11', 'UPENN-GBM-00134_11', 'UPENN-GBM-00246_11', 'UPENN-GBM-00390_11', 'UPENN-GBM-00141_11', 'UPENN-GBM-00419_11', 'UPENN-GBM-00508_11', 'UPENN-GBM-00448_11', 'UPENN-GBM-00528_11', 'UPENN-GBM-00312_11', 'UPENN-GBM-00384_11', 'UPENN-GBM-00145_11', 'UPENN-GBM-00336_11', 'UPENN-GBM-00367_11', 'UPENN-GBM-00529_11', 'UPENN-GBM-00376_11', 'UPENN-GBM-00267_11', 'UPENN-GBM-00294_11', 'UPENN-GBM-00385_11', 'UPENN-GBM-00144_11', 'UPENN-GBM-00352_11', 'UPENN-GBM-00428_11', 'UPENN-GBM-00479_11', 'UPENN-GBM-00459_11', 'UPENN-GBM-00519_11', 'UPENN-GBM-00408_11', 'UPENN-GBM-00150_11', 'UPENN-GBM-00290_11', 'UPENN-GBM-00391_11', 'UPENN-GBM-00140_11', 'UPENN-GBM-00362_11', 'UPENN-GBM-00558_11', 'UPENN-GBM-00449_11']\n",
      "Length of the total data: 847975\n",
<<<<<<< Updated upstream
      "1 0 0 0 0 1 1 0 0 0 0 1 0 1 1 1 0 1 0 1 0 0 0 1 0 1 1 0 0 1 1 1 1 1 1 1 0 1 0 1 1 1 1 1 1 1 1 1 1 1 List Size:  847975 847975\n",
=======
      "0 1 1 1 1 1 1 1 0 1 0 1 1 1 1 0 1 0 1 1 0 1 1 1 0 0 1 0 1 1 1 1 0 1 0 0 1 0 0 0 0 0 0 1 1 1 1 1 0 1 List Size:  847975 847975\n",
>>>>>>> Stashed changes
      "Array Size with Reshape:  847975 847975\n",
      "Array Shape with Reshape:  (847975, 32, 32, 1) (847975,)\n",
      "Done..!!\n"
     ]
    }
   ],
   "source": [
    "# All Function Calls\n",
    "import os\n",
    "import random\n",
    "import numpy as np  # Used for array operations.\n",
    "import pickle\n",
    "\n",
    "PATH = path + 'Data/UPENN/'\n",
    "Work_Dir = PATH + 'Working_Data/'\n",
    "\n",
    "# Calling Functions:\n",
    "\n",
    "# Creating list for storing processed data\n",
    "data = []\n",
    "\n",
    "# Function Call --> For reading the Images and append it to a list\n",
    "Reading_Data()\n",
    "\n",
    "# Printing Length of the total data.\n",
    "print('Length of the total data: ' + str(len(data)))\n",
    "\n",
    "# Randomly Shuffling and printing data for unbiased model.\n",
    "random.shuffle(data)\n",
    "for sample in data[:50]:\n",
    "    print(sample[1], end=' ')\n",
    "\n",
    "# Initilizing all features & labels of the processed image in the list X & Y.\n",
    "X = []\n",
    "y = []\n",
    "\n",
    "# Function Call --> For Initilizing all features & labels of the processed image in the list X & Y\n",
    "Initilizing_Features_Labels()\n",
    "\n",
    "# Function Call --> For Converting List into Numpy Array for faster calculation & it also take less space.\n",
    "Converting(block_h, block_w)\n",
    "\n",
    "# Function Call --> Dividing Datasets into number of cases for Cross Validation\n",
    "CASES = []\n",
    "Creating_Cases(Case_Num)\n",
    "\n",
    "os.chdir(PATH)\n",
    "print('Done..!!')"
   ]
  }
 ],
 "metadata": {
  "interpreter": {
   "hash": "31f2aee4e71d21fbe5cf8b01ff0e069b9275f58929596ceb00d14d90e3e16cd6"
  },
  "kernelspec": {
   "display_name": "Python 3.8.9 64-bit",
   "language": "python",
   "name": "python3"
  },
  "language_info": {
   "codemirror_mode": {
    "name": "ipython",
    "version": 3
   },
   "file_extension": ".py",
   "mimetype": "text/x-python",
   "name": "python",
   "nbconvert_exporter": "python",
   "pygments_lexer": "ipython3",
   "version": "3.8.9"
  }
 },
 "nbformat": 4,
 "nbformat_minor": 5
}
