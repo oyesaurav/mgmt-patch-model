{
 "cells": [
  {
   "cell_type": "code",
   "execution_count": 2,
   "metadata": {},
   "outputs": [],
   "source": [
    "import cv2 as cv\n",
    "import numpy as np\n",
    "import matplotlib.pyplot as plt"
   ]
  },
  {
   "cell_type": "code",
   "execution_count": 3,
   "metadata": {},
   "outputs": [
    {
     "data": {
      "text/plain": [
       "<matplotlib.image.AxesImage at 0x1d8e8599f40>"
      ]
     },
     "execution_count": 3,
     "metadata": {},
     "output_type": "execute_result"
    },
    {
     "data": {
      "image/png": "[encoded data removed]",
      "text/plain": [
       "<Figure size 640x480 with 1 Axes>"
      ]
     },
     "metadata": {},
     "output_type": "display_data"
    }
   ],
   "source": [
    "img = cv.imread(r'D:\\MGMT research project\\Images\\seg\\UPENN-GBM-00095_11_T1_112.png',cv.IMREAD_GRAYSCALE)\n",
    "# img = cv.cvtColor(img, cv.COLOR_RGB2GRAY)\n",
    "plt.imshow(img)"
   ]
  },
  {
   "cell_type": "code",
   "execution_count": 4,
   "metadata": {},
   "outputs": [
    {
     "data": {
      "text/plain": [
       "<matplotlib.image.AxesImage at 0x1d8ea814bb0>"
      ]
     },
     "execution_count": 4,
     "metadata": {},
     "output_type": "execute_result"
    },
    {
     "data": {
      "image/png": "[encoded data removed]",
      "text/plain": [
       "<Figure size 640x480 with 1 Axes>"
      ]
     },
     "metadata": {},
     "output_type": "display_data"
    }
   ],
   "source": [
    "_, binary_image = cv.threshold(img, 0, 255, cv.THRESH_BINARY)\n",
    "n_labels, labels, stats, centroids = cv.connectedComponentsWithStats(binary_image, connectivity=8)\n",
    "plt.imshow(labels)"
   ]
  },
  {
   "cell_type": "code",
   "execution_count": 145,
   "metadata": {},
   "outputs": [
    {
     "data": {
      "text/plain": [
       "(11, 22)"
      ]
     },
     "execution_count": 145,
     "metadata": {},
     "output_type": "execute_result"
    }
   ],
   "source": [
    "indices = np.where(labels==1)\n",
    "r_max = indices[0].max()\n",
    "r_min = indices[0].min()\n",
    "c_min = indices[1].min()\n",
    "c_max = indices[1].max()\n",
    "labels[r_min:r_max+1,c_min:c_max+1].shape\n",
    "# plt.imshow(labels[r_min:r_max+1,c_min:c_max+1])"
   ]
  },
  {
   "cell_type": "code",
   "execution_count": 146,
   "metadata": {},
   "outputs": [
    {
     "data": {
      "text/plain": [
       "(126,)"
      ]
     },
     "execution_count": 146,
     "metadata": {},
     "output_type": "execute_result"
    }
   ],
   "source": [
    "indices[0].shape"
   ]
  },
  {
   "cell_type": "code",
   "execution_count": 137,
   "metadata": {},
   "outputs": [
    {
     "data": {
      "text/plain": [
       "(240, 240)"
      ]
     },
     "execution_count": 137,
     "metadata": {},
     "output_type": "execute_result"
    }
   ],
   "source": [
    ".shape"
   ]
  },
  {
   "cell_type": "code",
   "execution_count": 136,
   "metadata": {},
   "outputs": [
    {
     "data": {
      "text/plain": [
       "(array([120, 120, 121, 121, 122, 122, 122, 122, 122, 122, 122, 122, 122,\n",
       "        122, 123, 123, 123, 123, 123, 123, 123, 123, 123, 123, 123, 123,\n",
       "        123, 124, 124, 124, 124, 124, 124, 124, 124, 124, 124, 124, 124,\n",
       "        124, 124, 124, 125, 125, 125, 125, 125, 125, 125, 125, 125, 125,\n",
       "        125, 125, 125, 125, 125, 125, 125, 125, 125, 125, 125, 125, 126,\n",
       "        126, 126, 126, 126, 126, 126, 126, 126, 126, 126, 126, 126, 126,\n",
       "        126, 126, 126, 126, 126, 126, 126, 126, 126, 126, 126, 126, 126,\n",
       "        126, 126, 126, 126, 126, 126, 126, 126, 126, 126, 127, 127, 127,\n",
       "        127, 127, 127, 127, 127, 127, 127, 127, 127, 127, 127, 127, 127,\n",
       "        127, 127, 127, 127, 127, 127, 127, 127, 127, 127, 127, 127, 127,\n",
       "        127, 127, 127, 127, 127, 127, 127, 127, 127, 127, 127, 128, 128,\n",
       "        128, 128, 128, 128, 128, 128, 128, 128, 128, 128, 128, 128, 128,\n",
       "        128, 128, 128, 128, 128, 128, 128, 128, 128, 128, 128, 128, 128,\n",
       "        128, 128, 128, 128, 128, 128, 128, 128, 128, 128, 128, 128, 128,\n",
       "        128, 128, 128, 128, 129, 129, 129, 129, 129, 129, 129, 129, 129,\n",
       "        129, 129, 129, 129, 129, 129, 129, 129, 129, 129, 129, 129, 129,\n",
       "        129, 129, 129, 129, 129, 129, 129, 129, 129, 129, 129, 129, 129,\n",
       "        129, 129, 129, 129, 129, 129, 129, 129, 129, 129, 130, 130, 130,\n",
       "        130, 130, 130, 130, 130, 130, 130, 130, 130, 130, 130, 130, 130,\n",
       "        130, 130, 130, 130, 130, 130, 130, 130, 130, 130, 130, 130, 130,\n",
       "        130, 130, 130, 130, 130, 130, 130, 130, 130, 130, 130, 130, 130,\n",
       "        130, 131, 131, 131, 131, 131, 131, 131, 131, 131, 131, 131, 131,\n",
       "        131, 131, 131, 131, 131, 131, 131, 131, 131, 131, 131, 131, 131,\n",
       "        131, 131, 131, 131, 131, 131, 131, 131, 131, 131, 131, 131, 131,\n",
       "        131, 131, 131, 131, 131, 131, 131, 132, 132, 132, 132, 132, 132,\n",
       "        132, 132, 132, 132, 132, 132, 132, 132, 132, 132, 132, 132, 132,\n",
       "        132, 132, 132, 132, 132, 132, 132, 132, 132, 132, 132, 132, 132,\n",
       "        132, 132, 132, 132, 132, 132, 132, 132, 132, 132, 132, 132, 132,\n",
       "        132, 132, 133, 133, 133, 133, 133, 133, 133, 133, 133, 133, 133,\n",
       "        133, 133, 133, 133, 133, 133, 133, 133, 133, 133, 133, 133, 133,\n",
       "        133, 133, 133, 133, 133, 133, 133, 133, 133, 133, 133, 133, 133,\n",
       "        133, 133, 133, 133, 133, 133, 133, 133, 133, 133, 133, 133, 133,\n",
       "        134, 134, 134, 134, 134, 134, 134, 134, 134, 134, 134, 134, 134,\n",
       "        134, 134, 134, 134, 134, 134, 134, 134, 134, 134, 134, 134, 134,\n",
       "        134, 134, 134, 134, 134, 134, 134, 134, 134, 134, 134, 134, 134,\n",
       "        134, 134, 134, 134, 134, 134, 134, 134, 134, 134, 134, 134, 134,\n",
       "        135, 135, 135, 135, 135, 135, 135, 135, 135, 135, 135, 135, 135,\n",
       "        135, 135, 135, 135, 135, 135, 135, 135, 135, 135, 135, 135, 135,\n",
       "        135, 135, 135, 135, 135, 135, 135, 135, 135, 135, 135, 135, 135,\n",
       "        135, 135, 135, 135, 135, 135, 135, 135, 135, 135, 135, 135, 135,\n",
       "        135, 135, 136, 136, 136, 136, 136, 136, 136, 136, 136, 136, 136,\n",
       "        136, 136, 136, 136, 136, 136, 136, 136, 136, 136, 136, 136, 136,\n",
       "        136, 136, 136, 136, 136, 136, 136, 136, 136, 136, 136, 136, 136,\n",
       "        136, 136, 136, 136, 136, 136, 136, 136, 136, 136, 136, 136, 136,\n",
       "        136, 136, 136, 136, 136, 136, 136, 136, 137, 137, 137, 137, 137,\n",
       "        137, 137, 137, 137, 137, 137, 137, 137, 137, 137, 137, 137, 137,\n",
       "        137, 137, 137, 137, 137, 137, 137, 137, 137, 137, 137, 137, 137,\n",
       "        137, 137, 137, 137, 137, 137, 137, 137, 137, 137, 137, 137, 137,\n",
       "        137, 137, 137, 137, 137, 137, 137, 137, 137, 137, 137, 137, 137,\n",
       "        138, 138, 138, 138, 138, 138, 138, 138, 138, 138, 138, 138, 138,\n",
       "        138, 138, 138, 138, 138, 138, 138, 138, 138, 138, 138, 138, 138,\n",
       "        138, 138, 138, 138, 138, 138, 138, 138, 138, 138, 138, 138, 138,\n",
       "        138, 138, 138, 138, 138, 138, 138, 138, 139, 139, 139, 139, 139,\n",
       "        139, 139, 139, 139, 139, 139, 139, 139, 139, 139, 139, 139, 139,\n",
       "        139, 139, 139, 139, 140, 140, 140, 140, 140, 140, 140, 140, 140,\n",
       "        140, 140, 141, 141, 141], dtype=int64),\n",
       " array([ 58,  59,  58,  59,  56,  57,  58,  59,  60,  73,  74,  75,  76,\n",
       "         77,  56,  57,  58,  59,  60,  61,  72,  73,  74,  75,  76,  77,\n",
       "         78,  56,  57,  58,  59,  60,  61,  71,  72,  73,  74,  75,  76,\n",
       "         77,  78,  79,  56,  57,  58,  59,  60,  61,  62,  70,  71,  72,\n",
       "         73,  74,  75,  76,  77,  78,  79,  80,  93,  94,  95,  96,  56,\n",
       "         57,  58,  59,  60,  61,  62,  69,  70,  71,  72,  73,  74,  75,\n",
       "         76,  77,  78,  79,  80,  81,  82,  83,  84,  85,  86,  87,  88,\n",
       "         89,  90,  91,  92,  93,  94,  95,  96,  97,  98,  57,  58,  59,\n",
       "         60,  61,  62,  63,  67,  68,  69,  70,  71,  72,  73,  74,  75,\n",
       "         76,  77,  78,  79,  80,  81,  82,  83,  84,  85,  86,  87,  88,\n",
       "         89,  90,  91,  92,  93,  94,  95,  96,  97,  98,  99,  57,  58,\n",
       "         59,  60,  61,  62,  63,  64,  65,  66,  67,  68,  69,  70,  71,\n",
       "         72,  73,  74,  75,  76,  77,  78,  79,  80,  81,  82,  83,  84,\n",
       "         85,  86,  87,  88,  89,  90,  91,  92,  93,  94,  95,  96,  97,\n",
       "         98,  99, 100, 101,  58,  59,  60,  61,  62,  63,  64,  65,  66,\n",
       "         67,  68,  69,  70,  71,  72,  73,  74,  75,  76,  77,  78,  79,\n",
       "         80,  81,  82,  83,  84,  85,  86,  87,  88,  89,  90,  91,  92,\n",
       "         93,  94,  95,  96,  97,  98,  99, 100, 101, 102,  61,  62,  63,\n",
       "         64,  65,  66,  67,  68,  69,  70,  71,  72,  73,  74,  75,  76,\n",
       "         77,  78,  79,  80,  81,  82,  83,  84,  85,  86,  87,  88,  89,\n",
       "         90,  91,  92,  93,  94,  95,  96,  97,  98,  99, 100, 101, 102,\n",
       "        103,  61,  62,  63,  64,  65,  66,  67,  68,  69,  70,  71,  72,\n",
       "         73,  74,  75,  76,  77,  78,  79,  80,  81,  82,  83,  84,  85,\n",
       "         86,  87,  88,  89,  90,  91,  92,  93,  94,  95,  96,  97,  98,\n",
       "         99, 100, 101, 102, 103, 104, 105,  61,  62,  63,  64,  65,  66,\n",
       "         67,  68,  69,  70,  71,  72,  73,  74,  75,  76,  77,  78,  79,\n",
       "         80,  81,  82,  83,  84,  85,  86,  87,  88,  89,  90,  91,  92,\n",
       "         93,  94,  95,  96,  97,  98,  99, 100, 101, 102, 103, 104, 105,\n",
       "        106, 107,  61,  62,  63,  64,  65,  66,  67,  68,  69,  70,  71,\n",
       "         72,  73,  74,  75,  76,  77,  78,  79,  80,  81,  82,  83,  84,\n",
       "         85,  86,  87,  88,  89,  90,  91,  92,  93,  94,  95,  96,  97,\n",
       "         98,  99, 100, 101, 102, 103, 104, 105, 106, 107, 108, 109, 110,\n",
       "         60,  61,  62,  63,  64,  65,  66,  67,  68,  69,  70,  71,  72,\n",
       "         73,  74,  75,  76,  77,  78,  79,  80,  81,  82,  83,  84,  85,\n",
       "         86,  87,  88,  89,  90,  91,  92,  93,  94,  95,  96,  97,  98,\n",
       "         99, 100, 101, 102, 103, 104, 105, 106, 107, 108, 109, 110, 111,\n",
       "         60,  61,  62,  63,  64,  65,  66,  67,  68,  69,  70,  71,  72,\n",
       "         73,  74,  75,  76,  77,  78,  79,  80,  81,  82,  83,  84,  85,\n",
       "         86,  87,  88,  89,  90,  91,  92,  93,  94,  95,  96,  97,  98,\n",
       "         99, 100, 101, 102, 103, 104, 105, 106, 107, 108, 109, 110, 111,\n",
       "        112, 113,  60,  61,  62,  63,  64,  65,  66,  67,  68,  69,  70,\n",
       "         71,  72,  73,  74,  75,  76,  77,  78,  79,  80,  81,  82,  83,\n",
       "         84,  85,  86,  87,  88,  89,  90,  91,  92,  93,  94,  95,  96,\n",
       "         97,  98,  99, 100, 101, 102, 103, 104, 105, 106, 107, 108, 109,\n",
       "        110, 111, 112, 113, 114, 115, 116, 117,  61,  62,  63,  64,  65,\n",
       "         66,  67,  68,  69,  70,  71,  72,  73,  74,  75,  76,  77,  78,\n",
       "         79,  80,  81,  82,  83,  84,  85,  86,  87,  88,  89,  90,  91,\n",
       "         92,  93,  94,  95,  96,  97,  98,  99, 100, 101, 102, 103, 104,\n",
       "        105, 106, 107, 108, 109, 110, 111, 112, 113, 114, 115, 116, 117,\n",
       "         61,  62,  63,  65,  66,  67,  68,  69,  70,  71,  72,  73,  74,\n",
       "         75,  76,  77,  78,  79,  80,  86,  87,  88,  89,  90,  91,  92,\n",
       "         93,  94,  95,  96,  97,  98,  99, 100, 101, 102, 103, 104, 109,\n",
       "        110, 111, 112, 113, 114, 115, 116, 117,  67,  68,  69,  70,  71,\n",
       "         76,  77,  78,  79,  88,  89,  90,  91,  92,  93,  94,  95,  96,\n",
       "         97,  98,  99, 100,  89,  90,  91,  92,  93,  94,  95,  96,  97,\n",
       "         98,  99,  90,  91,  92], dtype=int64))"
      ]
     },
     "execution_count": 136,
     "metadata": {},
     "output_type": "execute_result"
    }
   ],
   "source": [
    "indices"
   ]
  },
  {
   "cell_type": "code",
   "execution_count": null,
   "metadata": {},
   "outputs": [],
   "source": [
    "for i in range(1,n_labels):\n",
    "    "
   ]
  }
 ],
 "metadata": {
  "kernelspec": {
   "display_name": "tfgpu",
   "language": "python",
   "name": "python3"
  },
  "language_info": {
   "codemirror_mode": {
    "name": "ipython",
    "version": 3
   },
   "file_extension": ".py",
   "mimetype": "text/x-python",
   "name": "python",
   "nbconvert_exporter": "python",
   "pygments_lexer": "ipython3",
   "version": "3.9.17"
  }
 },
 "nbformat": 4,
 "nbformat_minor": 2
}
